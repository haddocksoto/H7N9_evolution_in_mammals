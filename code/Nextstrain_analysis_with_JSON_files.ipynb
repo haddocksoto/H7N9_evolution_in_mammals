{
 "cells": [
  {
   "cell_type": "code",
   "execution_count": 1,
   "metadata": {},
   "outputs": [],
   "source": [
    "import sys, subprocess, glob, os, shutil, re, importlib, csv, json\n",
    "from subprocess import call\n",
    "import collections\n",
    "from collections import Counter\n",
    "from Bio import SeqIO\n",
    "from Bio import Seq\n",
    "import Bio.Phylo\n",
    "import pandas as pd\n",
    "import numpy as np\n",
    "import rpy2\n",
    "from scipy import stats\n",
    "%reload_ext rpy2.ipython\n",
    "from io import BytesIO as csio\n",
    "import requests\n",
    "import matplotlib.pyplot as plt\n",
    "import matplotlib\n",
    "\n",
    "# we might not use all modules in this analysis"
   ]
  },
  {
   "cell_type": "code",
   "execution_count": 2,
   "metadata": {},
   "outputs": [],
   "source": [
    "segments = ['ha', 'pa', 'na', 'pb1', 'pb2', 'mp', 'ns', 'np']\n",
    "\n",
    "\n",
    "for file in segments:\n",
    "    links = ['http://data.nextstrain.org/flu_avian_h7n9_' + file + '.json']\n",
    "    \n",
    "    for link in links:\n",
    "        name = link.split(\"/\")[3].lower()\n",
    "        path = ['data/' + name]\n",
    "        tree_json=json.load(csio(requests.get(link).content))\n",
    "        tree_json_2 = tree_json['tree']\n",
    "        out_file = open(name, \"w\")\n",
    "        json.dump(tree_json_2, out_file, indent = 2) \n",
    "        out_file.close() \n",
    "        "
   ]
  },
  {
   "cell_type": "code",
   "execution_count": 3,
   "metadata": {},
   "outputs": [],
   "source": [
    "%%bash\n",
    "# creating a directory to store all json files (internal use only)\n",
    "\n",
    "rm -rf data/\n",
    "mkdir -p data/\n",
    "\n",
    "mv *.json data/"
   ]
  },
  {
   "cell_type": "code",
   "execution_count": 4,
   "metadata": {},
   "outputs": [],
   "source": [
    "# Alternative solution using link for just one json file provided by Louise Moncla, PhD\n",
    "\n",
    "json_url='http://data.nextstrain.org/flu_avian_h7n9_ha.json'\n",
    "\n",
    "\n",
    "tree_json=json.load(csio(requests.get(json_url).content))\n",
    "\n",
    "tree_json_2 = tree_json['tree']\n",
    "\n",
    "out_file = open(\"h7n9_tree.json\", \"w\") \n",
    "    \n",
    "json.dump(tree_json_2, out_file, indent = 2) \n",
    "    \n",
    "out_file.close() \n"
   ]
  },
  {
   "cell_type": "code",
   "execution_count": 5,
   "metadata": {},
   "outputs": [],
   "source": [
    "# function to read json file and store it in a variable \n",
    "\n",
    "def read_json(file_name):\n",
    "    try:\n",
    "        handle = open(file_name, 'r')\n",
    "    except IOError:\n",
    "        pass\n",
    "    else:\n",
    "        data = json.load(handle)\n",
    "        handle.close()\n",
    "    return data"
   ]
  },
  {
   "cell_type": "code",
   "execution_count": 6,
   "metadata": {},
   "outputs": [],
   "source": [
    "# reading the tree json file in V2 (different code is used for old V1 JSON format)\n",
    "\n",
    "def json_to_tree(json_dict, root=True):\n",
    "    # Check for v2 JSON which has combined metadata and tree data.\n",
    "    \n",
    "    if root and \"meta\" in json_dict and \"tree\" in json_dict:\n",
    "        json_dict = json_dict[\"tree\"]\n",
    "    \n",
    "    node = Bio.Phylo.Newick.Clade()\n",
    "    \n",
    "    if \"name\" in json_dict:\n",
    "        node.name = json_dict[\"name\"] #strain was changed to name from v1 to v2\n",
    "    else:\n",
    "        node.name = json_dict[\"strain\"]\n",
    "\n",
    "    if \"children\" in json_dict:\n",
    "        # Recursively add children to the current node.\n",
    "        node.clades = [json_to_tree(child, root=False) for child in json_dict[\"children\"]]\n",
    "\n",
    "    # Assign all non-children attributes.\n",
    "    for attr, value in json_dict.items():\n",
    "        if attr != \"children\":\n",
    "            setattr(node, attr, value)\n",
    "\n",
    "   # Only v1 JSONs support a single `attr` attribute.\n",
    "    if hasattr(node, \"attr\"):\n",
    "        node.numdate = node.attr.get(\"num_date\")\n",
    "        node.branch_length = node.attr.get(\"div\")\n",
    "\n",
    "        if \"translations\" in node.attr:\n",
    "            node.translations = node.attr[\"translations\"]\n",
    "    elif hasattr(node, \"node_attrs\"):\n",
    "        node.branch_length = node.node_attrs.get(\"div\")\n",
    "\n",
    "    if root:\n",
    "        node = annotate_parents(node)\n",
    "\n",
    "    return node"
   ]
  },
  {
   "cell_type": "code",
   "execution_count": 1,
   "metadata": {},
   "outputs": [],
   "source": [
    "# Annotations \n",
    "\n",
    "def annotate_parents(tree):\n",
    "    # Get all parent nodes by node.\n",
    "    parents_by_node = all_parents(tree)\n",
    "\n",
    "    # Next, annotate each node with its parent.\n",
    "    for node in tree.find_clades():\n",
    "        if node == tree.root:\n",
    "            node.up = None\n",
    "        else:\n",
    "            node.up = parents_by_node[node]\n",
    "\n",
    "    # Return the tree.\n",
    "    return tree\n",
    "\n",
    "def all_parents(tree):\n",
    "    parents = {}\n",
    "    for clade in tree.find_clades(order='level'):\n",
    "        for child in clade:\n",
    "            parents[child] = clade\n",
    "    return parents"
   ]
  },
  {
   "cell_type": "code",
   "execution_count": 9,
   "metadata": {},
   "outputs": [],
   "source": [
    "# Parsing thorugh tree in V2 (adapted from Louise Moncla, PhD)\n",
    "\n",
    "def parse_tree_and_return_muts(tree, gene): \n",
    "\n",
    "#lists to store aa mutations\n",
    "    avian_mutations = []\n",
    "    human_mutations = []\n",
    "    \n",
    "    for clade in tree.find_clades(): \n",
    "        tips_list = []\n",
    "        hosts_list = []\n",
    "        host_values = []\n",
    "        \n",
    "        for terminal in clade.get_terminals():\n",
    "            tips_list.append(terminal.name)\n",
    "            hosts_list.append(terminal.node_attrs['host'])\n",
    "            \n",
    "        for a_dict in hosts_list:\n",
    "            host_values.append(a_dict['value'])\n",
    "            \n",
    "            if set(host_values) == {\"Human\"}:\n",
    "                \n",
    "                up1_hosts_list = []\n",
    "                up1_temp_host = []\n",
    "                up1_tips_list = []\n",
    "                \n",
    "                for x in clade.up.get_terminals():\n",
    "                    up1_tips_list.append(x.name)\n",
    "                    up1_temp_host.append(x.node_attrs['host'])\n",
    "                    \n",
    "                for b_dict in up1_temp_host:\n",
    "                    up1_hosts_list.append(b_dict['value'])\n",
    "            \n",
    "                # if the node above contains not just human samples, then clade should be set to bird_to_human\n",
    "                if set(up1_hosts_list) == {'Human'} and 'mutations' in clade.branch_attrs and 'mutations' in clade.branch_attrs != {}:  \n",
    "                    if gene in clade.branch_attrs['mutations']:\n",
    "                        \n",
    "                        aa_muts = clade.branch_attrs['mutations']\n",
    "                        for mut in aa_muts[gene]:\n",
    "               \n",
    "                            human_mutations.append(mut)\n",
    "            \n",
    "                \n",
    "        for a_dict in hosts_list:\n",
    "            host_values.append(a_dict['value'])\n",
    "            \n",
    "            if set(host_values) == {\"Avian\"}:\n",
    "                \n",
    "                up2_hosts_list = []\n",
    "                up2_temp_host = []\n",
    "                up2_tips_list = []\n",
    "                \n",
    "                for x in clade.up.get_terminals():\n",
    "                    up2_tips_list.append(x.name)\n",
    "                    up2_temp_host.append(x.node_attrs['host'])\n",
    "                    \n",
    "                for b_dict in up2_temp_host:\n",
    "                    up2_hosts_list.append(b_dict['value'])\n",
    "            \n",
    "                # if the node above contains avan samples, then clade should be set to avian\n",
    "                if set(up2_hosts_list) == {'Avian'} and 'mutations' in clade.branch_attrs and 'mutations' in clade.branch_attrs != {}:  \n",
    "                    if gene in clade.branch_attrs['mutations']:\n",
    "                        \n",
    "                        aa_muts = clade.branch_attrs['mutations']\n",
    "                        for mut in aa_muts[gene]:\n",
    "               \n",
    "                            avian_mutations.append(mut)\n",
    "        \n",
    "    \n",
    "    return(avian_mutations, human_mutations)"
   ]
  },
  {
   "cell_type": "markdown",
   "metadata": {},
   "source": [
    "# Counting number of times each mutation occurrs in each list\n",
    "\n"
   ]
  },
  {
   "cell_type": "code",
   "execution_count": 10,
   "metadata": {},
   "outputs": [],
   "source": [
    "# For simplicity we change aa code format\n",
    "\n",
    "aa_dict = {\"A\":\"Ala\",\"R\":\"Arg\",\"N\":\"Asn\",\"D\":\"Asp\",\"C\":\"Cys\",\"Q\":\"Gln\",\"E\":\"Glu\",\"G\":\"Gly\",\"H\":\"His\",\n",
    "           \"I\":\"Ile\",\"L\":\"Leu\",\"K\":\"Lys\",\"M\":\"Met\",\"F\":\"Phe\",\"P\":\"Pro\",\"S\":\"Ser\",\"T\":\"Thr\",\"W\":\"Trp\",\n",
    "           \"Y\":\"Tyr\",\"V\":\"Val\", \"*\":\"stop\"}\n"
   ]
  },
  {
   "cell_type": "code",
   "execution_count": 11,
   "metadata": {},
   "outputs": [],
   "source": [
    "def convert_aa_changes(bb, hh):\n",
    "    bb2 = []\n",
    "    #bh2 = []\n",
    "    hh2 = []\n",
    "    \n",
    "    for a in bb:\n",
    "        # convert aa symbols to 3-letter abbreviations\n",
    "        first_aa = a[0]\n",
    "        new_first = aa_dict[first_aa]\n",
    "        last_aa = a[-1]\n",
    "        new_last = aa_dict[last_aa]\n",
    "        a = a.replace(first_aa, new_first)\n",
    "        a = a.replace(last_aa, new_last)\n",
    "        bb2.append(a)  \n",
    "#    for a in bh:\n",
    "#        # convert aa symbols to 3-letter abbreviations\n",
    "#        first_aa = a[0]\n",
    "#        new_first = aa_dict[first_aa]\n",
    "#        last_aa = a[-1]\n",
    "#        new_last = aa_dict[last_aa]\n",
    "#        a = a.replace(first_aa, new_first)\n",
    "#        a = a.replace(last_aa, new_last)\n",
    "#        bh2.append(a)\n",
    "    for a in hh:\n",
    "        # convert aa symbols to 3-letter abbreviations\n",
    "        first_aa = a[0]\n",
    "        new_first = aa_dict[first_aa]\n",
    "        last_aa = a[-1]\n",
    "        new_last = aa_dict[last_aa]\n",
    "        a = a.replace(first_aa, new_first)\n",
    "        a = a.replace(last_aa, new_last)\n",
    "        hh2.append(a)\n",
    "        \n",
    "    return(bb2, bh2, hh2)"
   ]
  },
  {
   "cell_type": "code",
   "execution_count": 12,
   "metadata": {},
   "outputs": [],
   "source": [
    "def return_SNP_counts(bb, hh):\n",
    "    \n",
    "    # use Counter to count the number of times each amino acid change is detected in each list; print total unique SNPs\n",
    "    #bird_to_bird_count = Counter(bird_to_bird)\n",
    "    bird = Counter(avian_mutations)\n",
    "    human = Counter(human_mutations)\n",
    "    \n",
    "    # get a complete list of all of the SNPs identified\n",
    "    all_SNPs = set(avian_mutations + human_mutations)\n",
    "    \n",
    "    # loop through and count how many times each SNP occurs in each dataset \n",
    "    all_counts = {}\n",
    "\n",
    "    for a in all_SNPs:\n",
    "                \n",
    "        if a in bird:\n",
    "            bird_snp = bird[a]\n",
    "        else:\n",
    "            bird_snp = 0\n",
    "\n",
    "        if a in human:\n",
    "            human_snp = human[a]   \n",
    "        else:\n",
    "            human_snp = 0\n",
    "\n",
    "\n",
    "        all_counts[a] = {\"bird_snp\":bird_snp, \"human_snp\": human_snp}\n",
    "    return(all_counts)"
   ]
  },
  {
   "cell_type": "code",
   "execution_count": 13,
   "metadata": {},
   "outputs": [],
   "source": [
    "def generate_dataframe(all_counts, gene, df):\n",
    "    df1 = pd.DataFrame.from_dict(all_counts, orient='index')\n",
    "    df1 = df1.reset_index()\n",
    "    df1.columns=['coding_region_change','avian_mutations','human_mutations']\n",
    "    df1['gene'] = gene\n",
    "    df = df.append(df1)\n",
    "    return(df)"
   ]
  },
  {
   "cell_type": "markdown",
   "metadata": {},
   "source": [
    "# Running functions across JSON files"
   ]
  },
  {
   "cell_type": "code",
   "execution_count": 14,
   "metadata": {},
   "outputs": [],
   "source": [
    "df = pd.DataFrame()\n",
    "\n",
    "for f in glob.glob(\"data/flu_avian_h7n9_*.json\"):\n",
    "    tree = read_json(f)\n",
    "    tree = json_to_tree(tree)\n",
    "    #gene = f.split(\"/\")[-1].split(\"_\")[3].upper()\n",
    "    gene = f.split(\"_\")[3].upper()\n",
    "    gene = gene.split(\".\")[0].upper()\n",
    "    \n",
    "    if gene != \"MP\" and gene != \"NS\":\n",
    "        # run everything\n",
    "        avian_mutations, human_mutations = parse_tree_and_return_muts(tree, gene)\n",
    "        #bird_to_bird, bird_to_human, human_to_human = convert_aa_changes(bird_to_bird, bird_to_human, human_to_human)\n",
    "        all_counts = return_SNP_counts(avian_mutations, human_mutations)\n",
    "        df = generate_dataframe(all_counts, gene, df)\n",
    "        \n",
    "    elif gene == \"MP\":\n",
    "        genes = [\"M1\",\"M2\"]\n",
    "        for g in genes: \n",
    "            avian_mutations, human_mutations  = parse_tree_and_return_muts(tree, g)\n",
    "#            #bird_to_bird, bird_to_human, human_to_human = convert_aa_changes(bird_to_bird, bird_to_human, human_to_human)\n",
    "            all_counts = return_SNP_counts(avian_mutations, human_mutations )\n",
    "            df = generate_dataframe(all_counts, g, df)\n",
    "#    \n",
    "    elif gene == \"NS\":\n",
    "        genes = [\"NS1\",\"NS2\"]\n",
    "        for g in genes: \n",
    "            avian_mutations, human_mutations  = parse_tree_and_return_muts(tree, g)\n",
    "            #bird_to_bird, bird_to_human, human_to_human = convert_aa_changes(bird_to_bird, bird_to_human, human_to_human)\n",
    "            all_counts = return_SNP_counts(avian_mutations, human_mutations )\n",
    "            df = generate_dataframe(all_counts, g, df)"
   ]
  },
  {
   "cell_type": "code",
   "execution_count": 16,
   "metadata": {
    "scrolled": false
   },
   "outputs": [],
   "source": [
    "df['gene'] = df['gene'].fillna(0)\n",
    "df['site'] = df['gene'] + \" \" + df['coding_region_change']\n",
    "df.to_csv('full_nextstrain_mutations_table.tsv', sep='\\t')\n",
    "df.head(60)\n",
    "df_HA = df[df['gene'] == 'HA']\n",
    "df_HA.to_csv('HA_nextstrain_mutations_table.tsv', sep='\\t')"
   ]
  },
  {
   "cell_type": "code",
   "execution_count": 17,
   "metadata": {},
   "outputs": [
    {
     "data": {
      "text/plain": [
       "array(['HA', 'PA', 'NA', 'PB1', 'PB2', 'M1', 'M2', 'NS1', 'NS2', 'NP'],\n",
       "      dtype=object)"
      ]
     },
     "execution_count": 17,
     "metadata": {},
     "output_type": "execute_result"
    }
   ],
   "source": [
    "# confirming gene segments\n",
    "\n",
    "df['gene'].unique()"
   ]
  },
  {
   "cell_type": "code",
   "execution_count": 3,
   "metadata": {},
   "outputs": [
    {
     "name": "stdout",
     "output_type": "stream",
     "text": [
      "Success!!! 🙏🏻\n"
     ]
    }
   ],
   "source": [
    "print('Success!!! 🙏🏻')"
   ]
  }
 ],
 "metadata": {
  "kernelspec": {
   "display_name": "Python 3",
   "language": "python",
   "name": "python3"
  },
  "language_info": {
   "codemirror_mode": {
    "name": "ipython",
    "version": 3
   },
   "file_extension": ".py",
   "mimetype": "text/x-python",
   "name": "python",
   "nbconvert_exporter": "python",
   "pygments_lexer": "ipython3",
   "version": "3.8.5"
  }
 },
 "nbformat": 4,
 "nbformat_minor": 4
}
