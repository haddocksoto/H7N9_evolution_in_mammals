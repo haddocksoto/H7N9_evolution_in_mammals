{
 "cells": [
  {
   "cell_type": "markdown",
   "metadata": {},
   "source": [
    "# iSNV counting  \n",
    "\n",
    "**Date**: written 2021-04-20    \n",
    "**Author**: Katarina Braun \n",
    "\n",
    "\n",
    "## Overview\n",
    "- Interrogate cleaned, intersection iSNV files (produced by the data_cleaning_and_intersection notebook) to count iSNVs\n",
    "-  Total number of unique iSNVs \n",
    "- Total number of unique iSNVs within each virus group \n",
    "- Average number of unique iSNVs per ferret (across available timepoints) \n",
    "- Average number of iSNVs at each time point, divided by index and contact. \n",
    "- Average number of iSNVs in index ferrets (across all available time points) vs contact timepoint (across available timepoints) \n",
    " \n",
    "\n",
    "### a note about numbering schemes \n",
    "\n",
    "For H7N9, I used H7 numbering. This numbering scheme matches the numbering scheme on Nextstrain (https://nextstrain.org/).  \n",
    "For H1N1pdm, I use H1 numbering. Again, this numbering scheme matches the numbering scheme on Nextstrain. For clarity, I start counting amino acids at nucleotide #51, AA #18 (D). \n",
    " \n",
    "\n",
    "## Input: \n",
    "\n",
    "- annotated VCF files that Sniffles outputs: `H7N9/data_derived/iSNVs/vcfs-intersection/*`\n",
    "\n",
    "## Output: \n",
    "\n",
    "- iSNV counts (printed within this notebook) \n",
    "- iSNV count plots (over time): `H7N9/figures/iSNV-counts/*`\n",
    " \n"
   ]
  },
  {
   "cell_type": "markdown",
   "metadata": {},
   "source": [
    "### import modules and dependencies"
   ]
  },
  {
   "cell_type": "code",
   "execution_count": 2,
   "metadata": {},
   "outputs": [],
   "source": [
    "import pandas as pd\n",
    "import numpy as np\n",
    "from sklearn.decomposition import PCA\n",
    "from sklearn import preprocessing\n",
    "import matplotlib.pyplot as plt\n",
    "import glob\n",
    "import os\n",
    "from matplotlib import pyplot\n",
    "import matplotlib.pyplot as plt\n",
    "from pathlib import Path\n",
    "from os.path import splitext\n",
    "from functools import reduce\n",
    "from pandas.api.types import is_numeric_dtype\n",
    "import warnings\n",
    "from pandas.core.common import SettingWithCopyWarning\n",
    "from matplotlib.font_manager import FontProperties \n",
    "from matplotlib import cm\n",
    "import itertools\n",
    "from matplotlib import container\n",
    "from matplotlib import gridspec\n",
    "from matplotlib.patches import Patch\n",
    "from matplotlib.lines import Line2D\n",
    "import matplotlib.lines as mlines\n",
    "import matplotlib as mpl\n",
    "from pandas.plotting import table\n",
    "import seaborn as sns\n",
    "from scipy import stats\n",
    "\n",
    "\n",
    "from matplotlib.lines import Line2D\n",
    "import matplotlib.patches as mpatches"
   ]
  },
  {
   "cell_type": "markdown",
   "metadata": {},
   "source": [
    "## total iSNVs"
   ]
  },
  {
   "cell_type": "code",
   "execution_count": 4,
   "metadata": {},
   "outputs": [],
   "source": [
    "# load all text files in a directory into Pandas dataframes \n",
    "def load_intersection_dataframes(path):\n",
    "    filelist = [os.path.splitext(file)[0] for file in os.listdir(path) if file.endswith('_intersection.csv')]\n",
    "    list_of_DFs = []\n",
    "    for file in filelist:\n",
    "        DF = path + '/' + file + '.csv'\n",
    "        file = pd.read_csv(DF, header=0, sep='\\t', low_memory=False)\n",
    "        file = file[file['%'] <= 0.99]\n",
    "        list_of_DFs.append(file)\n",
    "#     print(filelist)\n",
    "    return(list_of_DFs)"
   ]
  },
  {
   "cell_type": "code",
   "execution_count": 5,
   "metadata": {},
   "outputs": [
    {
     "name": "stdout",
     "output_type": "stream",
     "text": [
      "Number of unique iSNVs across all ferrets and timepoints  867\n",
      "Number of syn iSNVs  482\n",
      "Number of stop iSNVs  3\n",
      "Number of nonsyn iSNVs  382\n"
     ]
    }
   ],
   "source": [
    "a = load_intersection_dataframes('../data_derived/vcfs-intersection')\n",
    "all_intersection_dataframes = pd.concat(a, axis=0) # concat all dataframes \n",
    "\n",
    "all_intersection_dataframes\n",
    "all_intersection_dataframes = all_intersection_dataframes.drop_duplicates(['SNP'], keep='first')\n",
    "all_intersection_dataframes.to_csv('../data_derived/iSNV-counts/all-iSNVs.csv', sep='\\t')\n",
    "\n",
    "print('Number of unique iSNVs across all ferrets and timepoints ', len(all_intersection_dataframes))\n",
    "\n",
    "all_iSNVs = len(all_intersection_dataframes)\n",
    "syn = all_intersection_dataframes.SNP.str.count('_syn').sum()\n",
    "stop = all_intersection_dataframes.SNP.str.count('\\*').sum()\n",
    "\n",
    "print('Number of syn iSNVs ', all_intersection_dataframes.SNP.str.count('_syn').sum())\n",
    "print('Number of stop iSNVs ', all_intersection_dataframes.SNP.str.count('\\*').sum())\n",
    "print('Number of nonsyn iSNVs ', all_iSNVs - stop - syn)"
   ]
  },
  {
   "cell_type": "markdown",
   "metadata": {},
   "source": [
    "## iSNVs by virus group"
   ]
  },
  {
   "cell_type": "code",
   "execution_count": 6,
   "metadata": {},
   "outputs": [
    {
     "name": "stdout",
     "output_type": "stream",
     "text": [
      "Number of unique iSNVs across all ferrets and timepoints in the Anhui group  438\n",
      "Number of syn iSNVs  273\n",
      "Number of stop iSNVs  0\n",
      "Number of nonsyn iSNVs  165\n"
     ]
    }
   ],
   "source": [
    "# load all text files in a directory into Pandas dataframes \n",
    "def load_intersection_dataframes(path):\n",
    "    filelist = [os.path.splitext(file)[0] for file in os.listdir(path) if file.startswith('Anhui')]\n",
    "    list_of_DFs = []\n",
    "    for file in filelist:\n",
    "        DF = path + '/' + file + '.csv'\n",
    "        file = pd.read_csv(DF, header=0, sep='\\t', low_memory=False)\n",
    "        file = file[file['%'] <= 0.99]\n",
    "        list_of_DFs.append(file)\n",
    "#     print(filelist)\n",
    "    return(list_of_DFs)\n",
    "\n",
    "a = load_intersection_dataframes('../data_derived/vcfs-intersection')\n",
    "all_intersection_dataframes = pd.concat(a, axis=0) # concat all dataframes \n",
    "\n",
    "all_intersection_dataframes\n",
    "all_intersection_dataframes = all_intersection_dataframes.drop_duplicates(['SNP'], keep='first')\n",
    "\n",
    "all_intersection_dataframes.to_csv('../data_derived/iSNV-counts/Anhui-iSNVs.csv', sep='\\t')\n",
    "\n",
    "print('Number of unique iSNVs across all ferrets and timepoints in the Anhui group ', len(all_intersection_dataframes))\n",
    "\n",
    "all_iSNVs = len(all_intersection_dataframes)\n",
    "syn = all_intersection_dataframes.SNP.str.count('_syn').sum()\n",
    "stop = all_intersection_dataframes.SNP.str.count('\\*').sum()\n",
    "\n",
    "print('Number of syn iSNVs ', all_intersection_dataframes.SNP.str.count('_syn').sum())\n",
    "print('Number of stop iSNVs ', all_intersection_dataframes.SNP.str.count('\\*').sum())\n",
    "print('Number of nonsyn iSNVs ', all_iSNVs - stop - syn)"
   ]
  },
  {
   "cell_type": "code",
   "execution_count": 7,
   "metadata": {},
   "outputs": [
    {
     "name": "stdout",
     "output_type": "stream",
     "text": [
      "Number of unique iSNVs across all ferrets and timepoints in the CA04 group  115\n",
      "Number of syn iSNVs  41\n",
      "Number of stop iSNVs  0\n",
      "Number of nonsyn iSNVs  74\n"
     ]
    }
   ],
   "source": [
    "# load all text files in a directory into Pandas dataframes \n",
    "def load_intersection_dataframes(path):\n",
    "    filelist = [os.path.splitext(file)[0] for file in os.listdir(path) if file.startswith('CA04')]\n",
    "    list_of_DFs = []\n",
    "    for file in filelist:\n",
    "        DF = path + '/' + file + '.csv'\n",
    "        file = pd.read_csv(DF, header=0, sep='\\t', low_memory=False)\n",
    "        file = file[file['%'] <= 0.99]\n",
    "        list_of_DFs.append(file)\n",
    "#     print(filelist)\n",
    "    return(list_of_DFs)\n",
    "\n",
    "a = load_intersection_dataframes('../data_derived/vcfs-intersection')\n",
    "all_intersection_dataframes = pd.concat(a, axis=0) # concat all dataframes \n",
    "\n",
    "all_intersection_dataframes\n",
    "all_intersection_dataframes = all_intersection_dataframes.drop_duplicates(['SNP'], keep='first')\n",
    "all_intersection_dataframes.to_csv('../data_derived/iSNV-counts/CA04-iSNVs.csv', sep='\\t')\n",
    "\n",
    "print('Number of unique iSNVs across all ferrets and timepoints in the CA04 group ', len(all_intersection_dataframes))\n",
    "\n",
    "all_iSNVs = len(all_intersection_dataframes)\n",
    "syn = all_intersection_dataframes.SNP.str.count('_syn').sum()\n",
    "stop = all_intersection_dataframes.SNP.str.count('\\*').sum()\n",
    "\n",
    "print('Number of syn iSNVs ', all_intersection_dataframes.SNP.str.count('_syn').sum())\n",
    "print('Number of stop iSNVs ', all_intersection_dataframes.SNP.str.count('\\*').sum())\n",
    "print('Number of nonsyn iSNVs ', all_iSNVs - stop - syn)"
   ]
  },
  {
   "cell_type": "code",
   "execution_count": 8,
   "metadata": {},
   "outputs": [
    {
     "name": "stdout",
     "output_type": "stream",
     "text": [
      "Number of unique iSNVs across all ferrets and timepoints in the GD3 group  237\n",
      "Number of syn iSNVs  140\n",
      "Number of stop iSNVs  2\n",
      "Number of nonsyn iSNVs  95\n"
     ]
    }
   ],
   "source": [
    "# load all text files in a directory into Pandas dataframes \n",
    "def load_intersection_dataframes(path):\n",
    "    filelist = [os.path.splitext(file)[0] for file in os.listdir(path) if file.startswith('GD3')]\n",
    "    list_of_DFs = []\n",
    "    for file in filelist:\n",
    "        DF = path + '/' + file + '.csv'\n",
    "        file = pd.read_csv(DF, header=0, sep='\\t', low_memory=False)\n",
    "        file = file[file['%'] <= 0.99]\n",
    "        list_of_DFs.append(file)\n",
    "#     print(filelist)\n",
    "    return(list_of_DFs)\n",
    "\n",
    "a = load_intersection_dataframes('../data_derived/vcfs-intersection')\n",
    "all_intersection_dataframes = pd.concat(a, axis=0) # concat all dataframes \n",
    "\n",
    "all_intersection_dataframes\n",
    "all_intersection_dataframes = all_intersection_dataframes.drop_duplicates(['SNP'], keep='first')\n",
    "all_intersection_dataframes.to_csv('../data_derived/iSNV-counts/GD3-iSNVs.csv', sep='\\t')\n",
    "\n",
    "print('Number of unique iSNVs across all ferrets and timepoints in the GD3 group ', len(all_intersection_dataframes))\n",
    "\n",
    "all_iSNVs = len(all_intersection_dataframes)\n",
    "syn = all_intersection_dataframes.SNP.str.count('_syn').sum()\n",
    "stop = all_intersection_dataframes.SNP.str.count('\\*').sum()\n",
    "\n",
    "print('Number of syn iSNVs ', all_intersection_dataframes.SNP.str.count('_syn').sum())\n",
    "print('Number of stop iSNVs ', all_intersection_dataframes.SNP.str.count('\\*').sum())\n",
    "print('Number of nonsyn iSNVs ', all_iSNVs - stop - syn)"
   ]
  },
  {
   "cell_type": "code",
   "execution_count": 9,
   "metadata": {},
   "outputs": [
    {
     "name": "stdout",
     "output_type": "stream",
     "text": [
      "Number of unique iSNVs across all ferrets and timepoints in the rGD3 group  157\n",
      "Number of syn iSNVs  70\n",
      "Number of stop iSNVs  2\n",
      "Number of nonsyn iSNVs  85\n"
     ]
    }
   ],
   "source": [
    "# load all text files in a directory into Pandas dataframes \n",
    "def load_intersection_dataframes(path):\n",
    "    filelist = [os.path.splitext(file)[0] for file in os.listdir(path) if file.startswith('rGD3')]\n",
    "    list_of_DFs = []\n",
    "    for file in filelist:\n",
    "        DF = path + '/' + file + '.csv'\n",
    "        file = pd.read_csv(DF, header=0, sep='\\t', low_memory=False)\n",
    "        file = file[file['%'] <= 0.99]\n",
    "        list_of_DFs.append(file)\n",
    "#     print(filelist)\n",
    "    return(list_of_DFs)\n",
    "\n",
    "a = load_intersection_dataframes('../data_derived/vcfs-intersection')\n",
    "all_intersection_dataframes = pd.concat(a, axis=0) # concat all dataframes \n",
    "\n",
    "all_intersection_dataframes\n",
    "all_intersection_dataframes = all_intersection_dataframes.drop_duplicates(['SNP'], keep='first')\n",
    "all_intersection_dataframes.to_csv('../data_derived/iSNV-counts/rGD3-iSNVs.csv', sep='\\t')\n",
    "\n",
    "print('Number of unique iSNVs across all ferrets and timepoints in the rGD3 group ', len(all_intersection_dataframes))\n",
    "\n",
    "all_iSNVs = len(all_intersection_dataframes)\n",
    "syn = all_intersection_dataframes.SNP.str.count('_syn').sum()\n",
    "stop = all_intersection_dataframes.SNP.str.count('\\*').sum()\n",
    "\n",
    "print('Number of syn iSNVs ', all_intersection_dataframes.SNP.str.count('_syn').sum())\n",
    "print('Number of stop iSNVs ', all_intersection_dataframes.SNP.str.count('\\*').sum())\n",
    "print('Number of nonsyn iSNVs ', all_iSNVs - stop - syn)"
   ]
  },
  {
   "cell_type": "markdown",
   "metadata": {},
   "source": [
    "## iSNVs per ferret"
   ]
  },
  {
   "cell_type": "code",
   "execution_count": 10,
   "metadata": {},
   "outputs": [],
   "source": [
    "# load all text files in a directory into Pandas dataframes \n",
    "def load_intersection_dataframes(path, ferret):\n",
    "    filelist = [os.path.splitext(file)[0] for file in os.listdir(path) if file.startswith(ferret)]\n",
    "    list_of_DFs = []\n",
    "    for file in filelist:\n",
    "        DF = path + '/' + file + '.csv'\n",
    "        file = pd.read_csv(DF, header=0, sep='\\t', low_memory=False)\n",
    "        file = file[file['%'] <= 0.99]\n",
    "        list_of_DFs.append(file)\n",
    "    return(list_of_DFs)\n",
    "    \n",
    "def run_load_intersection_dataframes(ferret): \n",
    "    a = load_intersection_dataframes('../data_derived/vcfs-intersection', ferret)\n",
    "    all_intersection_dataframes = pd.concat(a, axis=0) # concat all dataframes \n",
    "    all_intersection_dataframes = all_intersection_dataframes.drop_duplicates(['SNP'], keep='first')\n",
    "    all_iSNVs = len(all_intersection_dataframes)\n",
    "    total = len(all_intersection_dataframes)\n",
    "    print(len(all_intersection_dataframes))\n",
    "    syn = all_intersection_dataframes.SNP.str.count('_syn').sum()\n",
    "    stop = all_intersection_dataframes.SNP.str.count('\\*').sum()\n",
    "    print('Number of syn iSNVs ', all_intersection_dataframes.SNP.str.count('_syn').sum())\n",
    "    print('Number of stop iSNVs ', all_intersection_dataframes.SNP.str.count('\\*').sum())\n",
    "    print('Number of nonsyn iSNVs ', all_iSNVs - stop - syn)\n",
    "    return(total)\n",
    "\n"
   ]
  },
  {
   "cell_type": "code",
   "execution_count": 11,
   "metadata": {},
   "outputs": [
    {
     "name": "stdout",
     "output_type": "stream",
     "text": [
      "165\n",
      "Number of syn iSNVs  96\n",
      "Number of stop iSNVs  0\n",
      "Number of nonsyn iSNVs  69\n"
     ]
    }
   ],
   "source": [
    "load_intersection_dataframes('../data_derived/vcfs-intersection', 'Anhui_ferret25')\n",
    "Anhui_ferret25 = run_load_intersection_dataframes('Anhui_ferret25')"
   ]
  },
  {
   "cell_type": "code",
   "execution_count": 12,
   "metadata": {},
   "outputs": [
    {
     "name": "stdout",
     "output_type": "stream",
     "text": [
      "186\n",
      "Number of syn iSNVs  103\n",
      "Number of stop iSNVs  0\n",
      "Number of nonsyn iSNVs  83\n"
     ]
    }
   ],
   "source": [
    "load_intersection_dataframes('../data_derived/vcfs-intersection', 'Anhui_ferret27')\n",
    "Anhui_ferret27 = run_load_intersection_dataframes('Anhui_ferret27')"
   ]
  },
  {
   "cell_type": "code",
   "execution_count": 13,
   "metadata": {},
   "outputs": [
    {
     "name": "stdout",
     "output_type": "stream",
     "text": [
      "85\n",
      "Number of syn iSNVs  67\n",
      "Number of stop iSNVs  0\n",
      "Number of nonsyn iSNVs  18\n"
     ]
    }
   ],
   "source": [
    "load_intersection_dataframes('../data_derived/vcfs-intersection', 'Anhui_ferret28')\n",
    "Anhui_ferret28 = run_load_intersection_dataframes('Anhui_ferret28')"
   ]
  },
  {
   "cell_type": "code",
   "execution_count": 14,
   "metadata": {},
   "outputs": [
    {
     "name": "stdout",
     "output_type": "stream",
     "text": [
      "195\n",
      "Number of syn iSNVs  117\n",
      "Number of stop iSNVs  0\n",
      "Number of nonsyn iSNVs  78\n"
     ]
    }
   ],
   "source": [
    "load_intersection_dataframes('../data_derived/vcfs-intersection', 'Anhui_ferret29')\n",
    "Anhui_ferret29 = run_load_intersection_dataframes('Anhui_ferret29')"
   ]
  },
  {
   "cell_type": "code",
   "execution_count": 15,
   "metadata": {},
   "outputs": [
    {
     "name": "stdout",
     "output_type": "stream",
     "text": [
      "130\n",
      "Number of syn iSNVs  74\n",
      "Number of stop iSNVs  0\n",
      "Number of nonsyn iSNVs  56\n"
     ]
    }
   ],
   "source": [
    "load_intersection_dataframes('../data_derived/vcfs-intersection', 'Anhui_ferret31')\n",
    "Anhui_ferret31 = run_load_intersection_dataframes('Anhui_ferret31')"
   ]
  },
  {
   "cell_type": "code",
   "execution_count": 16,
   "metadata": {},
   "outputs": [
    {
     "name": "stdout",
     "output_type": "stream",
     "text": [
      "13\n",
      "Number of syn iSNVs  3\n",
      "Number of stop iSNVs  0\n",
      "Number of nonsyn iSNVs  10\n"
     ]
    }
   ],
   "source": [
    "load_intersection_dataframes('../data_derived/vcfs-intersection', 'CA04_ferret1')\n",
    "CA04_ferret1 = run_load_intersection_dataframes('CA04_ferret1')"
   ]
  },
  {
   "cell_type": "code",
   "execution_count": 17,
   "metadata": {
    "scrolled": true
   },
   "outputs": [
    {
     "name": "stdout",
     "output_type": "stream",
     "text": [
      "17\n",
      "Number of syn iSNVs  3\n",
      "Number of stop iSNVs  0\n",
      "Number of nonsyn iSNVs  14\n"
     ]
    }
   ],
   "source": [
    "load_intersection_dataframes('../data_derived/vcfs-intersection', 'CA04_ferret2')\n",
    "CA04_ferret2 = run_load_intersection_dataframes('CA04_ferret2')"
   ]
  },
  {
   "cell_type": "code",
   "execution_count": 18,
   "metadata": {},
   "outputs": [
    {
     "name": "stdout",
     "output_type": "stream",
     "text": [
      "83\n",
      "Number of syn iSNVs  33\n",
      "Number of stop iSNVs  0\n",
      "Number of nonsyn iSNVs  50\n"
     ]
    }
   ],
   "source": [
    "load_intersection_dataframes('../data_derived/vcfs-intersection', 'CA04_ferret3')\n",
    "CA04_ferret3 = run_load_intersection_dataframes('CA04_ferret3')"
   ]
  },
  {
   "cell_type": "code",
   "execution_count": 19,
   "metadata": {},
   "outputs": [
    {
     "name": "stdout",
     "output_type": "stream",
     "text": [
      "4\n",
      "Number of syn iSNVs  1\n",
      "Number of stop iSNVs  0\n",
      "Number of nonsyn iSNVs  3\n"
     ]
    }
   ],
   "source": [
    "load_intersection_dataframes('../data_derived/vcfs-intersection', 'CA04_ferret4')\n",
    "CA04_ferret4 = run_load_intersection_dataframes('CA04_ferret4')"
   ]
  },
  {
   "cell_type": "code",
   "execution_count": 20,
   "metadata": {},
   "outputs": [
    {
     "name": "stdout",
     "output_type": "stream",
     "text": [
      "7\n",
      "Number of syn iSNVs  5\n",
      "Number of stop iSNVs  0\n",
      "Number of nonsyn iSNVs  2\n"
     ]
    }
   ],
   "source": [
    "load_intersection_dataframes('../data_derived/vcfs-intersection', 'CA04_ferret5')\n",
    "CA04_ferret5 = run_load_intersection_dataframes('CA04_ferret5')"
   ]
  },
  {
   "cell_type": "code",
   "execution_count": 21,
   "metadata": {},
   "outputs": [
    {
     "name": "stdout",
     "output_type": "stream",
     "text": [
      "3\n",
      "Number of syn iSNVs  2\n",
      "Number of stop iSNVs  0\n",
      "Number of nonsyn iSNVs  1\n"
     ]
    }
   ],
   "source": [
    "load_intersection_dataframes('../data_derived/vcfs-intersection', 'CA04_ferret6')\n",
    "CA04_ferret6 = run_load_intersection_dataframes('CA04_ferret6')"
   ]
  },
  {
   "cell_type": "code",
   "execution_count": 22,
   "metadata": {},
   "outputs": [
    {
     "name": "stdout",
     "output_type": "stream",
     "text": [
      "34\n",
      "Number of syn iSNVs  13\n",
      "Number of stop iSNVs  0\n",
      "Number of nonsyn iSNVs  21\n"
     ]
    }
   ],
   "source": [
    "load_intersection_dataframes('../data_derived/vcfs-intersection', 'CA04_ferret33')\n",
    "CA04_ferret33 = run_load_intersection_dataframes('CA04_ferret33')"
   ]
  },
  {
   "cell_type": "code",
   "execution_count": 23,
   "metadata": {},
   "outputs": [
    {
     "name": "stdout",
     "output_type": "stream",
     "text": [
      "35\n",
      "Number of syn iSNVs  13\n",
      "Number of stop iSNVs  0\n",
      "Number of nonsyn iSNVs  22\n"
     ]
    }
   ],
   "source": [
    "load_intersection_dataframes('../data_derived/vcfs-intersection', 'CA04_ferret35')\n",
    "CA04_ferret35 = run_load_intersection_dataframes('CA04_ferret35')"
   ]
  },
  {
   "cell_type": "code",
   "execution_count": 24,
   "metadata": {},
   "outputs": [
    {
     "name": "stdout",
     "output_type": "stream",
     "text": [
      "23\n",
      "Number of syn iSNVs  6\n",
      "Number of stop iSNVs  0\n",
      "Number of nonsyn iSNVs  17\n"
     ]
    }
   ],
   "source": [
    "load_intersection_dataframes('../data_derived/vcfs-intersection', 'CA04_ferret36')\n",
    "CA04_ferret36 = run_load_intersection_dataframes('CA04_ferret36')"
   ]
  },
  {
   "cell_type": "code",
   "execution_count": 25,
   "metadata": {},
   "outputs": [
    {
     "name": "stdout",
     "output_type": "stream",
     "text": [
      "120\n",
      "Number of syn iSNVs  68\n",
      "Number of stop iSNVs  1\n",
      "Number of nonsyn iSNVs  51\n"
     ]
    }
   ],
   "source": [
    "load_intersection_dataframes('../data_derived/vcfs-intersection', 'GD3_ferret1')\n",
    "GD3_ferret1 = run_load_intersection_dataframes('GD3_ferret1')"
   ]
  },
  {
   "cell_type": "code",
   "execution_count": 26,
   "metadata": {},
   "outputs": [
    {
     "name": "stdout",
     "output_type": "stream",
     "text": [
      "136\n",
      "Number of syn iSNVs  81\n",
      "Number of stop iSNVs  1\n",
      "Number of nonsyn iSNVs  54\n"
     ]
    }
   ],
   "source": [
    "load_intersection_dataframes('../data_derived/vcfs-intersection', 'GD3_ferret3')\n",
    "GD3_ferret3 = run_load_intersection_dataframes('GD3_ferret3')"
   ]
  },
  {
   "cell_type": "code",
   "execution_count": 27,
   "metadata": {},
   "outputs": [
    {
     "name": "stdout",
     "output_type": "stream",
     "text": [
      "27\n",
      "Number of syn iSNVs  15\n",
      "Number of stop iSNVs  1\n",
      "Number of nonsyn iSNVs  11\n"
     ]
    }
   ],
   "source": [
    "load_intersection_dataframes('../data_derived/vcfs-intersection', 'GD3_ferret4')\n",
    "GD3_ferret4 = run_load_intersection_dataframes('GD3_ferret4')"
   ]
  },
  {
   "cell_type": "code",
   "execution_count": 28,
   "metadata": {},
   "outputs": [
    {
     "name": "stdout",
     "output_type": "stream",
     "text": [
      "119\n",
      "Number of syn iSNVs  65\n",
      "Number of stop iSNVs  2\n",
      "Number of nonsyn iSNVs  52\n"
     ]
    }
   ],
   "source": [
    "load_intersection_dataframes('../data_derived/vcfs-intersection', 'GD3_ferret5')\n",
    "GD3_ferret5 = run_load_intersection_dataframes('GD3_ferret5')"
   ]
  },
  {
   "cell_type": "code",
   "execution_count": 29,
   "metadata": {},
   "outputs": [
    {
     "name": "stdout",
     "output_type": "stream",
     "text": [
      "142\n",
      "Number of syn iSNVs  78\n",
      "Number of stop iSNVs  1\n",
      "Number of nonsyn iSNVs  63\n"
     ]
    }
   ],
   "source": [
    "load_intersection_dataframes('../data_derived/vcfs-intersection', 'GD3_ferret7')\n",
    "GD3_ferret7 = run_load_intersection_dataframes('GD3_ferret7')"
   ]
  },
  {
   "cell_type": "code",
   "execution_count": 30,
   "metadata": {},
   "outputs": [
    {
     "name": "stdout",
     "output_type": "stream",
     "text": [
      "11\n",
      "Number of syn iSNVs  6\n",
      "Number of stop iSNVs  0\n",
      "Number of nonsyn iSNVs  5\n"
     ]
    }
   ],
   "source": [
    "load_intersection_dataframes('../data_derived/vcfs-intersection', 'rGD3_ferret9')\n",
    "rGD3_ferret9 = run_load_intersection_dataframes('rGD3_ferret9')"
   ]
  },
  {
   "cell_type": "code",
   "execution_count": 31,
   "metadata": {},
   "outputs": [
    {
     "name": "stdout",
     "output_type": "stream",
     "text": [
      "5\n",
      "Number of syn iSNVs  3\n",
      "Number of stop iSNVs  1\n",
      "Number of nonsyn iSNVs  1\n"
     ]
    }
   ],
   "source": [
    "load_intersection_dataframes('../data_derived/vcfs-intersection', 'rGD3_ferret10')\n",
    "rGD3_ferret10 = run_load_intersection_dataframes('rGD3_ferret10')"
   ]
  },
  {
   "cell_type": "code",
   "execution_count": 32,
   "metadata": {},
   "outputs": [
    {
     "name": "stdout",
     "output_type": "stream",
     "text": [
      "1\n",
      "Number of syn iSNVs  1\n",
      "Number of stop iSNVs  0\n",
      "Number of nonsyn iSNVs  0\n"
     ]
    }
   ],
   "source": [
    "load_intersection_dataframes('../data_derived/vcfs-intersection', 'rGD3_ferret11')\n",
    "rGD3_ferret11 = run_load_intersection_dataframes('rGD3_ferret11')"
   ]
  },
  {
   "cell_type": "code",
   "execution_count": 33,
   "metadata": {},
   "outputs": [
    {
     "name": "stdout",
     "output_type": "stream",
     "text": [
      "4\n",
      "Number of syn iSNVs  3\n",
      "Number of stop iSNVs  0\n",
      "Number of nonsyn iSNVs  1\n"
     ]
    }
   ],
   "source": [
    "load_intersection_dataframes('../data_derived/vcfs-intersection', 'rGD3_ferret12')\n",
    "rGD3_ferret12 = run_load_intersection_dataframes('rGD3_ferret12')"
   ]
  },
  {
   "cell_type": "code",
   "execution_count": 34,
   "metadata": {},
   "outputs": [
    {
     "name": "stdout",
     "output_type": "stream",
     "text": [
      "3\n",
      "Number of syn iSNVs  1\n",
      "Number of stop iSNVs  0\n",
      "Number of nonsyn iSNVs  2\n"
     ]
    }
   ],
   "source": [
    "load_intersection_dataframes('../data_derived/vcfs-intersection', 'rGD3_ferret13')\n",
    "rGD3_ferret13 = run_load_intersection_dataframes('rGD3_ferret13')"
   ]
  },
  {
   "cell_type": "code",
   "execution_count": 35,
   "metadata": {},
   "outputs": [
    {
     "name": "stdout",
     "output_type": "stream",
     "text": [
      "9\n",
      "Number of syn iSNVs  1\n",
      "Number of stop iSNVs  0\n",
      "Number of nonsyn iSNVs  8\n"
     ]
    }
   ],
   "source": [
    "load_intersection_dataframes('../data_derived/vcfs-intersection', 'rGD3_ferret15')\n",
    "rGD3_ferret15 = run_load_intersection_dataframes('rGD3_ferret15')"
   ]
  },
  {
   "cell_type": "code",
   "execution_count": 36,
   "metadata": {},
   "outputs": [
    {
     "name": "stdout",
     "output_type": "stream",
     "text": [
      "8\n",
      "Number of syn iSNVs  4\n",
      "Number of stop iSNVs  0\n",
      "Number of nonsyn iSNVs  4\n"
     ]
    }
   ],
   "source": [
    "load_intersection_dataframes('../data_derived/vcfs-intersection', 'rGD3_ferret16')\n",
    "rGD3_ferret16 = run_load_intersection_dataframes('rGD3_ferret16')"
   ]
  },
  {
   "cell_type": "code",
   "execution_count": 37,
   "metadata": {},
   "outputs": [
    {
     "name": "stdout",
     "output_type": "stream",
     "text": [
      "22\n",
      "Number of syn iSNVs  8\n",
      "Number of stop iSNVs  0\n",
      "Number of nonsyn iSNVs  14\n"
     ]
    }
   ],
   "source": [
    "load_intersection_dataframes('../data_derived/vcfs-intersection', 'rGD3_ferret17')\n",
    "rGD3_ferret17 = run_load_intersection_dataframes('rGD3_ferret17')"
   ]
  },
  {
   "cell_type": "code",
   "execution_count": 38,
   "metadata": {},
   "outputs": [
    {
     "name": "stdout",
     "output_type": "stream",
     "text": [
      "43\n",
      "Number of syn iSNVs  20\n",
      "Number of stop iSNVs  1\n",
      "Number of nonsyn iSNVs  22\n"
     ]
    }
   ],
   "source": [
    "load_intersection_dataframes('../data_derived/vcfs-intersection', 'rGD3_ferret18')\n",
    "rGD3_ferret18 = run_load_intersection_dataframes('rGD3_ferret18')"
   ]
  },
  {
   "cell_type": "code",
   "execution_count": 39,
   "metadata": {},
   "outputs": [
    {
     "name": "stdout",
     "output_type": "stream",
     "text": [
      "10\n",
      "Number of syn iSNVs  6\n",
      "Number of stop iSNVs  0\n",
      "Number of nonsyn iSNVs  4\n"
     ]
    }
   ],
   "source": [
    "load_intersection_dataframes('../data_derived/vcfs-intersection', 'rGD3_ferret19')\n",
    "rGD3_ferret19 = run_load_intersection_dataframes('rGD3_ferret19')"
   ]
  },
  {
   "cell_type": "code",
   "execution_count": 40,
   "metadata": {},
   "outputs": [
    {
     "name": "stdout",
     "output_type": "stream",
     "text": [
      "9\n",
      "Number of syn iSNVs  5\n",
      "Number of stop iSNVs  0\n",
      "Number of nonsyn iSNVs  4\n"
     ]
    }
   ],
   "source": [
    "load_intersection_dataframes('../data_derived/vcfs-intersection', 'rGD3_ferret21')\n",
    "rGD3_ferret21 = run_load_intersection_dataframes('rGD3_ferret21')"
   ]
  },
  {
   "cell_type": "code",
   "execution_count": 41,
   "metadata": {},
   "outputs": [
    {
     "name": "stdout",
     "output_type": "stream",
     "text": [
      "18\n",
      "Number of syn iSNVs  7\n",
      "Number of stop iSNVs  0\n",
      "Number of nonsyn iSNVs  11\n"
     ]
    }
   ],
   "source": [
    "load_intersection_dataframes('../data_derived/vcfs-intersection', 'rGD3_ferret22')\n",
    "rGD3_ferret22 = run_load_intersection_dataframes('rGD3_ferret22')"
   ]
  },
  {
   "cell_type": "code",
   "execution_count": 42,
   "metadata": {
    "scrolled": true
   },
   "outputs": [
    {
     "name": "stdout",
     "output_type": "stream",
     "text": [
      "22\n",
      "Number of syn iSNVs  8\n",
      "Number of stop iSNVs  0\n",
      "Number of nonsyn iSNVs  14\n"
     ]
    }
   ],
   "source": [
    "load_intersection_dataframes('../data_derived/vcfs-intersection', 'rGD3_ferret23')\n",
    "rGD3_ferret23 = run_load_intersection_dataframes('rGD3_ferret23')"
   ]
  },
  {
   "cell_type": "markdown",
   "metadata": {},
   "source": [
    "## plot iSNV counts per ferret sample and color by virus group "
   ]
  },
  {
   "cell_type": "code",
   "execution_count": 96,
   "metadata": {},
   "outputs": [
    {
     "data": {
      "image/png": "[encoded data removed]",
      "text/plain": [
       "<Figure size 600x600 with 1 Axes>"
      ]
     },
     "metadata": {},
     "output_type": "display_data"
    }
   ],
   "source": [
    "import seaborn as sns\n",
    "\n",
    "GD3 = '#00A1C6'\n",
    "rGD3 = '#890B0B'\n",
    "Anhui = '#3C7067'\n",
    "CA04 = '#C15D1A'\n",
    "\n",
    "# convert the above into a dataframe for plotting\n",
    "\n",
    "data_Anhui = [['Anhui_ferret25', Anhui_ferret25], ['Anhui_ferret27', Anhui_ferret27], ['Anhui_ferret28', Anhui_ferret28], ['Anhui_ferret29', Anhui_ferret29], ['Anhui_ferret31', Anhui_ferret31]]\n",
    "data_CA04 = [['CA04_ferret1', CA04_ferret1],['CA04_ferret2', CA04_ferret2],['CA04_ferret3', CA04_ferret3],['CA04_ferret4', CA04_ferret4],['CA04_ferret5', CA04_ferret5],['CA04_ferret6', CA04_ferret6],['CA04_ferret33', CA04_ferret33], ['CA04_ferret35', CA04_ferret35], ['CA04_ferret36', CA04_ferret36]]\n",
    "data_GD3 = [['GD3_ferret1', GD3_ferret1], ['GD3_ferret3', GD3_ferret3], ['GD3_ferret4', GD3_ferret4], ['GD3_ferret5', GD3_ferret5], ['GD3_ferret7', GD3_ferret7]]\n",
    "data_rGD3 = [['rGD3_ferret9', rGD3_ferret9], ['rGD3_ferret10', rGD3_ferret10], ['rGD3_ferret11', rGD3_ferret11], ['rGD3_ferret12', rGD3_ferret12], ['rGD3_ferret13', rGD3_ferret13], ['rGD3_ferret15', rGD3_ferret15], ['rGD3_ferret16', rGD3_ferret16], ['rGD3_ferret17', rGD3_ferret17], ['rGD3_ferret18', rGD3_ferret18], ['rGD3_ferret19', rGD3_ferret19], ['rGD3_ferret21', rGD3_ferret21], ['rGD3_ferret22', rGD3_ferret22], ['rGD3_ferret23', rGD3_ferret23]]\n",
    "\n",
    "# Create the pandas DataFrame\n",
    "df_Anhui = pd.DataFrame(data_Anhui, columns = ['ferret', '# of unique iSNVs - Anhui'])\n",
    "df_Anhui = df_Anhui[['# of unique iSNVs - Anhui']]\n",
    "\n",
    "df_CA04 = pd.DataFrame(data_CA04, columns = ['ferret', '# of unique iSNVs - CA04'])\n",
    "df_CA04 = df_CA04[['# of unique iSNVs - CA04']]\n",
    "\n",
    "df_GD3 = pd.DataFrame(data_GD3, columns = ['ferret', '# of unique iSNVs - GD3'])\n",
    "df_GD3 = df_GD3[['# of unique iSNVs - GD3']]\n",
    "\n",
    "df_rGD3 = pd.DataFrame(data_rGD3, columns = ['ferret', '# of unique iSNVs - rGD3'])\n",
    "df_rGD3 = df_rGD3[['# of unique iSNVs - rGD3']]\n",
    "\n",
    "t = pd.concat([df_Anhui, df_CA04],axis=1)\n",
    "t = pd.concat([t, df_GD3],axis=1)\n",
    "t = pd.concat([t, df_rGD3],axis=1)\n",
    "\n",
    "# generate a figure with sub-plots (one for each gene segment)\n",
    "fig = plt.figure(figsize=(6,6), facecolor='w')\n",
    "plt.style.use('default')\n",
    "mpl.rc('font', family='Arial')\n",
    "gs = gridspec.GridSpec(2,5)\n",
    "\n",
    "ax1 = fig.add_subplot(gs[0,0:3])\n",
    "\n",
    "# get right of top and right frame of each subplot\n",
    "ax1.spines['top'].set_visible(False)\n",
    "ax1.spines['right'].set_visible(False)\n",
    "ax1.spines['bottom'].set_visible(True)\n",
    "ax1.spines['left'].set_visible(True)\n",
    "\n",
    "# set fontsize of axes \n",
    "ax1.tick_params(axis = 'both', which = 'major', labelsize = 10)\n",
    "ax1.tick_params(axis = 'both', which = 'minor', labelsize = 10)\n",
    "\n",
    "sns.violinplot(data=t, ax=ax1, palette=['#3C7067', '#C15D1A', '#00A1C6', '#890B0B'], inner='points', alpha=0.5)\n",
    "\n",
    "ax1.set_facecolor('white')\n",
    "for tick in ax1.get_xticklabels():\n",
    "    tick.set_fontname(\"Arial\")\n",
    "for tick in ax1.get_yticklabels():\n",
    "    tick.set_fontname(\"Arial\")\n",
    "ax1.set_ylim(-50,275)\n",
    "ax1.set_ylabel('number of unique iSNVs', fontname='Arial', fontsize=12)\n",
    "ax1.set_xticklabels(['Anhui','CA04','GD/3','rGD/3'], fontname='Arial', fontsize=10, minor=False, rotation=45)\n",
    "\n",
    "plt.savefig('../figures/iSNV_counts/iSNV_counts_per_ferret.pdf', dpi=300)\n"
   ]
  },
  {
   "cell_type": "markdown",
   "metadata": {},
   "source": [
    "## plot the number of iSNVs over time"
   ]
  },
  {
   "cell_type": "code",
   "execution_count": 97,
   "metadata": {},
   "outputs": [],
   "source": [
    "# load all text files in a directory into Pandas dataframes \n",
    "def count_iSNVs(ferret):\n",
    "    file = pd.read_csv('../data_derived/vcfs-intersection/' + ferret + '_intersection.csv', header=0, sep='\\t', low_memory=False)\n",
    "    file = file[file['%'] <= 0.99]\n",
    "    iSNV_count = len(file)\n",
    "    return(iSNV_count)\n",
    "\n",
    "Anhui_ferret25_day1 = count_iSNVs('Anhui_ferret25_day1')\n",
    "Anhui_ferret25_day3 = count_iSNVs('Anhui_ferret25_day3')\n",
    "Anhui_ferret25_day5 = count_iSNVs('Anhui_ferret25_day5')\n",
    "Anhui_ferret27_day1 = count_iSNVs('Anhui_ferret27_day1')\n",
    "Anhui_ferret27_day1 = count_iSNVs('Anhui_ferret27_day1')\n",
    "Anhui_ferret27_day3 = count_iSNVs('Anhui_ferret27_day3')\n",
    "Anhui_ferret27_day5 = count_iSNVs('Anhui_ferret27_day5')\n",
    "Anhui_ferret27_day7 = count_iSNVs('Anhui_ferret27_day7')\n",
    "Anhui_ferret28_day3 = count_iSNVs('Anhui_ferret28_day3')\n",
    "Anhui_ferret28_day5 = count_iSNVs('Anhui_ferret28_day5')\n",
    "Anhui_ferret29_day1 = count_iSNVs('Anhui_ferret29_day1')\n",
    "Anhui_ferret29_day3 = count_iSNVs('Anhui_ferret29_day3')\n",
    "Anhui_ferret29_day5 = count_iSNVs('Anhui_ferret29_day5')\n",
    "Anhui_ferret29_day7 = count_iSNVs('Anhui_ferret29_day7')\n",
    "Anhui_ferret31_day1 = count_iSNVs('Anhui_ferret31_day1')\n",
    "Anhui_ferret31_day3 = count_iSNVs('Anhui_ferret31_day3')\n",
    "Anhui_ferret31_day5 = count_iSNVs('Anhui_ferret31_day5')\n",
    "\n",
    "CA04_ferret1_day1 = count_iSNVs('CA04_ferret1_day1')\n",
    "CA04_ferret1_day3 = count_iSNVs('CA04_ferret1_day3')\n",
    "CA04_ferret1_day5 = count_iSNVs('CA04_ferret1_day5')\n",
    "CA04_ferret2_day1 = count_iSNVs('CA04_ferret2_day1')\n",
    "CA04_ferret2_day3 = count_iSNVs('CA04_ferret2_day3')\n",
    "CA04_ferret2_day5 = count_iSNVs('CA04_ferret2_day5')\n",
    "CA04_ferret3_day1 = count_iSNVs('CA04_ferret3_day1')\n",
    "CA04_ferret3_day3 = count_iSNVs('CA04_ferret3_day3')\n",
    "CA04_ferret3_day5 = count_iSNVs('CA04_ferret3_day5')\n",
    "CA04_ferret4_day3 = count_iSNVs('CA04_ferret4_day3')\n",
    "CA04_ferret4_day5 = count_iSNVs('CA04_ferret4_day5')\n",
    "CA04_ferret5_day1 = count_iSNVs('CA04_ferret5_day1')\n",
    "CA04_ferret5_day3 = count_iSNVs('CA04_ferret5_day3')\n",
    "CA04_ferret5_day5 = count_iSNVs('CA04_ferret5_day5')\n",
    "CA04_ferret6_day3 = count_iSNVs('CA04_ferret6_day3')\n",
    "CA04_ferret6_day5 = count_iSNVs('CA04_ferret6_day5')\n",
    "CA04_ferret33_day1 = count_iSNVs('CA04_ferret33_day1')\n",
    "CA04_ferret33_day3 = count_iSNVs('CA04_ferret33_day3')\n",
    "CA04_ferret33_day5 = count_iSNVs('CA04_ferret33_day5')\n",
    "CA04_ferret33_day7 = count_iSNVs('CA04_ferret33_day7')\n",
    "CA04_ferret35_day1 = count_iSNVs('CA04_ferret35_day1')\n",
    "CA04_ferret35_day3 = count_iSNVs('CA04_ferret35_day3')\n",
    "CA04_ferret35_day5 = count_iSNVs('CA04_ferret35_day5')\n",
    "CA04_ferret36_day3 = count_iSNVs('CA04_ferret36_day3')\n",
    "CA04_ferret36_day5 = count_iSNVs('CA04_ferret36_day5')\n",
    "\n",
    "GD3_ferret1_day1 = count_iSNVs('GD3_ferret1_day1')\n",
    "GD3_ferret1_day3 = count_iSNVs('GD3_ferret1_day3')\n",
    "GD3_ferret1_day5 = count_iSNVs('GD3_ferret1_day5')\n",
    "GD3_ferret3_day1 = count_iSNVs('GD3_ferret3_day1')\n",
    "GD3_ferret3_day3 = count_iSNVs('GD3_ferret3_day3')\n",
    "GD3_ferret3_day5 = count_iSNVs('GD3_ferret3_day5')\n",
    "GD3_ferret3_day7 = count_iSNVs('GD3_ferret3_day7')\n",
    "GD3_ferret4_day5 = count_iSNVs('GD3_ferret4_day5')\n",
    "GD3_ferret4_day7 = count_iSNVs('GD3_ferret4_day7')\n",
    "GD3_ferret4_day9 = count_iSNVs('GD3_ferret4_day9')\n",
    "GD3_ferret4_day11 = count_iSNVs('GD3_ferret4_day11')\n",
    "GD3_ferret5_day1 = count_iSNVs('GD3_ferret5_day1')\n",
    "GD3_ferret5_day3 = count_iSNVs('GD3_ferret5_day3')\n",
    "GD3_ferret5_day5 = count_iSNVs('GD3_ferret5_day5')\n",
    "GD3_ferret5_day7 = count_iSNVs('GD3_ferret5_day7')\n",
    "GD3_ferret7_day1 = count_iSNVs('GD3_ferret7_day1')\n",
    "GD3_ferret7_day3 = count_iSNVs('GD3_ferret7_day3')\n",
    "GD3_ferret7_day5 = count_iSNVs('GD3_ferret7_day5')\n",
    "GD3_ferret7_day7 = count_iSNVs('GD3_ferret7_day7')\n",
    "rGD3_ferret9_day1 = count_iSNVs('rGD3_ferret9_day1')\n",
    "rGD3_ferret9_day3 = count_iSNVs('rGD3_ferret9_day3')\n",
    "rGD3_ferret9_day5 = count_iSNVs('rGD3_ferret9_day5')\n",
    "rGD3_ferret9_day7 = count_iSNVs('rGD3_ferret9_day7')\n",
    "rGD3_ferret10_day3 = count_iSNVs('rGD3_ferret10_day3')\n",
    "rGD3_ferret10_day5 = count_iSNVs('rGD3_ferret10_day5')\n",
    "rGD3_ferret10_day7 = count_iSNVs('rGD3_ferret10_day7')\n",
    "rGD3_ferret10_day9 = count_iSNVs('rGD3_ferret10_day9')\n",
    "rGD3_ferret11_day1 = count_iSNVs('rGD3_ferret11_day1')\n",
    "rGD3_ferret11_day3 = count_iSNVs('rGD3_ferret11_day3')\n",
    "rGD3_ferret12_day3 = count_iSNVs('rGD3_ferret12_day3')\n",
    "rGD3_ferret12_day5 = count_iSNVs('rGD3_ferret12_day5')\n",
    "rGD3_ferret13_day1 = count_iSNVs('rGD3_ferret13_day1')\n",
    "rGD3_ferret13_day3 = count_iSNVs('rGD3_ferret13_day3')\n",
    "rGD3_ferret13_day5 = count_iSNVs('rGD3_ferret13_day5')\n",
    "rGD3_ferret15_day1 = count_iSNVs('rGD3_ferret15_day1')\n",
    "rGD3_ferret15_day3 = count_iSNVs('rGD3_ferret15_day3')\n",
    "rGD3_ferret15_day5 = count_iSNVs('rGD3_ferret15_day5')\n",
    "rGD3_ferret15_day7 = count_iSNVs('rGD3_ferret15_day7')\n",
    "rGD3_ferret16_day3 = count_iSNVs('rGD3_ferret16_day3')\n",
    "rGD3_ferret16_day5 = count_iSNVs('rGD3_ferret16_day5')\n",
    "rGD3_ferret16_day7 = count_iSNVs('rGD3_ferret16_day7')\n",
    "rGD3_ferret17_day1 = count_iSNVs('rGD3_ferret17_day1')\n",
    "rGD3_ferret17_day3 = count_iSNVs('rGD3_ferret17_day3')\n",
    "rGD3_ferret17_day5 = count_iSNVs('rGD3_ferret17_day5')\n",
    "rGD3_ferret17_day7 = count_iSNVs('rGD3_ferret17_day7')\n",
    "rGD3_ferret18_day11 = count_iSNVs('rGD3_ferret18_day11')\n",
    "rGD3_ferret18_day13 = count_iSNVs('rGD3_ferret18_day13')\n",
    "rGD3_ferret18_day15 = count_iSNVs('rGD3_ferret18_day15')\n",
    "rGD3_ferret19_day1 = count_iSNVs('rGD3_ferret19_day1')\n",
    "rGD3_ferret19_day3 = count_iSNVs('rGD3_ferret19_day3')\n",
    "rGD3_ferret19_day5 = count_iSNVs('rGD3_ferret19_day5')\n",
    "rGD3_ferret21_day1 = count_iSNVs('rGD3_ferret21_day1')\n",
    "rGD3_ferret21_day3 = count_iSNVs('rGD3_ferret21_day3')\n",
    "rGD3_ferret21_day5 = count_iSNVs('rGD3_ferret21_day5')\n",
    "rGD3_ferret22_day3 = count_iSNVs('rGD3_ferret22_day3')\n",
    "rGD3_ferret22_day5 = count_iSNVs('rGD3_ferret22_day5')\n",
    "rGD3_ferret22_day7 = count_iSNVs('rGD3_ferret22_day7')\n",
    "rGD3_ferret22_day9 = count_iSNVs('rGD3_ferret22_day9')\n",
    "rGD3_ferret23_day1 = count_iSNVs('rGD3_ferret23_day1')\n",
    "rGD3_ferret23_day3 = count_iSNVs('rGD3_ferret23_day3')\n",
    "rGD3_ferret23_day5 = count_iSNVs('rGD3_ferret23_day5')\n",
    "rGD3_ferret23_day7 = count_iSNVs('rGD3_ferret23_day7')\n",
    "\n",
    "#"
   ]
  },
  {
   "cell_type": "code",
   "execution_count": 98,
   "metadata": {},
   "outputs": [
    {
     "name": "stderr",
     "output_type": "stream",
     "text": [
      "/Users/katbraun/anaconda3/lib/python3.6/site-packages/ipykernel_launcher.py:61: UserWarning: Matplotlib is currently using module://ipykernel.pylab.backend_inline, which is a non-GUI backend, so cannot show the figure.\n"
     ]
    },
    {
     "data": {
      "image/png": "[encoded data removed]",
      "text/plain": [
       "<Figure size 1400x1000 with 1 Axes>"
      ]
     },
     "metadata": {},
     "output_type": "display_data"
    }
   ],
   "source": [
    "# plot iSNV counts for Anhui\n",
    "\n",
    "# generate a figure with sub-plots (one for each gene segment)\n",
    "fig = plt.figure(figsize=(14,10), facecolor='w')\n",
    "plt.style.use('default')\n",
    "mpl.rc('font', family='Arial')\n",
    "gs = gridspec.GridSpec(2, 12)\n",
    "\n",
    "ax1 = fig.add_subplot(gs[0,0:8]) # beta-binomial estimates \n",
    "\n",
    "# get right of top and right frame of each subplot\n",
    "ax1.spines['top'].set_visible(False)\n",
    "ax1.spines['right'].set_visible(False)\n",
    "ax1.spines['bottom'].set_visible(True)\n",
    "ax1.spines['left'].set_visible(True)\n",
    "\n",
    "# set fontsize of axes \n",
    "ax1.tick_params(axis = 'both', which = 'major', labelsize = 14)\n",
    "ax1.tick_params(axis = 'both', which = 'minor', labelsize = 14)\n",
    "\n",
    "x_A25 = [1,3,5]\n",
    "y_A25 = [Anhui_ferret25_day1,Anhui_ferret25_day3,Anhui_ferret25_day5]\n",
    "\n",
    "x_A27 = [1,3,5,7]\n",
    "y_A27 = [Anhui_ferret27_day1,Anhui_ferret27_day3,Anhui_ferret27_day5,Anhui_ferret27_day7]\n",
    "\n",
    "x_A28 = [3,5]\n",
    "y_A28 = [Anhui_ferret28_day3,Anhui_ferret28_day5]\n",
    "\n",
    "x_A29 = [1,3,5,7]\n",
    "y_A29 = [Anhui_ferret29_day1,Anhui_ferret29_day3,Anhui_ferret29_day5,Anhui_ferret29_day7]\n",
    "\n",
    "x_A31 = [1,3,5]\n",
    "y_A31 = [Anhui_ferret31_day1,Anhui_ferret31_day3,Anhui_ferret31_day5]\n",
    "\n",
    "\n",
    "ax1.plot(x_A25, y_A25, linestyle='-', c='#ADEADE', linewidth=4, label='ferret 25, index')\n",
    "ax1.plot(x_A27, y_A27, linestyle='-', c='#AACCC6', linewidth=4, label='ferret 27, index')\n",
    "ax1.plot(x_A28, y_A28, linestyle='--', c='#AACCC6', linewidth=4, label='ferret 28, contact')\n",
    "ax1.plot(x_A29, y_A29, linestyle='-', c='#2A9D8F', linewidth=4, label='ferret 29, index')\n",
    "ax1.plot(x_A31, y_A31, linestyle='-', c='#3C7067', linewidth=4, label='ferret 31, index')\n",
    "\n",
    "# edit the axes - ax1\n",
    "ax1.set_title('Anhui group (LPAI)', fontname='Arial', fontsize=16)\n",
    "ax1.set_ylabel('iSNV count \\n', fontname='Arial', fontsize=14)\n",
    "ax1.set_xlabel('\\n timepoint (days post infection)', fontname='Arial', fontsize=14)\n",
    "ax1.set_facecolor('white')\n",
    "for tick in ax1.get_xticklabels():\n",
    "    tick.set_fontname(\"Arial\")\n",
    "for tick in ax1.get_yticklabels():\n",
    "    tick.set_fontname(\"Arial\")\n",
    "ax1.set_ylim(-10,120)\n",
    "ax1.set_yticks([0,50,100])\n",
    "ax1.set_xlim(0.8,15)\n",
    "ax1.set_xticks([1,3,5,7,9,11,13,15])\n",
    "\n",
    "ax1.legend(frameon=False, fontsize=14)\n",
    "\n",
    "# use tight_layout to optimize spacing of axes and titles within each subplot\n",
    "fig.tight_layout()\n",
    "fig.show()\n",
    "\n",
    "# save this plot to the figures folder \n",
    "fig.savefig(\"../figures/iSNV_counts/Anhui.pdf\", bbox_inches='tight', dpi=300)\n",
    "\n",
    "plt.show()"
   ]
  },
  {
   "cell_type": "code",
   "execution_count": 99,
   "metadata": {},
   "outputs": [
    {
     "name": "stderr",
     "output_type": "stream",
     "text": [
      "/Users/katbraun/anaconda3/lib/python3.6/site-packages/ipykernel_launcher.py:80: UserWarning: Matplotlib is currently using module://ipykernel.pylab.backend_inline, which is a non-GUI backend, so cannot show the figure.\n"
     ]
    },
    {
     "data": {
      "image/png": "[encoded data removed]",
      "text/plain": [
       "<Figure size 1400x1000 with 1 Axes>"
      ]
     },
     "metadata": {},
     "output_type": "display_data"
    }
   ],
   "source": [
    "# plot iSNV counts for CA04\n",
    "\n",
    "# generate a figure with sub-plots (one for each gene segment)\n",
    "fig = plt.figure(figsize=(14,10), facecolor='w')\n",
    "plt.style.use('default')\n",
    "mpl.rc('font', family='Arial')\n",
    "gs = gridspec.GridSpec(2, 12)\n",
    "\n",
    "ax1 = fig.add_subplot(gs[0,0:8]) # beta-binomial estimates \n",
    "\n",
    "# get right of top and right frame of each subplot\n",
    "ax1.spines['top'].set_visible(False)\n",
    "ax1.spines['right'].set_visible(False)\n",
    "ax1.spines['bottom'].set_visible(True)\n",
    "ax1.spines['left'].set_visible(True)\n",
    "\n",
    "# set fontsize of axes \n",
    "ax1.tick_params(axis = 'both', which = 'major', labelsize = 14)\n",
    "ax1.tick_params(axis = 'both', which = 'minor', labelsize = 14)\n",
    "\n",
    "x_A1 = [1,3,5]\n",
    "y_A1 = [CA04_ferret1_day1,CA04_ferret1_day3,CA04_ferret1_day5]\n",
    "\n",
    "x_A2 = [1,3,5]\n",
    "y_A2 = [CA04_ferret2_day1,CA04_ferret2_day3,CA04_ferret2_day5]\n",
    "\n",
    "x_A3 = [1,3,5]\n",
    "y_A3 = [CA04_ferret3_day1,CA04_ferret3_day3,CA04_ferret3_day5]\n",
    "\n",
    "x_A4 = [3,5]\n",
    "y_A4 = [CA04_ferret4_day3,CA04_ferret4_day5]\n",
    "\n",
    "x_A5 = [1,3,5]\n",
    "y_A5 = [CA04_ferret5_day1,CA04_ferret5_day3,CA04_ferret5_day5]\n",
    "\n",
    "x_A6 = [3,5]\n",
    "y_A6 = [CA04_ferret6_day3,CA04_ferret6_day5]\n",
    "\n",
    "x_A33 = [1,3,5,7]\n",
    "y_A33 = [CA04_ferret33_day1,CA04_ferret33_day3,CA04_ferret33_day5,CA04_ferret33_day7]\n",
    "\n",
    "x_A35 = [1,3,5]\n",
    "y_A35 = [CA04_ferret35_day1,CA04_ferret35_day3,CA04_ferret35_day5]\n",
    "\n",
    "x_A36 = [3,5]\n",
    "y_A36 = [CA04_ferret36_day3,CA04_ferret36_day5]\n",
    "\n",
    "\n",
    "ax1.plot(x_A1, y_A1, linestyle='-', c='#DBBDAF', linewidth=4, label='ferret 1a, index')\n",
    "ax1.plot(x_A2, y_A2, linestyle='--', c='#DBBDAF', linewidth=4, label='ferret 2a, contact')\n",
    "\n",
    "ax1.plot(x_A3, y_A3, linestyle='-', c='#E07558', linewidth=4, label='ferret 3a, index')\n",
    "ax1.plot(x_A4, y_A4, linestyle='--', c='#E07558', linewidth=4, label='ferret 4a, contact')\n",
    "\n",
    "ax1.plot(x_A5, y_A5, linestyle='-', c='#893F0C', linewidth=4, label='ferret 5a, index')\n",
    "ax1.plot(x_A6, y_A6, linestyle='--', c='#893F0C', linewidth=4, label='ferret 6a, contact')\n",
    "\n",
    "ax1.plot(x_A33, y_A33, linestyle='-', c='#F9A66E', linewidth=4, label='ferret 33, index')\n",
    "ax1.plot(x_A35, y_A35, linestyle='-', c='#C15D1A', linewidth=4, label='ferret 35, index', alpha=0.6)\n",
    "ax1.plot(x_A36, y_A36, linestyle='--', c='#C15D1A', linewidth=4, label='ferret 36, contact', alpha=0.6)\n",
    "\n",
    "# edit the axes - ax1\n",
    "ax1.set_title('CA04 group (H1N1)', fontname='Arial', fontsize=16)\n",
    "ax1.set_ylabel('iSNV count \\n', fontname='Arial', fontsize=14)\n",
    "ax1.set_xlabel('\\n timepoint (days post infection)', fontname='Arial', fontsize=14)\n",
    "ax1.set_facecolor('white')\n",
    "for tick in ax1.get_xticklabels():\n",
    "    tick.set_fontname(\"Arial\")\n",
    "for tick in ax1.get_yticklabels():\n",
    "    tick.set_fontname(\"Arial\")\n",
    "ax1.set_ylim(-10,120)\n",
    "ax1.set_yticks([0,50,100])\n",
    "ax1.set_xlim(0.8,15)\n",
    "ax1.set_xticks([1,3,5,7,9,11,13,15])\n",
    "\n",
    "ax1.legend(frameon=False, fontsize=14)\n",
    "\n",
    "# use tight_layout to optimize spacing of axes and titles within each subplot\n",
    "fig.tight_layout()\n",
    "fig.show()\n",
    "\n",
    "# save this plot to the figures folder \n",
    "fig.savefig(\"../figures/iSNV_counts/CA04.pdf\", bbox_inches='tight', dpi=300)\n",
    "\n",
    "plt.show()"
   ]
  },
  {
   "cell_type": "code",
   "execution_count": 100,
   "metadata": {},
   "outputs": [
    {
     "name": "stderr",
     "output_type": "stream",
     "text": [
      "/Users/katbraun/anaconda3/lib/python3.6/site-packages/ipykernel_launcher.py:60: UserWarning: Matplotlib is currently using module://ipykernel.pylab.backend_inline, which is a non-GUI backend, so cannot show the figure.\n"
     ]
    },
    {
     "data": {
      "image/png": "[encoded data removed]",
      "text/plain": [
       "<Figure size 1400x1000 with 1 Axes>"
      ]
     },
     "metadata": {},
     "output_type": "display_data"
    }
   ],
   "source": [
    "# plot iSNV counts for GD3\n",
    "\n",
    "# generate a figure with sub-plots (one for each gene segment)\n",
    "fig = plt.figure(figsize=(14,10), facecolor='w')\n",
    "plt.style.use('default')\n",
    "mpl.rc('font', family='Arial')\n",
    "gs = gridspec.GridSpec(2, 12)\n",
    "\n",
    "ax1 = fig.add_subplot(gs[0,0:8]) # beta-binomial estimates \n",
    "\n",
    "# get right of top and right frame of each subplot\n",
    "ax1.spines['top'].set_visible(False)\n",
    "ax1.spines['right'].set_visible(False)\n",
    "ax1.spines['bottom'].set_visible(True)\n",
    "ax1.spines['left'].set_visible(True)\n",
    "\n",
    "# set fontsize of axes \n",
    "ax1.tick_params(axis = 'both', which = 'major', labelsize = 14)\n",
    "ax1.tick_params(axis = 'both', which = 'minor', labelsize = 14)\n",
    "\n",
    "x_A1 = [1,3,5]\n",
    "y_A1 = [GD3_ferret1_day1,GD3_ferret1_day3,GD3_ferret1_day5]\n",
    "\n",
    "x_A3 = [1,3,5,7]\n",
    "y_A3 = [GD3_ferret3_day1,GD3_ferret3_day3,GD3_ferret3_day5,GD3_ferret3_day7]\n",
    "\n",
    "x_A4 = [5,7,9,11]\n",
    "y_A4 = [GD3_ferret4_day5,GD3_ferret4_day7,GD3_ferret4_day9,GD3_ferret4_day11]\n",
    "\n",
    "x_A5 = [1,3,5,7]\n",
    "y_A5 = [GD3_ferret5_day1,GD3_ferret5_day3,GD3_ferret5_day5,GD3_ferret5_day7]\n",
    "\n",
    "x_A7 = [1,3,5,7]\n",
    "y_A7 = [GD3_ferret7_day1,GD3_ferret7_day3,GD3_ferret7_day5,GD3_ferret7_day7]\n",
    "\n",
    "ax1.plot(x_A1, y_A1, linestyle='-', c='#264653', linewidth=4, label='ferret 1, index')\n",
    "ax1.plot(x_A3, y_A3, linestyle='-', c='#447F91', linewidth=4, label='ferret 3, index')\n",
    "ax1.plot(x_A4, y_A4, linestyle='--', c='#447F91', linewidth=4, label='ferret 4, contact')\n",
    "ax1.plot(x_A5, y_A5, linestyle='-', c='#87B6C1', linewidth=4, label='ferret 5, index')\n",
    "ax1.plot(x_A7, y_A7, linestyle='-', c='#00A1C6', linewidth=4, label='ferret 7, index')\n",
    "\n",
    "# edit the axes - ax1\n",
    "ax1.set_title('GD3 group (HPAI)', fontname='Arial', fontsize=16)\n",
    "ax1.set_ylabel('iSNV count \\n', fontname='Arial', fontsize=14)\n",
    "ax1.set_xlabel('\\n timepoint (days post infection)', fontname='Arial', fontsize=14)\n",
    "ax1.set_facecolor('white')\n",
    "for tick in ax1.get_xticklabels():\n",
    "    tick.set_fontname(\"Arial\")\n",
    "for tick in ax1.get_yticklabels():\n",
    "    tick.set_fontname(\"Arial\")\n",
    "ax1.set_ylim(-10,120)\n",
    "ax1.set_yticks([0,50,100])\n",
    "ax1.set_xlim(0.8,15)\n",
    "ax1.set_xticks([1,3,5,7,9,11,13,15])\n",
    "\n",
    "ax1.legend(frameon=False, fontsize=14)\n",
    "\n",
    "# use tight_layout to optimize spacing of axes and titles within each subplot\n",
    "fig.tight_layout()\n",
    "fig.show()\n",
    "\n",
    "# save this plot to the figures folder \n",
    "fig.savefig(\"../figures/iSNV_counts/GD3.pdf\", bbox_inches='tight', dpi=300)\n",
    "\n",
    "plt.show()"
   ]
  },
  {
   "cell_type": "code",
   "execution_count": 101,
   "metadata": {},
   "outputs": [
    {
     "name": "stderr",
     "output_type": "stream",
     "text": [
      "/Users/katbraun/anaconda3/lib/python3.6/site-packages/ipykernel_launcher.py:92: UserWarning: Matplotlib is currently using module://ipykernel.pylab.backend_inline, which is a non-GUI backend, so cannot show the figure.\n"
     ]
    },
    {
     "data": {
      "image/png": "[encoded data removed]",
      "text/plain": [
       "<Figure size 1400x1000 with 1 Axes>"
      ]
     },
     "metadata": {},
     "output_type": "display_data"
    }
   ],
   "source": [
    "# plot iSNV counts for rGD3\n",
    "\n",
    "# generate a figure with sub-plots (one for each gene segment)\n",
    "fig = plt.figure(figsize=(14,10), facecolor='w')\n",
    "plt.style.use('default')\n",
    "mpl.rc('font', family='Arial')\n",
    "gs = gridspec.GridSpec(2, 12)\n",
    "\n",
    "ax1 = fig.add_subplot(gs[0,0:8]) # beta-binomial estimates \n",
    "\n",
    "# get right of top and right frame of each subplot\n",
    "ax1.spines['top'].set_visible(False)\n",
    "ax1.spines['right'].set_visible(False)\n",
    "ax1.spines['bottom'].set_visible(True)\n",
    "ax1.spines['left'].set_visible(True)\n",
    "\n",
    "# set fontsize of axes \n",
    "ax1.tick_params(axis = 'both', which = 'major', labelsize = 14)\n",
    "ax1.tick_params(axis = 'both', which = 'minor', labelsize = 14)\n",
    "\n",
    "x_A9 = [1,3,5,7]\n",
    "y_A9 = [rGD3_ferret9_day1,rGD3_ferret9_day3,rGD3_ferret9_day5,rGD3_ferret9_day7]\n",
    "\n",
    "x_A10 = [3,5,7,9]\n",
    "y_A10 = [rGD3_ferret10_day3,rGD3_ferret10_day5,rGD3_ferret10_day7,rGD3_ferret10_day9]\n",
    "\n",
    "x_A11 = [1,3]\n",
    "y_A11 = [rGD3_ferret11_day1,rGD3_ferret11_day3]\n",
    "\n",
    "x_A12 = [3,5]\n",
    "y_A12 = [rGD3_ferret12_day3,rGD3_ferret12_day5]\n",
    "\n",
    "x_A13 = [1,3,5]\n",
    "y_A13 = [rGD3_ferret13_day1,rGD3_ferret13_day3,rGD3_ferret13_day5]\n",
    "\n",
    "x_A15 = [1,3,5,7]\n",
    "y_A15 = [rGD3_ferret15_day1,rGD3_ferret15_day3,rGD3_ferret15_day5,rGD3_ferret15_day7]\n",
    "\n",
    "x_A16 = [3,5,7]\n",
    "y_A16 = [rGD3_ferret16_day3,rGD3_ferret16_day5,rGD3_ferret16_day7]\n",
    "\n",
    "x_A17 = [1,3,5,7]\n",
    "y_A17 = [rGD3_ferret17_day1,rGD3_ferret17_day3,rGD3_ferret17_day5,rGD3_ferret17_day7]\n",
    "\n",
    "x_A18 = [11,13,15]\n",
    "y_A18 = [rGD3_ferret18_day11,rGD3_ferret18_day13,rGD3_ferret18_day15]\n",
    "\n",
    "x_A19 = [1,3,5]\n",
    "y_A19 = [rGD3_ferret19_day1,rGD3_ferret19_day3,rGD3_ferret19_day5]\n",
    "\n",
    "x_A21 = [1,3,5]\n",
    "y_A21 = [rGD3_ferret21_day1,rGD3_ferret21_day3,rGD3_ferret21_day5]\n",
    "\n",
    "x_A22 = [3,5,7,9]\n",
    "y_A22 = [rGD3_ferret22_day3,rGD3_ferret22_day5,rGD3_ferret22_day7,rGD3_ferret22_day9]\n",
    "\n",
    "x_A23 = [1,3,5,7]\n",
    "y_A23 = [rGD3_ferret23_day1,rGD3_ferret23_day3,rGD3_ferret23_day5,rGD3_ferret23_day7]\n",
    "\n",
    "ax1.plot(x_A9, y_A9, linestyle='-', c='#890B0B', linewidth=4, label='ferret 9, index')\n",
    "ax1.plot(x_A10, y_A10, linestyle='--', c='#890B0B', linewidth=4, label='ferret 10, contact')\n",
    "ax1.plot(x_A11, y_A11, linestyle='-', c='#7A4D4D', linewidth=4, label='ferret 11, index')\n",
    "ax1.plot(x_A12, y_A12, linestyle='--', c='#7A4D4D', linewidth=4, label='ferret 12, contact')\n",
    "ax1.plot(x_A13, y_A13, linestyle='-', c='#F90808', linewidth=4, label='ferret 13, index')\n",
    "ax1.plot(x_A15, y_A15, linestyle='-', c='#F95858', linewidth=4, label='ferret 15, index')\n",
    "ax1.plot(x_A16, y_A16, linestyle='--', c='#F95858', linewidth=4, label='ferret 16, contact')\n",
    "ax1.plot(x_A17, y_A17, linestyle='-', c='#D68AA9', linewidth=4, label='ferret 17, index')\n",
    "ax1.plot(x_A18, y_A18, linestyle='--', c='#D68AA9', linewidth=4, label='ferret 18, contact')\n",
    "ax1.plot(x_A19, y_A19, linestyle='-', c='#B74277', linewidth=4, label='ferret 19, index')\n",
    "ax1.plot(x_A21, y_A21, linestyle='-', c='#911453', linewidth=4, label='ferret 21, index')\n",
    "ax1.plot(x_A22, y_A22, linestyle='--', c='#911453', linewidth=4, label='ferret 22, contact')\n",
    "ax1.plot(x_A23, y_A23, linestyle='-', c='#EF358A', linewidth=4, label='ferret 23, index')\n",
    "\n",
    "# edit the axes - ax1\n",
    "ax1.set_title('rGD3 group (HPAI)', fontname='Arial', fontsize=16)\n",
    "ax1.set_ylabel('iSNV count \\n', fontname='Arial', fontsize=14)\n",
    "ax1.set_xlabel('\\n timepoint (days post infection)', fontname='Arial', fontsize=14)\n",
    "ax1.set_facecolor('white')\n",
    "for tick in ax1.get_xticklabels():\n",
    "    tick.set_fontname(\"Arial\")\n",
    "for tick in ax1.get_yticklabels():\n",
    "    tick.set_fontname(\"Arial\")\n",
    "ax1.set_ylim(-10,120)\n",
    "ax1.set_yticks([0,50,100])\n",
    "ax1.set_xlim(0.8,15)\n",
    "ax1.set_xticks([1,3,5,7,9,11,13,15])\n",
    "\n",
    "ax1.legend(frameon=False, fontsize=14, ncol=2)\n",
    "\n",
    "# use tight_layout to optimize spacing of axes and titles within each subplot\n",
    "fig.tight_layout()\n",
    "fig.show()\n",
    "\n",
    "# save this plot to the figures folder \n",
    "fig.savefig(\"../figures/iSNV_counts/rGD3.pdf\", bbox_inches='tight', dpi=300)\n",
    "\n",
    "plt.show()"
   ]
  },
  {
   "cell_type": "code",
   "execution_count": 102,
   "metadata": {},
   "outputs": [
    {
     "data": {
      "text/plain": [
       "MannwhitneyuResult(statistic=1.5, pvalue=0.17017787119260075)"
      ]
     },
     "execution_count": 102,
     "metadata": {},
     "output_type": "execute_result"
    }
   ],
   "source": [
    "# are rates of h1n1 and h7n9 transmission actually different? \n",
    "\n",
    "import numpy as np\n",
    "\n",
    "\n",
    "h1n1 = [0.5,1.0] #transmission events = 1/2 and 3/3\n",
    "h7n9 = [0.25,0.25,0.5,0.75] #transmisssion events = 1/4, 1/4, 2/4, and 3/4\n",
    "\n",
    "# unpaired t-test\n",
    "stats.mannwhitneyu(h1n1,h7n9)"
   ]
  },
  {
   "cell_type": "code",
   "execution_count": 103,
   "metadata": {},
   "outputs": [
    {
     "name": "stdout",
     "output_type": "stream",
     "text": [
      "F_onewayResult(statistic=37.11911195406549, pvalue=6.826035824526289e-10)\n"
     ]
    },
    {
     "data": {
      "text/plain": [
       "array([[-1.00000000e+00,  3.96470240e-04,  4.12205998e-01,\n",
       "         1.55011764e-05],\n",
       "       [ 3.96470240e-04, -1.00000000e+00,  4.54676531e-03,\n",
       "         4.12205998e-01],\n",
       "       [ 4.12205998e-01,  4.54676531e-03, -1.00000000e+00,\n",
       "         2.44598753e-04],\n",
       "       [ 1.55011764e-05,  4.12205998e-01,  2.44598753e-04,\n",
       "        -1.00000000e+00]])"
      ]
     },
     "execution_count": 103,
     "metadata": {},
     "output_type": "execute_result"
    }
   ],
   "source": [
    "# is the proportion of total unique iSNVs per ferret different across virus groups\n",
    "\n",
    "import scikit_posthocs as sp\n",
    "\n",
    "anhui= [165,186,85,195,130]\n",
    "ca04 = [34,35,23,13,17,83,4,7,3]\n",
    "gd3 = [120,136,27,119,142]\n",
    "rgd3 = [11,5,1,4,3,9,8,22,43,10,9,18,22]\n",
    "\n",
    "#anova\n",
    "print(stats.f_oneway(anhui,ca04,gd3,rgd3))\n",
    "\n",
    "x = [[165,186,85,195,130],[34,35,23,13,17,83,4,7,3], [120,136,27,119,142], [11,5,1,4,3,9,8,22,43,10,9,18,22]]\n",
    "sp.posthoc_conover(x, p_adjust = 'holm')\n",
    "\n",
    "#"
   ]
  },
  {
   "cell_type": "code",
   "execution_count": 104,
   "metadata": {},
   "outputs": [
    {
     "data": {
      "text/plain": [
       "F_onewayResult(statistic=1.6829345512782612, pvalue=0.1941740611902512)"
      ]
     },
     "execution_count": 104,
     "metadata": {},
     "output_type": "execute_result"
    }
   ],
   "source": [
    "# is the proportion of nonsyn/total unique iSNVs different across virus groups\n",
    "\n",
    "anhui= [69/165,83/186,18/85,78/195,56/130]\n",
    "ca04 = [21/34,22/35,17/23,10/13,14/17,50/83,3/4,2/71/3]\n",
    "gd3 = [51/120,54/136,11/27,52/119,63/142]\n",
    "rgd3 = [5/11,1/5,0/1,1/4,2/3,8/9,4/8,14/22,22/43,4/10,4/9,11/18,14/22]\n",
    "\n",
    "#anova\n",
    "stats.f_oneway(anhui,ca04,gd3,rgd3)"
   ]
  },
  {
   "cell_type": "code",
   "execution_count": 105,
   "metadata": {},
   "outputs": [
    {
     "name": "stdout",
     "output_type": "stream",
     "text": [
      "[0.41818181818181815, 0.44623655913978494, 0.21176470588235294, 0.4, 0.4307692307692308]\n"
     ]
    }
   ],
   "source": [
    "print(anhui)"
   ]
  },
  {
   "cell_type": "code",
   "execution_count": 106,
   "metadata": {},
   "outputs": [
    {
     "name": "stdout",
     "output_type": "stream",
     "text": [
      "[0.6176470588235294, 0.6285714285714286, 0.7391304347826086, 0.7692307692307693, 0.8235294117647058, 0.6024096385542169, 0.75, 0.009389671361502348]\n"
     ]
    }
   ],
   "source": [
    "print(ca04)"
   ]
  },
  {
   "cell_type": "code",
   "execution_count": 107,
   "metadata": {},
   "outputs": [
    {
     "name": "stdout",
     "output_type": "stream",
     "text": [
      "[0.425, 0.39705882352941174, 0.4074074074074074, 0.4369747899159664, 0.44366197183098594]\n"
     ]
    }
   ],
   "source": [
    "print(gd3)"
   ]
  },
  {
   "cell_type": "code",
   "execution_count": 108,
   "metadata": {},
   "outputs": [
    {
     "name": "stdout",
     "output_type": "stream",
     "text": [
      "[0.45454545454545453, 0.2, 0.0, 0.25, 0.6666666666666666, 0.8888888888888888, 0.5, 0.6363636363636364, 0.5116279069767442, 0.4, 0.4444444444444444, 0.6111111111111112, 0.6363636363636364]\n"
     ]
    }
   ],
   "source": [
    "print(rgd3)"
   ]
  },
  {
   "cell_type": "code",
   "execution_count": 109,
   "metadata": {},
   "outputs": [],
   "source": [
    "# do the distribution of iSNVs across the genome differ by virus group? \n",
    "\n",
    "# Anhui (gene lengths): 2281 (17.4),2274 (17.4),2151 (16.4),1683(12.8),1497 (11.4),1398(10.7),982(7.5),838 (6.4) (13104)\n",
    "# GD3 (gene lengths): 22280 (17.4),2274(17.3),2145(16.4),1696(12.9),1497(11.4),1398(10.7),982(7.5),838(6.4) (13110)\n",
    "# CA40 (gene lengths): 2280 (17.3),2274(17.2),2151(16.3),1701(12.9),1497(11.4),1411(10.7),982 (7.5),863 (6.6) (13159)"
   ]
  },
  {
   "cell_type": "code",
   "execution_count": 110,
   "metadata": {},
   "outputs": [],
   "source": [
    "# load all text files in a directory into Pandas dataframes \n",
    "def load_intersection_dataframes(path, ferret):\n",
    "    filelist = [os.path.splitext(file)[0] for file in os.listdir(path) if file.startswith(ferret)]\n",
    "    list_of_DFs = []\n",
    "    for file in filelist:\n",
    "        DF = path + '/' + file + '.csv'\n",
    "        file = pd.read_csv(DF, header=0, sep='\\t', low_memory=False)\n",
    "        file = file[file['%'] <= 0.99]\n",
    "        list_of_DFs.append(file)\n",
    "    return(list_of_DFs)\n",
    "    \n",
    "def run_load_intersection_dataframes_anhui(ferret): \n",
    "    a = load_intersection_dataframes('../data_derived/vcfs-intersection', ferret)\n",
    "    all_intersection_dataframes = pd.concat(a, axis=0) # concat all dataframes \n",
    "    all_intersection_dataframes = all_intersection_dataframes.drop_duplicates(['SNP'], keep='first')\n",
    "    a = len(all_intersection_dataframes)\n",
    "    PB2 = (all_intersection_dataframes.SNP.str.count('PB2').sum() / a ) / .174\n",
    "#     print(\"iSNVs per nucleotide in PB2: \", PB2)\n",
    "    PB1 = (all_intersection_dataframes.SNP.str.count('PB1').sum() / a ) / .174\n",
    "#     print(\"iSNVs per nucleotide in PB1: \", PB1)\n",
    "    PA = (all_intersection_dataframes.SNP.str.count('PA').sum() / a) / .164\n",
    "#     print(\"iSNVs per nucleotide in PA: \", PA)\n",
    "    HA = (all_intersection_dataframes.SNP.str.count('HA').sum() / a) / .128\n",
    "#     print(\"iSNVs per nucleotide in HA: \", HA)\n",
    "    NP = (all_intersection_dataframes.SNP.str.count('NP').sum() / a) / .114\n",
    "#     print(\"iSNVs per nucleotide in NP: \", NP)\n",
    "    NA = (all_intersection_dataframes.SNP.str.count('NA').sum() / a) / .107\n",
    "#     print(\"iSNVs per nucleotide in NA: \", NA)\n",
    "    MP = ((all_intersection_dataframes.SNP.str.count('M1').sum() + all_intersection_dataframes.SNP.str.count('M2').sum()) / a) / .075\n",
    "#     print(\"iSNVs per nucleotide in MP: \", MP)\n",
    "    NS = ((all_intersection_dataframes.SNP.str.count('NS1').sum() + all_intersection_dataframes.SNP.str.count('NEP').sum()) / a) / .064\n",
    "#     print(\"iSNVs per nucleotide in NS: \", NS)\n",
    "    l = (PB2 + PB1 + PA + HA + NP+ NA + MP + NS) / 8\n",
    "    return(l)"
   ]
  },
  {
   "cell_type": "code",
   "execution_count": 111,
   "metadata": {},
   "outputs": [],
   "source": [
    "load_intersection_dataframes('../data_derived/vcfs-intersection', 'Anhui_ferret25')\n",
    "a25 = run_load_intersection_dataframes_anhui('Anhui_ferret25')"
   ]
  },
  {
   "cell_type": "code",
   "execution_count": 112,
   "metadata": {},
   "outputs": [],
   "source": [
    "load_intersection_dataframes('../data_derived/vcfs-intersection', 'Anhui_ferret27')\n",
    "a27 = run_load_intersection_dataframes_anhui('Anhui_ferret27')"
   ]
  },
  {
   "cell_type": "code",
   "execution_count": 113,
   "metadata": {},
   "outputs": [],
   "source": [
    "load_intersection_dataframes('../data_derived/vcfs-intersection', 'Anhui_ferret28')\n",
    "a28 = run_load_intersection_dataframes_anhui('Anhui_ferret28')"
   ]
  },
  {
   "cell_type": "code",
   "execution_count": 114,
   "metadata": {},
   "outputs": [],
   "source": [
    "load_intersection_dataframes('../data_derived/vcfs-intersection', 'Anhui_ferret29')\n",
    "a29 = run_load_intersection_dataframes_anhui('Anhui_ferret29')"
   ]
  },
  {
   "cell_type": "code",
   "execution_count": 115,
   "metadata": {},
   "outputs": [],
   "source": [
    "load_intersection_dataframes('../data_derived/vcfs-intersection', 'Anhui_ferret31')\n",
    "a31 = run_load_intersection_dataframes_anhui('Anhui_ferret31')"
   ]
  },
  {
   "cell_type": "code",
   "execution_count": 116,
   "metadata": {},
   "outputs": [],
   "source": [
    "# load all text files in a directory into Pandas dataframes \n",
    "def load_intersection_dataframes(path, ferret):\n",
    "    filelist = [os.path.splitext(file)[0] for file in os.listdir(path) if file.startswith(ferret)]\n",
    "    list_of_DFs = []\n",
    "    for file in filelist:\n",
    "        DF = path + '/' + file + '.csv'\n",
    "        file = pd.read_csv(DF, header=0, sep='\\t', low_memory=False)\n",
    "        file = file[file['%'] <= 0.99]\n",
    "        list_of_DFs.append(file)\n",
    "    return(list_of_DFs)\n",
    "    \n",
    "def run_load_intersection_dataframes_gd3(ferret): \n",
    "    a = load_intersection_dataframes('../data_derived/vcfs-intersection', ferret)\n",
    "    all_intersection_dataframes = pd.concat(a, axis=0) # concat all dataframes \n",
    "    all_intersection_dataframes = all_intersection_dataframes.drop_duplicates(['SNP'], keep='first')\n",
    "    a = len(all_intersection_dataframes)\n",
    "    PB2 = (all_intersection_dataframes.SNP.str.count('PB2').sum() / a ) / .174\n",
    "#     print(\"iSNVs per nucleotide in PB2: \", PB2)\n",
    "    PB1 = (all_intersection_dataframes.SNP.str.count('PB1').sum() / a ) / .173\n",
    "#     print(\"iSNVs per nucleotide in PB1: \", PB1)\n",
    "    PA = (all_intersection_dataframes.SNP.str.count('PA').sum() / a) / .164\n",
    "#     print(\"iSNVs per nucleotide in PA: \", PA)\n",
    "    HA = (all_intersection_dataframes.SNP.str.count('HA').sum() / a) / .129\n",
    "#     print(\"iSNVs per nucleotide in HA: \", HA)\n",
    "    NP = (all_intersection_dataframes.SNP.str.count('NP').sum() / a) / .114\n",
    "#     print(\"iSNVs per nucleotide in NP: \", NP)\n",
    "    NA = (all_intersection_dataframes.SNP.str.count('NA').sum() / a) / .107\n",
    "#     print(\"iSNVs per nucleotide in NA: \", NA)\n",
    "    MP = ((all_intersection_dataframes.SNP.str.count('M1').sum() + all_intersection_dataframes.SNP.str.count('M2').sum()) / a) / .075\n",
    "#     print(\"iSNVs per nucleotide in MP: \", MP)\n",
    "    NS = ((all_intersection_dataframes.SNP.str.count('NS1').sum() + all_intersection_dataframes.SNP.str.count('NEP').sum()) / a) / .064\n",
    "#     print(\"iSNVs per nucleotide in NS: \", NS)\n",
    "    l = (PB2 + PB1 + PA + HA + NP+ NA + MP + NS) / 8\n",
    "    return(l)"
   ]
  },
  {
   "cell_type": "code",
   "execution_count": 117,
   "metadata": {},
   "outputs": [],
   "source": [
    "load_intersection_dataframes('../data_derived/vcfs-intersection', 'GD3_ferret1')\n",
    "g1 = run_load_intersection_dataframes_gd3('GD3_ferret1')"
   ]
  },
  {
   "cell_type": "code",
   "execution_count": 118,
   "metadata": {},
   "outputs": [],
   "source": [
    "load_intersection_dataframes('../data_derived/vcfs-intersection', 'GD3_ferret3')\n",
    "g3 = run_load_intersection_dataframes_gd3('GD3_ferret3')"
   ]
  },
  {
   "cell_type": "code",
   "execution_count": 119,
   "metadata": {},
   "outputs": [],
   "source": [
    "load_intersection_dataframes('../data_derived/vcfs-intersection', 'GD3_ferret4')\n",
    "g4 = run_load_intersection_dataframes_gd3('GD3_ferret4')"
   ]
  },
  {
   "cell_type": "code",
   "execution_count": 120,
   "metadata": {},
   "outputs": [],
   "source": [
    "load_intersection_dataframes('../data_derived/vcfs-intersection', 'GD3_ferret5')\n",
    "g5 = run_load_intersection_dataframes_gd3('GD3_ferret5')"
   ]
  },
  {
   "cell_type": "code",
   "execution_count": 121,
   "metadata": {},
   "outputs": [],
   "source": [
    "load_intersection_dataframes('../data_derived/vcfs-intersection', 'GD3_ferret7')\n",
    "g7 = run_load_intersection_dataframes_gd3('GD3_ferret7')"
   ]
  },
  {
   "cell_type": "code",
   "execution_count": 122,
   "metadata": {},
   "outputs": [],
   "source": [
    "load_intersection_dataframes('../data_derived/vcfs-intersection', 'rGD3_ferret9')\n",
    "r9 = run_load_intersection_dataframes_gd3('rGD3_ferret9')"
   ]
  },
  {
   "cell_type": "code",
   "execution_count": 123,
   "metadata": {},
   "outputs": [],
   "source": [
    "load_intersection_dataframes('../data_derived/vcfs-intersection', 'rGD3_ferret10')\n",
    "r10 = run_load_intersection_dataframes_gd3('rGD3_ferret10')"
   ]
  },
  {
   "cell_type": "code",
   "execution_count": 124,
   "metadata": {},
   "outputs": [],
   "source": [
    "load_intersection_dataframes('../data_derived/vcfs-intersection', 'rGD3_ferret11')\n",
    "r11 = run_load_intersection_dataframes_gd3('rGD3_ferret11')"
   ]
  },
  {
   "cell_type": "code",
   "execution_count": 125,
   "metadata": {},
   "outputs": [],
   "source": [
    "load_intersection_dataframes('../data_derived/vcfs-intersection', 'rGD3_ferret12')\n",
    "r12 = run_load_intersection_dataframes_gd3('rGD3_ferret12')"
   ]
  },
  {
   "cell_type": "code",
   "execution_count": 126,
   "metadata": {},
   "outputs": [],
   "source": [
    "load_intersection_dataframes('../data_derived/vcfs-intersection', 'rGD3_ferret13')\n",
    "r13 = run_load_intersection_dataframes_gd3('rGD3_ferret13')"
   ]
  },
  {
   "cell_type": "code",
   "execution_count": 127,
   "metadata": {},
   "outputs": [],
   "source": [
    "load_intersection_dataframes('../data_derived/vcfs-intersection', 'rGD3_ferret15')\n",
    "r15 = run_load_intersection_dataframes_gd3('rGD3_ferret15')"
   ]
  },
  {
   "cell_type": "code",
   "execution_count": 128,
   "metadata": {},
   "outputs": [],
   "source": [
    "load_intersection_dataframes('../data_derived/vcfs-intersection', 'rGD3_ferret16')\n",
    "r16 = run_load_intersection_dataframes_gd3('rGD3_ferret16')"
   ]
  },
  {
   "cell_type": "code",
   "execution_count": 129,
   "metadata": {},
   "outputs": [],
   "source": [
    "load_intersection_dataframes('../data_derived/vcfs-intersection', 'rGD3_ferret17')\n",
    "r17 = run_load_intersection_dataframes_gd3('rGD3_ferret17')"
   ]
  },
  {
   "cell_type": "code",
   "execution_count": 130,
   "metadata": {},
   "outputs": [],
   "source": [
    "load_intersection_dataframes('../data_derived/vcfs-intersection', 'rGD3_ferret18')\n",
    "r18 = run_load_intersection_dataframes_gd3('rGD3_ferret18')"
   ]
  },
  {
   "cell_type": "code",
   "execution_count": 131,
   "metadata": {},
   "outputs": [],
   "source": [
    "load_intersection_dataframes('../data_derived/vcfs-intersection', 'rGD3_ferret19')\n",
    "r19 = run_load_intersection_dataframes_gd3('rGD3_ferret19')"
   ]
  },
  {
   "cell_type": "code",
   "execution_count": 132,
   "metadata": {},
   "outputs": [],
   "source": [
    "load_intersection_dataframes('../data_derived/vcfs-intersection', 'rGD3_ferret21')\n",
    "r21 = run_load_intersection_dataframes_gd3('rGD3_ferret21')"
   ]
  },
  {
   "cell_type": "code",
   "execution_count": 133,
   "metadata": {},
   "outputs": [],
   "source": [
    "load_intersection_dataframes('../data_derived/vcfs-intersection', 'rGD3_ferret22')\n",
    "r22 = run_load_intersection_dataframes_gd3('rGD3_ferret22')"
   ]
  },
  {
   "cell_type": "code",
   "execution_count": 134,
   "metadata": {},
   "outputs": [],
   "source": [
    "load_intersection_dataframes('../data_derived/vcfs-intersection', 'rGD3_ferret23')\n",
    "r23 = run_load_intersection_dataframes_gd3('rGD3_ferret23')"
   ]
  },
  {
   "cell_type": "code",
   "execution_count": 135,
   "metadata": {},
   "outputs": [],
   "source": [
    "# load all text files in a directory into Pandas dataframes \n",
    "def load_intersection_dataframes(path, ferret):\n",
    "    filelist = [os.path.splitext(file)[0] for file in os.listdir(path) if file.startswith(ferret)]\n",
    "    list_of_DFs = []\n",
    "    for file in filelist:\n",
    "        DF = path + '/' + file + '.csv'\n",
    "        file = pd.read_csv(DF, header=0, sep='\\t', low_memory=False)\n",
    "        file = file[file['%'] <= 0.99]\n",
    "        list_of_DFs.append(file)\n",
    "    return(list_of_DFs)\n",
    "    \n",
    "def run_load_intersection_dataframes_ca04(ferret): \n",
    "    a = load_intersection_dataframes('../data_derived/vcfs-intersection', ferret)\n",
    "    all_intersection_dataframes = pd.concat(a, axis=0) # concat all dataframes \n",
    "    all_intersection_dataframes = all_intersection_dataframes.drop_duplicates(['SNP'], keep='first')\n",
    "    a = len(all_intersection_dataframes)\n",
    "    PB2 = (all_intersection_dataframes.SNP.str.count('PB2').sum() / a ) / .173\n",
    "#     print(\"iSNVs per nucleotide in PB2: \", PB2)\n",
    "    PB1 = (all_intersection_dataframes.SNP.str.count('PB1').sum() / a ) / .172\n",
    "#     print(\"iSNVs per nucleotide in PB1: \", PB1)\n",
    "    PA = (all_intersection_dataframes.SNP.str.count('PA').sum() / a) / .163\n",
    "#     print(\"iSNVs per nucleotide in PA: \", PA)\n",
    "    HA = (all_intersection_dataframes.SNP.str.count('HA').sum() / a) / .129\n",
    "#     print(\"iSNVs per nucleotide in HA: \", HA)\n",
    "    NP = (all_intersection_dataframes.SNP.str.count('NP').sum() / a) / .114\n",
    "#     print(\"iSNVs per nucleotide in NP: \", NP)\n",
    "    NA = (all_intersection_dataframes.SNP.str.count('NA').sum() / a) / .107\n",
    "#     print(\"iSNVs per nucleotide in NA: \", NA)\n",
    "    MP = ((all_intersection_dataframes.SNP.str.count('M1').sum() + all_intersection_dataframes.SNP.str.count('M2').sum()) / a) / .075\n",
    "#     print(\"iSNVs per nucleotide in MP: \", MP)\n",
    "    NS = ((all_intersection_dataframes.SNP.str.count('NS1').sum() + all_intersection_dataframes.SNP.str.count('NEP').sum()) / a) / .066\n",
    "#     print(\"iSNVs per nucleotide in NS: \", NS)\n",
    "    l = (PB2 + PB1 + PA + HA + NP+ NA + MP + NS) / 8\n",
    "    return(l)"
   ]
  },
  {
   "cell_type": "code",
   "execution_count": 136,
   "metadata": {},
   "outputs": [],
   "source": [
    "load_intersection_dataframes('../data_derived/vcfs-intersection', 'CA04_ferret1')\n",
    "c1 = run_load_intersection_dataframes_gd3('CA04_ferret1')"
   ]
  },
  {
   "cell_type": "code",
   "execution_count": 137,
   "metadata": {},
   "outputs": [],
   "source": [
    "load_intersection_dataframes('../data_derived/vcfs-intersection', 'CA04_ferret2')\n",
    "c2 = run_load_intersection_dataframes_gd3('CA04_ferret2')"
   ]
  },
  {
   "cell_type": "code",
   "execution_count": 138,
   "metadata": {},
   "outputs": [],
   "source": [
    "load_intersection_dataframes('../data_derived/vcfs-intersection', 'CA04_ferret3')\n",
    "c3 = run_load_intersection_dataframes_gd3('CA04_ferret3')"
   ]
  },
  {
   "cell_type": "code",
   "execution_count": 139,
   "metadata": {},
   "outputs": [],
   "source": [
    "load_intersection_dataframes('../data_derived/vcfs-intersection', 'CA04_ferret4')\n",
    "c4 = run_load_intersection_dataframes_gd3('CA04_ferret4')"
   ]
  },
  {
   "cell_type": "code",
   "execution_count": 140,
   "metadata": {},
   "outputs": [],
   "source": [
    "load_intersection_dataframes('../data_derived/vcfs-intersection', 'CA04_ferret5')\n",
    "c5 = run_load_intersection_dataframes_gd3('CA04_ferret5')"
   ]
  },
  {
   "cell_type": "code",
   "execution_count": 141,
   "metadata": {},
   "outputs": [],
   "source": [
    "load_intersection_dataframes('../data_derived/vcfs-intersection', 'CA04_ferret6')\n",
    "c6 = run_load_intersection_dataframes_gd3('CA04_ferret6')"
   ]
  },
  {
   "cell_type": "code",
   "execution_count": 142,
   "metadata": {},
   "outputs": [],
   "source": [
    "load_intersection_dataframes('../data_derived/vcfs-intersection', 'CA04_ferret33')\n",
    "c33 = run_load_intersection_dataframes_gd3('CA04_ferret33')"
   ]
  },
  {
   "cell_type": "code",
   "execution_count": 143,
   "metadata": {},
   "outputs": [],
   "source": [
    "load_intersection_dataframes('../data_derived/vcfs-intersection', 'CA04_ferret35')\n",
    "c35 = run_load_intersection_dataframes_gd3('CA04_ferret35')"
   ]
  },
  {
   "cell_type": "code",
   "execution_count": 144,
   "metadata": {},
   "outputs": [],
   "source": [
    "load_intersection_dataframes('../data_derived/vcfs-intersection', 'CA04_ferret36')\n",
    "c36 = run_load_intersection_dataframes_gd3('CA04_ferret36')"
   ]
  },
  {
   "cell_type": "code",
   "execution_count": 145,
   "metadata": {},
   "outputs": [
    {
     "data": {
      "text/plain": [
       "F_onewayResult(statistic=0.5371686247891875, pvalue=0.6606880505515327)"
      ]
     },
     "execution_count": 145,
     "metadata": {},
     "output_type": "execute_result"
    }
   ],
   "source": [
    "# what about the distribution iSNVs across the genome\n",
    "\n",
    "anhui= [a25,a27,a28,a29,a31]\n",
    "ca04 = [c1,c2,c3,c4,c5,c6,c33,c35,c36]\n",
    "gd3 = [g1,g3,g4,g5,g7]\n",
    "rgd3 = [r9,r10,r11,r12,r13,r15,r16,r17,r18,r19,r21,r22,r23]\n",
    "\n",
    "#anova\n",
    "stats.f_oneway(anhui,ca04,gd3,rgd3)"
   ]
  },
  {
   "cell_type": "code",
   "execution_count": null,
   "metadata": {},
   "outputs": [],
   "source": []
  }
 ],
 "metadata": {
  "kernelspec": {
   "display_name": "Python 3",
   "language": "python",
   "name": "python3"
  },
  "language_info": {
   "codemirror_mode": {
    "name": "ipython",
    "version": 3
   },
   "file_extension": ".py",
   "mimetype": "text/x-python",
   "name": "python",
   "nbconvert_exporter": "python",
   "pygments_lexer": "ipython3",
   "version": "3.6.8"
  }
 },
 "nbformat": 4,
 "nbformat_minor": 4
}
