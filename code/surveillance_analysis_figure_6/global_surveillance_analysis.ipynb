{
 "cells": [
  {
   "cell_type": "code",
   "execution_count": 1,
   "id": "2150bab2",
   "metadata": {},
   "outputs": [],
   "source": [
    "# loading dependencies\n",
    "\n",
    "\n",
    "import os\n",
    "import glob\n",
    "import csv\n",
    "from pathlib import Path\n",
    "from umi_tools import UMIClusterer\n",
    "import matplotlib.pyplot as plt\n",
    "import json\n",
    "import requests\n",
    "from itertools import combinations\n",
    "from scipy.stats import ttest_ind\n",
    "import sys, subprocess, glob, os, shutil, re, importlib, csv, json\n",
    "from subprocess import call\n",
    "import collections\n",
    "from collections import Counter\n",
    "from Bio import SeqIO\n",
    "from Bio import Seq\n",
    "import Bio.Phylo\n",
    "import pandas as pd\n",
    "import numpy as np\n",
    "import rpy2\n",
    "from scipy import stats\n",
    "#%load_ext rpy2.ipython\n",
    "%reload_ext rpy2.ipython\n",
    "from io import BytesIO as csio\n",
    "import requests\n",
    "import matplotlib.pyplot as plt\n",
    "import matplotlib\n",
    "from matplotlib import rc\n",
    "import matplotlib as mpl\n",
    "from matplotlib.pyplot import figure\n",
    "import matplotlib.patches as mpatches\n",
    "#matplotlib.use('TkAgg')\n",
    "%matplotlib inline"
   ]
  },
  {
   "cell_type": "markdown",
   "id": "5380843f",
   "metadata": {},
   "source": [
    "## Compiling our iSNVs into a single dataframe"
   ]
  },
  {
   "cell_type": "code",
   "execution_count": 2,
   "id": "21c23237",
   "metadata": {},
   "outputs": [],
   "source": [
    "folder='vcf_intersection/'\n",
    "\n",
    "#save column with filename name (hence, ferret ID, timepoint and replicate)\n",
    "for file in Path(folder).glob('*.csv'):\n",
    "    df=pd.read_csv(file, sep='\\t', index_col=None, header=0)\n",
    "    df['filename'] = os.path.basename(file)\n",
    "    df.to_csv(file.with_suffix('.csv'), index = False, sep='\\t')\n",
    "\n"
   ]
  },
  {
   "cell_type": "code",
   "execution_count": 3,
   "id": "e3b0959d",
   "metadata": {},
   "outputs": [
    {
     "name": "stdout",
     "output_type": "stream",
     "text": [
      "Total number of Anhui mutations is:  165\n"
     ]
    }
   ],
   "source": [
    "#concatenate all Anhui files into a single dataframe\n",
    "folder='vcf_intersection/'\n",
    "all_files = glob.glob(os.path.join(folder, \"Anhui*.csv\")) \n",
    "df_from_each_file = (pd.read_csv(f, sep='\\t') for f in all_files)\n",
    "concatenated_df = pd.concat(df_from_each_file, ignore_index=True)\n",
    "concatenated_df.to_csv('Anhui_concatenated_all_snps.csv', sep='\\t', index=False)\n",
    "\n",
    "#cleaning dataframe\n",
    "df = pd.read_csv('Anhui_concatenated_all_snps.csv', sep='\\t')\n",
    "df_sub = df.SNP.str.split(\"_\", expand=True)\n",
    "df_sub = df_sub.rename(columns={0: 'gene', 1: 'nt_POS', 2: 'annotation'})\n",
    "df[\"gene\"] = df_sub['gene']\n",
    "df[\"nt_POS\"] = df_sub['nt_POS']\n",
    "df[\"annotation\"] = df_sub['annotation']\n",
    "#df = df[df['gene'] == 'HA']\n",
    "df['filename'] = df['filename'].apply(str)\n",
    "df_file = df.filename.str.split(\".\", expand=True)\n",
    "df_animal = df_file[0]\n",
    "df_animal_subset = pd.DataFrame(df_animal)\n",
    "df['Sample'] = df_animal_subset\n",
    "df = df.rename(columns={'POS_x': 'POS'})\n",
    "df.POS = df.POS.astype(int)\n",
    "df['REF'] = df['nt_POS'].str[:1]\n",
    "df['ALT'] = df['nt_POS'].str[-1:]\n",
    "df = df[[\"gene\", 'annotation', 'POS', 'REF', 'ALT', 'SNP', 'Sample']]\n",
    "df = df[df['annotation'] != 'syn']\n",
    "df = df.drop_duplicates(subset='SNP', keep=\"first\")\n",
    "df = df.sort_values('POS', ascending=True)\n",
    "df.to_csv('final_Anhui_cleaned_snps.csv', sep='\\t', index=False)\n",
    "print(\"Total number of Anhui mutations is: \", len(df))\n",
    "\n"
   ]
  },
  {
   "cell_type": "code",
   "execution_count": 4,
   "id": "40bb9016",
   "metadata": {},
   "outputs": [
    {
     "name": "stdout",
     "output_type": "stream",
     "text": [
      "Total number of GD3 mutations is:  97\n"
     ]
    }
   ],
   "source": [
    "#concatenate all GD3 files into a single dataframe\n",
    "folder='vcf_intersection/'\n",
    "all_files = glob.glob(os.path.join(folder, \"GD3*.csv\")) \n",
    "df_from_each_file = (pd.read_csv(f, sep='\\t') for f in all_files)\n",
    "concatenated_df = pd.concat(df_from_each_file, ignore_index=True)\n",
    "concatenated_df.to_csv('GD3_concatenated_all_snps.csv', sep='\\t', index=False)\n",
    "\n",
    "#cleaning dataframe\n",
    "df = pd.read_csv('GD3_concatenated_all_snps.csv', sep='\\t')\n",
    "df_sub = df.SNP.str.split(\"_\", expand=True)\n",
    "df_sub = df_sub.rename(columns={0: 'gene', 1: 'nt_POS', 2: 'annotation'})\n",
    "df[\"gene\"] = df_sub['gene']\n",
    "df[\"nt_POS\"] = df_sub['nt_POS']\n",
    "df[\"annotation\"] = df_sub['annotation']\n",
    "#df = df[df['gene'] == 'HA']\n",
    "df['filename'] = df['filename'].apply(str)\n",
    "df_file = df.filename.str.split(\".\", expand=True)\n",
    "df_animal = df_file[0]\n",
    "df_animal_subset = pd.DataFrame(df_animal)\n",
    "df['Sample'] = df_animal_subset\n",
    "df = df.rename(columns={'POS_x': 'POS'})\n",
    "df.POS = df.POS.astype(int)\n",
    "df['REF'] = df['nt_POS'].str[:1]\n",
    "df['ALT'] = df['nt_POS'].str[-1:]\n",
    "df = df[df['annotation'] != 'syn']\n",
    "df = df.drop_duplicates(subset='SNP', keep=\"first\")\n",
    "df = df.sort_values('POS', ascending=True)\n",
    "df = df[[\"gene\", 'annotation', 'POS', 'REF', 'ALT', 'SNP', 'Sample']]\n",
    "df.to_csv('final_GD3_cleaned_snps.csv', sep='\\t', index=False)\n",
    "print(\"Total number of GD3 mutations is: \", len(df))\n"
   ]
  },
  {
   "cell_type": "code",
   "execution_count": 5,
   "id": "68712d33",
   "metadata": {},
   "outputs": [],
   "source": [
    "#creating a single file wth everything just i case we need it\n",
    "\n",
    "anhui = pd.read_csv('final_Anhui_cleaned_snps.csv', sep='\\t')\n",
    "gd3 = pd.read_csv('final_GD3_cleaned_snps.csv', sep='\\t')\n",
    "data = [anhui, gd3]\n",
    "\n",
    "final = pd.concat(data, ignore_index=True)\n",
    "\n",
    "final.to_csv('final_all_cleaned_snps.csv', sep='\\t', index=False)"
   ]
  },
  {
   "cell_type": "markdown",
   "id": "61bc59c3",
   "metadata": {},
   "source": [
    "## Global Surveillance Analysis\n",
    "##### Callling the list of Nexstrain mutations and cleaning the data"
   ]
  },
  {
   "cell_type": "code",
   "execution_count": 406,
   "id": "94a6fe4a",
   "metadata": {},
   "outputs": [
    {
     "data": {
      "text/plain": [
       "array(['HA', 'PA', nan, 'PB1', 'PB2', 'MP', 'NS', 'NP'], dtype=object)"
      ]
     },
     "execution_count": 406,
     "metadata": {},
     "output_type": "execute_result"
    }
   ],
   "source": [
    "path_to_global_isnvs = 'full_nextstrain_mutations_table.tsv'\n",
    "global_isnv = pd.read_csv(path_to_global_isnvs, sep='\\t')\n",
    "\n",
    "# subsetting for the columns we need\n",
    "\n",
    "global_isnv = global_isnv[['coding_region_change', 'avian_mutations',\n",
    "       'human_mutations', 'gene', 'region_gene', 'site']]\n",
    "\n",
    "\n",
    "global_isnv['gene'].unique()"
   ]
  },
  {
   "cell_type": "code",
   "execution_count": 407,
   "id": "d438660b",
   "metadata": {},
   "outputs": [
    {
     "name": "stdout",
     "output_type": "stream",
     "text": [
      "['HA' 'PA' 'NA' 'PB1' 'PB2' 'MP' 'NS' 'NP']\n",
      "\n",
      " Total number of mutations used for the analysis is:  2071\n"
     ]
    }
   ],
   "source": [
    "global_isnv['gene'] = global_isnv['gene'].fillna('NA1')\n",
    "global_isnv['gene'] = global_isnv['gene'].str.replace('NA1', 'NA')\n",
    "\n",
    "\n",
    "global_isnv = global_isnv.drop_duplicates(subset='region_gene', keep=\"first\")\n",
    "print(global_isnv['gene'].unique())\n",
    "\n",
    "print(\"\\n Total number of mutations used for the analysis is: \", len(global_isnv['coding_region_change']))"
   ]
  },
  {
   "cell_type": "markdown",
   "id": "3d42c01f",
   "metadata": {},
   "source": [
    "### Now we clean our iSNVs so that we can later merge with the Nextrsin data for each group (Anhui and GD3)"
   ]
  },
  {
   "cell_type": "code",
   "execution_count": 408,
   "id": "795e3b4d",
   "metadata": {},
   "outputs": [
    {
     "name": "stdout",
     "output_type": "stream",
     "text": [
      "Number of Anhui/1 iSNVs is:  165\n",
      "Number of GD/3 iSNVs is:  97\n"
     ]
    },
    {
     "data": {
      "text/plain": [
       "array(['NEP', 'NS1', 'PA', 'PB2', nan, 'PB1', 'NP', 'HA', 'M1', 'M2'],\n",
       "      dtype=object)"
      ]
     },
     "execution_count": 408,
     "metadata": {},
     "output_type": "execute_result"
    }
   ],
   "source": [
    "anhui = 'final_Anhui_cleaned_snps.csv'\n",
    "gd3 = 'final_GD3_cleaned_snps.csv'\n",
    "\n",
    "snv_anhui = pd.read_csv(anhui, sep='\\t')\n",
    "snv_gd3 = pd.read_csv(gd3, sep='\\t')\n",
    "\n",
    "print(\"Number of Anhui/1 iSNVs is: \", len(snv_anhui))\n",
    "print(\"Number of GD/3 iSNVs is: \", len(snv_gd3))\n",
    "snv_anhui['gene'].unique()"
   ]
  },
  {
   "cell_type": "code",
   "execution_count": 409,
   "id": "9dd5d9aa",
   "metadata": {},
   "outputs": [],
   "source": [
    "# NA is being read as nan\n",
    "# We need to correct this and change the name of the gene segments to only focus on the 8 major proteins\n",
    "\n",
    "snv_anhui['gene'] = snv_anhui['gene'].str.replace('M1', 'MP')\n",
    "snv_anhui['gene'] = snv_anhui['gene'].str.replace('M2', 'MP')\n",
    "snv_anhui['gene'] = snv_anhui['gene'].str.replace('NEP', 'NP')\n",
    "snv_anhui['gene'] = snv_anhui['gene'].str.replace('NS1', 'NS')\n",
    "snv_anhui['gene'] = snv_anhui['gene'].str.replace('NS2', 'NS')\n",
    "snv_anhui['gene'] = snv_anhui['gene'].fillna('NA1')\n",
    "snv_anhui['gene'] = snv_anhui['gene'].str.replace('NA1', 'NA')\n",
    "\n",
    "snv_gd3['gene'] = snv_gd3['gene'].str.replace('M1', 'MP')\n",
    "snv_gd3['gene'] = snv_gd3['gene'].str.replace('M2', 'MP')\n",
    "snv_gd3['gene'] = snv_gd3['gene'].str.replace('NEP', 'NP')\n",
    "snv_gd3['gene'] = snv_gd3['gene'].str.replace('NS1', 'NS')\n",
    "snv_gd3['gene'] = snv_gd3['gene'].str.replace('NS2', 'NS')\n",
    "snv_gd3['gene'] = snv_gd3['gene'].fillna('NA1')\n",
    "snv_gd3['gene'] = snv_gd3['gene'].str.replace('NA1', 'NA')\n",
    "\n"
   ]
  },
  {
   "cell_type": "code",
   "execution_count": 410,
   "id": "983133c6",
   "metadata": {},
   "outputs": [
    {
     "name": "stdout",
     "output_type": "stream",
     "text": [
      "['NP' 'NS' 'PA' 'PB2' 'NA' 'PB1' 'HA' 'MP']\n"
     ]
    }
   ],
   "source": [
    "# Looking good\n",
    "\n",
    "print(snv_anhui['gene'].unique())"
   ]
  },
  {
   "cell_type": "code",
   "execution_count": 411,
   "id": "6bb503c4",
   "metadata": {
    "scrolled": false
   },
   "outputs": [
    {
     "name": "stderr",
     "output_type": "stream",
     "text": [
      "/var/folders/4h/6r4ld7rx7696y7ff000141z40000gp/T/ipykernel_1280/730415670.py:4: SettingWithCopyWarning: \n",
      "A value is trying to be set on a copy of a slice from a DataFrame.\n",
      "Try using .loc[row_indexer,col_indexer] = value instead\n",
      "\n",
      "See the caveats in the documentation: https://pandas.pydata.org/pandas-docs/stable/user_guide/indexing.html#returning-a-view-versus-a-copy\n",
      "  snv_anhui_sub['site'] = snv_anhui_sub['gene'] + \" \" + snv_anhui_sub['annotation']\n",
      "/var/folders/4h/6r4ld7rx7696y7ff000141z40000gp/T/ipykernel_1280/730415670.py:8: SettingWithCopyWarning: \n",
      "A value is trying to be set on a copy of a slice from a DataFrame.\n",
      "Try using .loc[row_indexer,col_indexer] = value instead\n",
      "\n",
      "See the caveats in the documentation: https://pandas.pydata.org/pandas-docs/stable/user_guide/indexing.html#returning-a-view-versus-a-copy\n",
      "  snv_gd3_sub['site'] = snv_gd3_sub['gene'] + \" \" + snv_gd3_sub['annotation']\n"
     ]
    }
   ],
   "source": [
    "# subsetting both lists to what we need: coding region, sample and gene \n",
    "\n",
    "snv_anhui_sub = snv_anhui[['annotation', 'Sample', 'gene']]\n",
    "snv_anhui_sub['site'] = snv_anhui_sub['gene'] + \" \" + snv_anhui_sub['annotation']\n",
    "snv_anhui_sub = snv_anhui_sub.rename(columns = {'annotation':'coding_region_change'})\n",
    "\n",
    "snv_gd3_sub = snv_gd3[['annotation', 'Sample', 'gene']]\n",
    "snv_gd3_sub['site'] = snv_gd3_sub['gene'] + \" \" + snv_gd3_sub['annotation']\n",
    "snv_gd3_sub = snv_gd3_sub.rename(columns = {'annotation':'coding_region_change'})\n",
    "#snv_gd3_sub.head(60)"
   ]
  },
  {
   "cell_type": "markdown",
   "id": "6c7c185d",
   "metadata": {},
   "source": [
    "## Merging Anhui and GD3 with the Nextstrain list and enmerating occurrences"
   ]
  },
  {
   "cell_type": "code",
   "execution_count": 412,
   "id": "f743f5ef",
   "metadata": {},
   "outputs": [
    {
     "name": "stdout",
     "output_type": "stream",
     "text": [
      "Number of Anhui iSNVs in global surveillance is:  77\n",
      "Confirming that NA is not being read as nsn:  ['NS' 'PA' 'PB2' 'NA' 'NP' 'HA' 'PB1' 'MP']\n"
     ]
    },
    {
     "name": "stderr",
     "output_type": "stream",
     "text": [
      "/var/folders/4h/6r4ld7rx7696y7ff000141z40000gp/T/ipykernel_1280/3743863457.py:33: SettingWithCopyWarning: \n",
      "A value is trying to be set on a copy of a slice from a DataFrame.\n",
      "Try using .loc[row_indexer,col_indexer] = value instead\n",
      "\n",
      "See the caveats in the documentation: https://pandas.pydata.org/pandas-docs/stable/user_guide/indexing.html#returning-a-view-versus-a-copy\n",
      "  both_values_anhui['total_occurrences'] = both_values_anhui['human_mutations'] + both_values_anhui['avian_mutations']\n"
     ]
    }
   ],
   "source": [
    "merged_data_anhui = pd.DataFrame(snv_anhui_sub[['coding_region_change', 'gene', 'Sample', 'site']]).merge(global_isnv, how='left', on=['site', 'coding_region_change', 'gene'])\n",
    "merged_data_anhui = merged_data_anhui.drop_duplicates()\n",
    "merged_data_anhui = merged_data_anhui.drop_duplicates(subset='site', keep=\"first\")\n",
    "merged_data_anhui = merged_data_anhui.fillna(0)\n",
    "#merged_data_anhui['site2'] = merged_data_anhui.coding_region_change.str[1:]\n",
    "\n",
    "# if the iSNV has at least one mutation in Nextstrain tree, label it as human, avian, both\n",
    "# else label as 'none'\n",
    "\n",
    "#list of conditions\n",
    "\n",
    "conditions = [\n",
    "    (merged_data_anhui['avian_mutations'] != 0) & (merged_data_anhui['human_mutations'] == 0),\n",
    "    (merged_data_anhui['human_mutations'] != 0) & (merged_data_anhui['avian_mutations'] == 0),\n",
    "    (merged_data_anhui['avian_mutations'] >= 1) & (merged_data_anhui['human_mutations'] >= 1),\n",
    "    (merged_data_anhui['avian_mutations'] == 0) & (merged_data_anhui['human_mutations'] == 0)]\n",
    "\n",
    "# list of values we want to assign\n",
    "values = ['avian', 'human', 'both', 'none']\n",
    "\n",
    "merged_data_anhui['host'] = np.select(conditions, values)\n",
    "\n",
    "#keeping only those that have at least one occurrence on global samples\n",
    "merged_data_anhui = merged_data_anhui[merged_data_anhui['host'] != 'none']\n",
    "\n",
    "\n",
    "\n",
    "#working on those with values in both human and avian hosts\n",
    "both_values_anhui = merged_data_anhui[merged_data_anhui['host'] == 'both']\n",
    "\n",
    "for value in both_values_anhui['host']:\n",
    "     \n",
    "    both_values_anhui['total_occurrences'] = both_values_anhui['human_mutations'] + both_values_anhui['avian_mutations']\n",
    "    #both_values_anhui['avian_mutations'] = both_values_anhui['avian_mutations'].values[:] = 0\n",
    "\n",
    "print(\"Number of Anhui iSNVs in global surveillance is: \", len(merged_data_anhui))\n",
    "print(\"Confirming that NA is not being read as nsn: \", merged_data_anhui['gene'].unique())\n"
   ]
  },
  {
   "cell_type": "code",
   "execution_count": 416,
   "id": "7d014d08",
   "metadata": {},
   "outputs": [
    {
     "name": "stdout",
     "output_type": "stream",
     "text": [
      "The total number of unique Anhui mutations is : 77\n",
      "The total number of unique Anhui mutations for HA is : 14\n",
      "The total number of unique Anhui mutations for NA is : 8\n",
      "The total number of unique Anhui mutations for PA is : 10\n",
      "The total number of unique Anhui mutations for NP is : 8\n",
      "The total number of unique Anhui mutations for MP is : 4\n",
      "The total number of unique Anhui mutations for NS is : 6\n",
      "The total number of unique Anhui mutations for PB1 is : 8\n",
      "The total number of unique Anhui mutations for PB2 is : 19\n",
      "Total number of human samples:  49\n",
      "Total number of avian samples:  9\n",
      "Total number of samples in both human and birds:  19\n"
     ]
    }
   ],
   "source": [
    "#merged_data_anhui separated by gene\n",
    "\n",
    "print(\"The total number of unique Anhui mutations is :\", len(merged_data_anhui))\n",
    "print(\"The total number of unique Anhui mutations for HA is :\", len(merged_data_anhui[merged_data_anhui['gene']=='HA']))\n",
    "print(\"The total number of unique Anhui mutations for NA is :\", len(merged_data_anhui[merged_data_anhui['gene']=='NA']))\n",
    "print(\"The total number of unique Anhui mutations for PA is :\", len(merged_data_anhui[merged_data_anhui['gene']=='PA']))\n",
    "print(\"The total number of unique Anhui mutations for NP is :\", len(merged_data_anhui[merged_data_anhui['gene']=='NP']))\n",
    "print(\"The total number of unique Anhui mutations for MP is :\", len(merged_data_anhui[merged_data_anhui['gene']=='MP']))\n",
    "print(\"The total number of unique Anhui mutations for NS is :\", len(merged_data_anhui[merged_data_anhui['gene']=='NS']))\n",
    "print(\"The total number of unique Anhui mutations for PB1 is :\", len(merged_data_anhui[merged_data_anhui['gene']=='PB1']))\n",
    "print(\"The total number of unique Anhui mutations for PB2 is :\", len(merged_data_anhui[merged_data_anhui['gene']=='PB2']))\n",
    "print(\"Total number of human samples: \", len(merged_data_anhui[merged_data_anhui['host']=='human']))\n",
    "print(\"Total number of avian samples: \", len(merged_data_anhui[merged_data_anhui['host']=='avian']))\n",
    "print(\"Total number of samples in both human and birds: \", len(merged_data_anhui[merged_data_anhui['host']=='both']))\n"
   ]
  },
  {
   "cell_type": "code",
   "execution_count": 420,
   "id": "39a2eb06",
   "metadata": {},
   "outputs": [
    {
     "name": "stdout",
     "output_type": "stream",
     "text": [
      "The total number of unique anhui mutations is : 49\n",
      "The total number of unique anhui mutations for HA is : 5\n",
      "The total number of unique anhui mutations for NA is : 5\n",
      "The total number of unique anhui mutations for PA is : 5\n",
      "The total number of unique anhui mutations for NP is : 5\n",
      "The total number of unique anhui mutations for MP is : 4\n",
      "The total number of unique anhui mutations for NS is : 3\n",
      "The total number of unique anhui mutations for PB1 is : 6\n",
      "The total number of unique anhui mutations for PB2 is : 16\n",
      "\n",
      "\n",
      "The total number of unique anhui mutations is : 9\n",
      "The total number of unique anhui mutations for HA is : 5\n",
      "The total number of unique anhui mutations for NA is : 3\n",
      "The total number of unique anhui mutations for PA is : 1\n",
      "The total number of unique anhui mutations for NP is : 0\n",
      "The total number of unique anhui mutations for MP is : 0\n",
      "The total number of unique anhui mutations for NS is : 0\n",
      "The total number of unique anhui mutations for PB1 is : 0\n",
      "The total number of unique anhui mutations for PB2 is : 0\n",
      "\n",
      "\n",
      "The total number of unique anhui mutations is : 19\n",
      "The total number of unique anhui mutations for HA is : 4\n",
      "The total number of unique anhui mutations for NA is : 0\n",
      "The total number of unique anhui mutations for PA is : 4\n",
      "The total number of unique anhui mutations for NP is : 3\n",
      "The total number of unique anhui mutations for MP is : 0\n",
      "The total number of unique anhui mutations for NS is : 3\n",
      "The total number of unique anhui mutations for PB1 is : 2\n",
      "The total number of unique anhui mutations for PB2 is : 3\n"
     ]
    }
   ],
   "source": [
    "merged_anhui_human = merged_data_anhui[merged_data_anhui['host']=='human']\n",
    "\n",
    "print(\"The total number of unique anhui mutations is :\", len(merged_anhui_human))\n",
    "print(\"The total number of unique anhui mutations for HA is :\", len(merged_anhui_human[merged_anhui_human['gene']=='HA']))\n",
    "print(\"The total number of unique anhui mutations for NA is :\", len(merged_anhui_human[merged_anhui_human['gene']=='NA']))\n",
    "print(\"The total number of unique anhui mutations for PA is :\", len(merged_anhui_human[merged_anhui_human['gene']=='PA']))\n",
    "print(\"The total number of unique anhui mutations for NP is :\", len(merged_anhui_human[merged_anhui_human['gene']=='NP']))\n",
    "print(\"The total number of unique anhui mutations for MP is :\", len(merged_anhui_human[merged_anhui_human['gene']=='MP']))\n",
    "print(\"The total number of unique anhui mutations for NS is :\", len(merged_anhui_human[merged_anhui_human['gene']=='NS']))\n",
    "print(\"The total number of unique anhui mutations for PB1 is :\", len(merged_anhui_human[merged_anhui_human['gene']=='PB1']))\n",
    "print(\"The total number of unique anhui mutations for PB2 is :\", len(merged_anhui_human[merged_anhui_human['gene']=='PB2']))\n",
    "\n",
    "print('\\n')\n",
    "\n",
    "merged_anhui_avian = merged_data_anhui[merged_data_anhui['host']=='avian']\n",
    "\n",
    "print(\"The total number of unique anhui mutations is :\", len(merged_anhui_avian))\n",
    "print(\"The total number of unique anhui mutations for HA is :\", len(merged_anhui_avian[merged_anhui_avian['gene']=='HA']))\n",
    "print(\"The total number of unique anhui mutations for NA is :\", len(merged_anhui_avian[merged_anhui_avian['gene']=='NA']))\n",
    "print(\"The total number of unique anhui mutations for PA is :\", len(merged_anhui_avian[merged_anhui_avian['gene']=='PA']))\n",
    "print(\"The total number of unique anhui mutations for NP is :\", len(merged_anhui_avian[merged_anhui_avian['gene']=='NP']))\n",
    "print(\"The total number of unique anhui mutations for MP is :\", len(merged_anhui_avian[merged_anhui_avian['gene']=='MP']))\n",
    "print(\"The total number of unique anhui mutations for NS is :\", len(merged_anhui_avian[merged_anhui_avian['gene']=='NS']))\n",
    "print(\"The total number of unique anhui mutations for PB1 is :\", len(merged_anhui_avian[merged_anhui_avian['gene']=='PB1']))\n",
    "print(\"The total number of unique anhui mutations for PB2 is :\", len(merged_anhui_avian[merged_anhui_avian['gene']=='PB2']))\n",
    "\n",
    "print('\\n')\n",
    "\n",
    "merged_anhui_both = merged_data_anhui[merged_data_anhui['host']=='both']\n",
    "\n",
    "print(\"The total number of unique anhui mutations is :\", len(merged_anhui_both))\n",
    "print(\"The total number of unique anhui mutations for HA is :\", len(merged_anhui_both[merged_anhui_both['gene']=='HA']))\n",
    "print(\"The total number of unique anhui mutations for NA is :\", len(merged_anhui_both[merged_anhui_both['gene']=='NA']))\n",
    "print(\"The total number of unique anhui mutations for PA is :\", len(merged_anhui_both[merged_anhui_both['gene']=='PA']))\n",
    "print(\"The total number of unique anhui mutations for NP is :\", len(merged_anhui_both[merged_anhui_both['gene']=='NP']))\n",
    "print(\"The total number of unique anhui mutations for MP is :\", len(merged_anhui_both[merged_anhui_both['gene']=='MP']))\n",
    "print(\"The total number of unique anhui mutations for NS is :\", len(merged_anhui_both[merged_anhui_both['gene']=='NS']))\n",
    "print(\"The total number of unique anhui mutations for PB1 is :\", len(merged_anhui_both[merged_anhui_both['gene']=='PB1']))\n",
    "print(\"The total number of unique anhui mutations for PB2 is :\", len(merged_anhui_both[merged_anhui_both['gene']=='PB2']))\n"
   ]
  },
  {
   "cell_type": "code",
   "execution_count": 417,
   "id": "835f0aa0",
   "metadata": {
    "scrolled": false
   },
   "outputs": [
    {
     "name": "stdout",
     "output_type": "stream",
     "text": [
      "Number of GD/3 iSNVs in global surveillance is:  35\n",
      "Confirming that NA is not being read as nsn:  ['NP' 'NS' 'HA' 'PB2' 'PA' 'MP' 'PB1' 'NA']\n"
     ]
    },
    {
     "name": "stderr",
     "output_type": "stream",
     "text": [
      "/var/folders/4h/6r4ld7rx7696y7ff000141z40000gp/T/ipykernel_1280/33093997.py:33: SettingWithCopyWarning: \n",
      "A value is trying to be set on a copy of a slice from a DataFrame.\n",
      "Try using .loc[row_indexer,col_indexer] = value instead\n",
      "\n",
      "See the caveats in the documentation: https://pandas.pydata.org/pandas-docs/stable/user_guide/indexing.html#returning-a-view-versus-a-copy\n",
      "  both_values_gd3['total_occurrences'] = both_values_gd3['human_mutations'] + both_values_gd3['avian_mutations']\n"
     ]
    }
   ],
   "source": [
    "merged_data_gd3 = pd.DataFrame(snv_gd3_sub[['coding_region_change', 'gene', 'Sample', 'site']]).merge(global_isnv, how='left', on=['site', 'coding_region_change', 'gene'])\n",
    "merged_data_gd3 = merged_data_gd3.drop_duplicates()\n",
    "merged_data_gd3 = merged_data_gd3.drop_duplicates(subset='site', keep=\"first\")\n",
    "merged_data_gd3 = merged_data_gd3.fillna(0)\n",
    "#merged_data_gd3['site2'] = merged_data_gd3.coding_region_change.str[1:]\n",
    "\n",
    "# if the iSNV has at least one mutation in Nextstrain tree, label it as human, avian, both\n",
    "# else label as 'none'\n",
    "\n",
    "#list of conditions\n",
    "\n",
    "conditions = [\n",
    "    (merged_data_gd3['avian_mutations'] != 0) & (merged_data_gd3['human_mutations'] == 0),\n",
    "    (merged_data_gd3['human_mutations'] != 0) & (merged_data_gd3['avian_mutations'] == 0),\n",
    "    (merged_data_gd3['avian_mutations'] >= 1) & (merged_data_gd3['human_mutations'] >= 1),\n",
    "    (merged_data_gd3['avian_mutations'] == 0) & (merged_data_gd3['human_mutations'] == 0)]\n",
    "\n",
    "# list of values we want to assign\n",
    "values = ['avian', 'human', 'both', 'none']\n",
    "\n",
    "merged_data_gd3['host'] = np.select(conditions, values)\n",
    "\n",
    "#keeping only those that have at least one occurrence on global samples\n",
    "merged_data_gd3 = merged_data_gd3[merged_data_gd3['host'] != 'none']\n",
    "\n",
    "\n",
    "\n",
    "#working on those with values in both human and avian hosts\n",
    "both_values_gd3 = merged_data_gd3[merged_data_gd3['host'] == 'both']\n",
    "\n",
    "for value in both_values_gd3['host']:\n",
    "     \n",
    "    both_values_gd3['total_occurrences'] = both_values_gd3['human_mutations'] + both_values_gd3['avian_mutations']\n",
    "    #both_values_gd3['avian_mutations'] = both_values_gd3['avian_mutations'].values[:] = 0\n",
    "\n",
    "print(\"Number of GD/3 iSNVs in global surveillance is: \", len(merged_data_gd3))\n",
    "print(\"Confirming that NA is not being read as nsn: \", merged_data_gd3['gene'].unique())"
   ]
  },
  {
   "cell_type": "code",
   "execution_count": 418,
   "id": "95a34cec",
   "metadata": {},
   "outputs": [
    {
     "name": "stdout",
     "output_type": "stream",
     "text": [
      "The total number of unique gd3 mutations is : 35\n",
      "The total number of unique gd3 mutations for HA is : 5\n",
      "The total number of unique gd3 mutations for NA is : 1\n",
      "The total number of unique gd3 mutations for PA is : 5\n",
      "The total number of unique gd3 mutations for NP is : 4\n",
      "The total number of unique gd3 mutations for MP is : 4\n",
      "The total number of unique gd3 mutations for NS is : 8\n",
      "The total number of unique gd3 mutations for PB1 is : 5\n",
      "The total number of unique gd3 mutations for PB2 is : 3\n",
      "Total number of human samples:  20\n",
      "Total number of avian samples:  8\n",
      "Total number of samples in both human and birds:  7\n"
     ]
    }
   ],
   "source": [
    "#merged_data_gd3 separated by gene\n",
    "\n",
    "print(\"The total number of unique gd3 mutations is :\", len(merged_data_gd3))\n",
    "print(\"The total number of unique gd3 mutations for HA is :\", len(merged_data_gd3[merged_data_gd3['gene']=='HA']))\n",
    "print(\"The total number of unique gd3 mutations for NA is :\", len(merged_data_gd3[merged_data_gd3['gene']=='NA']))\n",
    "print(\"The total number of unique gd3 mutations for PA is :\", len(merged_data_gd3[merged_data_gd3['gene']=='PA']))\n",
    "print(\"The total number of unique gd3 mutations for NP is :\", len(merged_data_gd3[merged_data_gd3['gene']=='NP']))\n",
    "print(\"The total number of unique gd3 mutations for MP is :\", len(merged_data_gd3[merged_data_gd3['gene']=='MP']))\n",
    "print(\"The total number of unique gd3 mutations for NS is :\", len(merged_data_gd3[merged_data_gd3['gene']=='NS']))\n",
    "print(\"The total number of unique gd3 mutations for PB1 is :\", len(merged_data_gd3[merged_data_gd3['gene']=='PB1']))\n",
    "print(\"The total number of unique gd3 mutations for PB2 is :\", len(merged_data_gd3[merged_data_gd3['gene']=='PB2']))\n",
    "print(\"Total number of human samples: \", len(merged_data_gd3[merged_data_gd3['host']=='human']))\n",
    "print(\"Total number of avian samples: \", len(merged_data_gd3[merged_data_gd3['host']=='avian']))\n",
    "print(\"Total number of samples in both human and birds: \", len(merged_data_gd3[merged_data_gd3['host']=='both']))\n",
    "\n"
   ]
  },
  {
   "cell_type": "code",
   "execution_count": 421,
   "id": "92f6680e",
   "metadata": {
    "scrolled": false
   },
   "outputs": [
    {
     "name": "stdout",
     "output_type": "stream",
     "text": [
      "The total number of unique gd3 mutations is : 20\n",
      "The total number of unique gd3 mutations for HA is : 1\n",
      "The total number of unique gd3 mutations for NA is : 1\n",
      "The total number of unique gd3 mutations for PA is : 3\n",
      "The total number of unique gd3 mutations for NP is : 1\n",
      "The total number of unique gd3 mutations for MP is : 2\n",
      "The total number of unique gd3 mutations for NS is : 5\n",
      "The total number of unique gd3 mutations for PB1 is : 5\n",
      "The total number of unique gd3 mutations for PB2 is : 2\n",
      "/n\n",
      "The total number of unique gd3 mutations is : 8\n",
      "The total number of unique gd3 mutations for HA is : 2\n",
      "The total number of unique gd3 mutations for NA is : 0\n",
      "The total number of unique gd3 mutations for PA is : 1\n",
      "The total number of unique gd3 mutations for NP is : 1\n",
      "The total number of unique gd3 mutations for MP is : 1\n",
      "The total number of unique gd3 mutations for NS is : 2\n",
      "The total number of unique gd3 mutations for PB1 is : 0\n",
      "The total number of unique gd3 mutations for PB2 is : 1\n",
      "/n\n",
      "The total number of unique gd3 mutations is : 7\n",
      "The total number of unique gd3 mutations for HA is : 2\n",
      "The total number of unique gd3 mutations for NA is : 0\n",
      "The total number of unique gd3 mutations for PA is : 1\n",
      "The total number of unique gd3 mutations for NP is : 2\n",
      "The total number of unique gd3 mutations for MP is : 1\n",
      "The total number of unique gd3 mutations for NS is : 1\n",
      "The total number of unique gd3 mutations for PB1 is : 0\n",
      "The total number of unique gd3 mutations for PB2 is : 0\n"
     ]
    }
   ],
   "source": [
    "merged_gd3_human = merged_data_gd3[merged_data_gd3['host']=='human']\n",
    "\n",
    "print(\"The total number of unique gd3 mutations is :\", len(merged_gd3_human))\n",
    "print(\"The total number of unique gd3 mutations for HA is :\", len(merged_gd3_human[merged_gd3_human['gene']=='HA']))\n",
    "print(\"The total number of unique gd3 mutations for NA is :\", len(merged_gd3_human[merged_gd3_human['gene']=='NA']))\n",
    "print(\"The total number of unique gd3 mutations for PA is :\", len(merged_gd3_human[merged_gd3_human['gene']=='PA']))\n",
    "print(\"The total number of unique gd3 mutations for NP is :\", len(merged_gd3_human[merged_gd3_human['gene']=='NP']))\n",
    "print(\"The total number of unique gd3 mutations for MP is :\", len(merged_gd3_human[merged_gd3_human['gene']=='MP']))\n",
    "print(\"The total number of unique gd3 mutations for NS is :\", len(merged_gd3_human[merged_gd3_human['gene']=='NS']))\n",
    "print(\"The total number of unique gd3 mutations for PB1 is :\", len(merged_gd3_human[merged_gd3_human['gene']=='PB1']))\n",
    "print(\"The total number of unique gd3 mutations for PB2 is :\", len(merged_gd3_human[merged_gd3_human['gene']=='PB2']))\n",
    "\n",
    "print('/n')\n",
    "\n",
    "merged_gd3_avian = merged_data_gd3[merged_data_gd3['host']=='avian']\n",
    "\n",
    "print(\"The total number of unique gd3 mutations is :\", len(merged_gd3_avian))\n",
    "print(\"The total number of unique gd3 mutations for HA is :\", len(merged_gd3_avian[merged_gd3_avian['gene']=='HA']))\n",
    "print(\"The total number of unique gd3 mutations for NA is :\", len(merged_gd3_avian[merged_gd3_avian['gene']=='NA']))\n",
    "print(\"The total number of unique gd3 mutations for PA is :\", len(merged_gd3_avian[merged_gd3_avian['gene']=='PA']))\n",
    "print(\"The total number of unique gd3 mutations for NP is :\", len(merged_gd3_avian[merged_gd3_avian['gene']=='NP']))\n",
    "print(\"The total number of unique gd3 mutations for MP is :\", len(merged_gd3_avian[merged_gd3_avian['gene']=='MP']))\n",
    "print(\"The total number of unique gd3 mutations for NS is :\", len(merged_gd3_avian[merged_gd3_avian['gene']=='NS']))\n",
    "print(\"The total number of unique gd3 mutations for PB1 is :\", len(merged_gd3_avian[merged_gd3_avian['gene']=='PB1']))\n",
    "print(\"The total number of unique gd3 mutations for PB2 is :\", len(merged_gd3_avian[merged_gd3_avian['gene']=='PB2']))\n",
    "\n",
    "print('/n')\n",
    "\n",
    "merged_gd3_both = merged_data_gd3[merged_data_gd3['host']=='both']\n",
    "\n",
    "print(\"The total number of unique gd3 mutations is :\", len(merged_gd3_both))\n",
    "print(\"The total number of unique gd3 mutations for HA is :\", len(merged_gd3_both[merged_gd3_both['gene']=='HA']))\n",
    "print(\"The total number of unique gd3 mutations for NA is :\", len(merged_gd3_both[merged_gd3_both['gene']=='NA']))\n",
    "print(\"The total number of unique gd3 mutations for PA is :\", len(merged_gd3_both[merged_gd3_both['gene']=='PA']))\n",
    "print(\"The total number of unique gd3 mutations for NP is :\", len(merged_gd3_both[merged_gd3_both['gene']=='NP']))\n",
    "print(\"The total number of unique gd3 mutations for MP is :\", len(merged_gd3_both[merged_gd3_both['gene']=='MP']))\n",
    "print(\"The total number of unique gd3 mutations for NS is :\", len(merged_gd3_both[merged_gd3_both['gene']=='NS']))\n",
    "print(\"The total number of unique gd3 mutations for PB1 is :\", len(merged_gd3_both[merged_gd3_both['gene']=='PB1']))\n",
    "print(\"The total number of unique gd3 mutations for PB2 is :\", len(merged_gd3_both[merged_gd3_both['gene']=='PB2']))\n",
    "\n"
   ]
  },
  {
   "cell_type": "code",
   "execution_count": 336,
   "id": "91b787bd",
   "metadata": {
    "scrolled": false
   },
   "outputs": [
    {
     "data": {
      "text/html": [
       "<div>\n",
       "<style scoped>\n",
       "    .dataframe tbody tr th:only-of-type {\n",
       "        vertical-align: middle;\n",
       "    }\n",
       "\n",
       "    .dataframe tbody tr th {\n",
       "        vertical-align: top;\n",
       "    }\n",
       "\n",
       "    .dataframe thead th {\n",
       "        text-align: right;\n",
       "    }\n",
       "</style>\n",
       "<table border=\"1\" class=\"dataframe\">\n",
       "  <thead>\n",
       "    <tr style=\"text-align: right;\">\n",
       "      <th></th>\n",
       "      <th>site</th>\n",
       "      <th>gene</th>\n",
       "      <th>avian_ocurrences</th>\n",
       "      <th>human_ocurrences</th>\n",
       "      <th>total_ocurrences</th>\n",
       "    </tr>\n",
       "  </thead>\n",
       "  <tbody>\n",
       "    <tr>\n",
       "      <th>94</th>\n",
       "      <td>PB2 D701N</td>\n",
       "      <td>PB2</td>\n",
       "      <td>0.0</td>\n",
       "      <td>29.0</td>\n",
       "      <td>29.0</td>\n",
       "    </tr>\n",
       "    <tr>\n",
       "      <th>76</th>\n",
       "      <td>PB2 P453L</td>\n",
       "      <td>PB2</td>\n",
       "      <td>0.0</td>\n",
       "      <td>2.0</td>\n",
       "      <td>2.0</td>\n",
       "    </tr>\n",
       "    <tr>\n",
       "      <th>15</th>\n",
       "      <td>PB2 D87N</td>\n",
       "      <td>PB2</td>\n",
       "      <td>1.0</td>\n",
       "      <td>0.0</td>\n",
       "      <td>1.0</td>\n",
       "    </tr>\n",
       "    <tr>\n",
       "      <th>52</th>\n",
       "      <td>PB1 R215K</td>\n",
       "      <td>PB1</td>\n",
       "      <td>0.0</td>\n",
       "      <td>5.0</td>\n",
       "      <td>5.0</td>\n",
       "    </tr>\n",
       "    <tr>\n",
       "      <th>65</th>\n",
       "      <td>PB1 R287K</td>\n",
       "      <td>PB1</td>\n",
       "      <td>0.0</td>\n",
       "      <td>1.0</td>\n",
       "      <td>1.0</td>\n",
       "    </tr>\n",
       "  </tbody>\n",
       "</table>\n",
       "</div>"
      ],
      "text/plain": [
       "         site gene  avian_ocurrences  human_ocurrences  total_ocurrences\n",
       "94  PB2 D701N  PB2               0.0              29.0              29.0\n",
       "76  PB2 P453L  PB2               0.0               2.0               2.0\n",
       "15   PB2 D87N  PB2               1.0               0.0               1.0\n",
       "52  PB1 R215K  PB1               0.0               5.0               5.0\n",
       "65  PB1 R287K  PB1               0.0               1.0               1.0"
      ]
     },
     "execution_count": 336,
     "metadata": {},
     "output_type": "execute_result"
    }
   ],
   "source": [
    "## Adding a new column to count total number of occurrences\n",
    "\n",
    "melted_anhui = merged_data_anhui[['site', 'gene', 'avian_mutations', 'human_mutations']]\n",
    "melted_anhui = melted_anhui.sort_values(by=['gene'], ascending=[False])\n",
    "melted_anhui = melted_anhui.rename(columns = {'avian_mutations':'avian_ocurrences', 'human_mutations':'human_ocurrences'})\n",
    "melted_anhui['total_ocurrences'] = melted_anhui['human_ocurrences'] + melted_anhui['avian_ocurrences']\n",
    "\n",
    "melted_gd3 = merged_data_gd3[['site', 'gene', 'avian_mutations', 'human_mutations']]\n",
    "melted_gd3 = melted_gd3.sort_values(by=['gene'], ascending=[False])\n",
    "melted_gd3 = melted_gd3.rename(columns = {'avian_mutations':'avian_ocurrences', 'human_mutations':'human_ocurrences'})\n",
    "melted_gd3['total_ocurrences'] = melted_gd3['human_ocurrences'] + melted_gd3['avian_ocurrences']\n",
    "\n",
    "melted_gd3.head()\n",
    "\n"
   ]
  },
  {
   "cell_type": "markdown",
   "id": "00d34695",
   "metadata": {},
   "source": [
    "# Statistical analysis: Anhui"
   ]
  },
  {
   "cell_type": "code",
   "execution_count": 422,
   "id": "aa205982",
   "metadata": {},
   "outputs": [
    {
     "name": "stdout",
     "output_type": "stream",
     "text": [
      "Avian Shapiro (Anhui):  ShapiroResult(statistic=0.5405429601669312, pvalue=3.798371529415909e-14)\n",
      "\n",
      "\n",
      "Human Shapiro (Anhui):  ShapiroResult(statistic=0.2968701720237732, pvalue=2.0955692722383672e-17)\n",
      "\n",
      "\n",
      "Thus, we can infer that the data from both groups is NOT normally distributed\n",
      "\n",
      "\n"
     ]
    }
   ],
   "source": [
    "#Looking for normal distribution in Anhui\n",
    "\n",
    "#We performed the Shapiro-Wliks test on both groups separately (avian and human)\n",
    "#The tuple contains the test statistics and the p-value. \n",
    "#Here, the null hypothesis is that the data follows a normal distribution. \n",
    "\n",
    "#subsetting groups\n",
    "\n",
    "human_anhui = melted_anhui['avian_ocurrences']\n",
    "avian_anhui = melted_anhui['human_ocurrences']\n",
    "\n",
    "\n",
    "print('Avian Shapiro (Anhui): ', stats.shapiro(avian_anhui))\n",
    "\n",
    "print('\\n')\n",
    "\n",
    "print('Human Shapiro (Anhui): ', stats.shapiro(human_anhui))\n",
    "\n",
    "print('\\n')\n",
    "\n",
    "print(\"Thus, we can infer that the data from both groups is NOT normally distributed\")\n",
    "\n",
    "#Before performing a t-test, we also need to make sure that the variances in the two groups are \n",
    "#equal. Here we used Levene’s test to test for homogeneity/equal of variances:\n",
    "print('\\n')\n",
    "#print(\"Levene's test results: \", stats.levene(human_anhui, avian_anhui))\n",
    "\n",
    "#It is worth noting that our data is fulfilling the assumption of equal variances, \n",
    "#we can use Welch’s t-test instead of Student’s t-test.\n",
    "\n",
    "\n",
    "#print('Avian Mann-WHitney (Anhui): ',stats.mannwhitneyu(avian_anhui, human_anhui, alternative = 'two-sided'))\n",
    "\n",
    "\n"
   ]
  },
  {
   "cell_type": "code",
   "execution_count": 423,
   "id": "9c6b2e38",
   "metadata": {},
   "outputs": [],
   "source": [
    "# Testing Louise statistical analysis\n",
    "\n",
    "#First we add up the total number of human and avian sequences for Anhui\n",
    "avian_total_a = melted_anhui['avian_ocurrences'].sum()\n",
    "human_total_a = melted_anhui['human_ocurrences'].sum()\n"
   ]
  },
  {
   "cell_type": "code",
   "execution_count": 424,
   "id": "c8e5dcd6",
   "metadata": {
    "scrolled": false
   },
   "outputs": [
    {
     "name": "stdout",
     "output_type": "stream",
     "text": [
      "V22I_NA 0.0016273675481954068\n",
      "R44K_NS 7.43750772418044e-05\n",
      "L235Q_HA 0.00048740496163713584\n",
      "D289N_HA 3.4414455310834874e-13\n",
      "K627E_PB2 0.00012981999058124234\n"
     ]
    },
    {
     "data": {
      "text/html": [
       "<div>\n",
       "<style scoped>\n",
       "    .dataframe tbody tr th:only-of-type {\n",
       "        vertical-align: middle;\n",
       "    }\n",
       "\n",
       "    .dataframe tbody tr th {\n",
       "        vertical-align: top;\n",
       "    }\n",
       "\n",
       "    .dataframe thead th {\n",
       "        text-align: right;\n",
       "    }\n",
       "</style>\n",
       "<table border=\"1\" class=\"dataframe\">\n",
       "  <thead>\n",
       "    <tr style=\"text-align: right;\">\n",
       "      <th></th>\n",
       "      <th>coding_region_change</th>\n",
       "      <th>gene</th>\n",
       "      <th>Sample</th>\n",
       "      <th>site</th>\n",
       "      <th>avian_mutations</th>\n",
       "      <th>human_mutations</th>\n",
       "      <th>region_gene</th>\n",
       "      <th>host</th>\n",
       "      <th>p_value</th>\n",
       "      <th>significance</th>\n",
       "    </tr>\n",
       "  </thead>\n",
       "  <tbody>\n",
       "    <tr>\n",
       "      <th>4</th>\n",
       "      <td>V22I</td>\n",
       "      <td>NA</td>\n",
       "      <td>Anhui_ferret25_day1_intersection</td>\n",
       "      <td>NA V22I</td>\n",
       "      <td>6.0</td>\n",
       "      <td>0.0</td>\n",
       "      <td>V22I_NA</td>\n",
       "      <td>avian</td>\n",
       "      <td>1.627368e-03</td>\n",
       "      <td>**</td>\n",
       "    </tr>\n",
       "    <tr>\n",
       "      <th>8</th>\n",
       "      <td>R44K</td>\n",
       "      <td>NS</td>\n",
       "      <td>Anhui_ferret27_day3_intersection</td>\n",
       "      <td>NS R44K</td>\n",
       "      <td>11.0</td>\n",
       "      <td>1.0</td>\n",
       "      <td>R44K_NS</td>\n",
       "      <td>both</td>\n",
       "      <td>7.437508e-05</td>\n",
       "      <td>****</td>\n",
       "    </tr>\n",
       "    <tr>\n",
       "      <th>40</th>\n",
       "      <td>L235Q</td>\n",
       "      <td>HA</td>\n",
       "      <td>Anhui_ferret25_day1_intersection</td>\n",
       "      <td>HA L235Q</td>\n",
       "      <td>9.0</td>\n",
       "      <td>1.0</td>\n",
       "      <td>L235Q_HA</td>\n",
       "      <td>both</td>\n",
       "      <td>4.874050e-04</td>\n",
       "      <td>***</td>\n",
       "    </tr>\n",
       "    <tr>\n",
       "      <th>49</th>\n",
       "      <td>D289N</td>\n",
       "      <td>HA</td>\n",
       "      <td>Anhui_ferret25_day1_intersection</td>\n",
       "      <td>HA D289N</td>\n",
       "      <td>32.0</td>\n",
       "      <td>1.0</td>\n",
       "      <td>D289N_HA</td>\n",
       "      <td>both</td>\n",
       "      <td>3.441446e-13</td>\n",
       "      <td>****</td>\n",
       "    </tr>\n",
       "    <tr>\n",
       "      <th>71</th>\n",
       "      <td>K627E</td>\n",
       "      <td>PB2</td>\n",
       "      <td>Anhui_ferret28_day7_intersection</td>\n",
       "      <td>PB2 K627E</td>\n",
       "      <td>0.0</td>\n",
       "      <td>25.0</td>\n",
       "      <td>K627E_PB2</td>\n",
       "      <td>human</td>\n",
       "      <td>1.298200e-04</td>\n",
       "      <td>***</td>\n",
       "    </tr>\n",
       "  </tbody>\n",
       "</table>\n",
       "</div>"
      ],
      "text/plain": [
       "   coding_region_change gene                            Sample       site  \\\n",
       "4                  V22I   NA  Anhui_ferret25_day1_intersection    NA V22I   \n",
       "8                  R44K   NS  Anhui_ferret27_day3_intersection    NS R44K   \n",
       "40                L235Q   HA  Anhui_ferret25_day1_intersection   HA L235Q   \n",
       "49                D289N   HA  Anhui_ferret25_day1_intersection   HA D289N   \n",
       "71                K627E  PB2  Anhui_ferret28_day7_intersection  PB2 K627E   \n",
       "\n",
       "    avian_mutations  human_mutations region_gene   host       p_value  \\\n",
       "4               6.0              0.0     V22I_NA  avian  1.627368e-03   \n",
       "8              11.0              1.0     R44K_NS   both  7.437508e-05   \n",
       "40              9.0              1.0    L235Q_HA   both  4.874050e-04   \n",
       "49             32.0              1.0    D289N_HA   both  3.441446e-13   \n",
       "71              0.0             25.0   K627E_PB2  human  1.298200e-04   \n",
       "\n",
       "   significance  \n",
       "4            **  \n",
       "8          ****  \n",
       "40          ***  \n",
       "49         ****  \n",
       "71          ***  "
      ]
     },
     "execution_count": 424,
     "metadata": {},
     "output_type": "execute_result"
    }
   ],
   "source": [
    "p_values_anhui = {}\n",
    "\n",
    "for index, row in merged_data_anhui.iterrows():\n",
    "    mutation = row['region_gene']\n",
    "    avian = row['avian_mutations']\n",
    "    human = row['human_mutations']\n",
    "    \n",
    "    table = [[91,181],[avian,human]]\n",
    "    p_value = (stats.fisher_exact(table))[1]\n",
    "        \n",
    "    if p_value < 0.05:\n",
    "        print(mutation, p_value)\n",
    "        \n",
    "    # assign stars\n",
    "    if p_value > 0.01 and p_value < 0.05:\n",
    "        significance = \"*\"\n",
    "\n",
    "    elif p_value > 0.001 and p_value < 0.01:\n",
    "        significance = \"**\"\n",
    "        \n",
    "    elif p_value > 0.0001 and p_value < 0.001:\n",
    "        significance = \"***\"\n",
    "    \n",
    "    elif p_value < 0.0001:\n",
    "        significance = \"****\"\n",
    "        \n",
    "    else: \n",
    "        significance = \"\"\n",
    "            \n",
    "    p_values_anhui[mutation] = {\"p_value\":p_value, \"significance\":significance}\n",
    "    \n",
    "\n",
    "# add p-values to dataframe for plotting\n",
    "x = pd.DataFrame.from_dict(p_values_anhui, orient=\"index\")\n",
    "x = x.reset_index()\n",
    "x.columns = ['region_gene','p_value','significance']\n",
    "x.head()\n",
    "\n",
    "# merge to our original dataframe\n",
    "\n",
    "merged_data_anhui_p_values = merged_data_anhui.merge(x, on=\"region_gene\")\n",
    "merged_data_anhui_p_values[merged_data_anhui_p_values['significance']!= \"\"]"
   ]
  },
  {
   "cell_type": "markdown",
   "id": "bec49545",
   "metadata": {},
   "source": [
    "# Statistical analysis GD3"
   ]
  },
  {
   "cell_type": "code",
   "execution_count": 425,
   "id": "2f8775da",
   "metadata": {},
   "outputs": [
    {
     "name": "stdout",
     "output_type": "stream",
     "text": [
      "Avian Shapiro (GD3):  ShapiroResult(statistic=0.3926880955696106, pvalue=6.749618919332789e-11)\n",
      "\n",
      "\n",
      "Human Shapiro (GD3):  ShapiroResult(statistic=0.7155407667160034, pvalue=6.550538955707452e-07)\n",
      "\n",
      "\n",
      "Thus, we can infer that the data from both groups is NOT normally distributed\n",
      "\n",
      "\n",
      "Levene's test results:  LeveneResult(statistic=1.8825627957772109, pvalue=0.1745527050382665)\n"
     ]
    }
   ],
   "source": [
    "#Looking for normal distribution in GD3\n",
    "\n",
    "#We performed the Shapiro-Wliks test on both groups separately (avian and human)\n",
    "#The tuple contains the test statistics and the p-value. \n",
    "#Here, the null hypothesis is that the data follows a normal distribution. \n",
    "\n",
    "#subsetting groups\n",
    "\n",
    "human_gd3 = melted_gd3['avian_ocurrences']\n",
    "avian_gd3 = melted_gd3['human_ocurrences']\n",
    "\n",
    "\n",
    "print('Avian Shapiro (GD3): ', stats.shapiro(avian_gd3))\n",
    "\n",
    "print('\\n')\n",
    "\n",
    "print('Human Shapiro (GD3): ', stats.shapiro(human_gd3))\n",
    "\n",
    "print('\\n')\n",
    "\n",
    "print(\"Thus, we can infer that the data from both groups is NOT normally distributed\")\n",
    "\n",
    "#Before performing a t-test, we also need to make sure that the variances in the two groups are \n",
    "#equal. Here we used Levene’s test to test for homogeneity/equal of variances:\n",
    "print('\\n')\n",
    "print(\"Levene's test results: \", stats.levene(human_gd3, avian_gd3))\n",
    "\n",
    "#It is worth noting that our data is fulfilling the assumption of equal variances, \n",
    "#we can use Welch’s t-test instead of Student’s t-test.\n",
    "\n",
    "\n",
    "#print('Avian Mann-WHitney (GD3): ',stats.mannwhitneyu(avian_gd3, human_gd3, alternative = 'two-sided'))\n",
    "\n",
    "\n"
   ]
  },
  {
   "cell_type": "code",
   "execution_count": 426,
   "id": "bda3fc39",
   "metadata": {},
   "outputs": [],
   "source": [
    "# Adapting Louise statistical analysis\n",
    "\n",
    "#First we add up the total number of human and avian sequences for GD3\n",
    "avian_total_g = melted_gd3['avian_ocurrences'].sum()\n",
    "human_total_g = melted_gd3['human_ocurrences'].sum()\n",
    "#print(avian_total_g, human_total_g)\n"
   ]
  },
  {
   "cell_type": "code",
   "execution_count": 427,
   "id": "b6e7c6e7",
   "metadata": {
    "scrolled": true
   },
   "outputs": [
    {
     "name": "stdout",
     "output_type": "stream",
     "text": [
      "D701N_PB2 0.003715445622307619\n"
     ]
    },
    {
     "data": {
      "text/html": [
       "<div>\n",
       "<style scoped>\n",
       "    .dataframe tbody tr th:only-of-type {\n",
       "        vertical-align: middle;\n",
       "    }\n",
       "\n",
       "    .dataframe tbody tr th {\n",
       "        vertical-align: top;\n",
       "    }\n",
       "\n",
       "    .dataframe thead th {\n",
       "        text-align: right;\n",
       "    }\n",
       "</style>\n",
       "<table border=\"1\" class=\"dataframe\">\n",
       "  <thead>\n",
       "    <tr style=\"text-align: right;\">\n",
       "      <th></th>\n",
       "      <th>coding_region_change</th>\n",
       "      <th>gene</th>\n",
       "      <th>Sample</th>\n",
       "      <th>site</th>\n",
       "      <th>avian_mutations</th>\n",
       "      <th>human_mutations</th>\n",
       "      <th>region_gene</th>\n",
       "      <th>host</th>\n",
       "      <th>p_value</th>\n",
       "      <th>significance</th>\n",
       "    </tr>\n",
       "  </thead>\n",
       "  <tbody>\n",
       "    <tr>\n",
       "      <th>34</th>\n",
       "      <td>D701N</td>\n",
       "      <td>PB2</td>\n",
       "      <td>GD3_ferret1_day1_intersection</td>\n",
       "      <td>PB2 D701N</td>\n",
       "      <td>0.0</td>\n",
       "      <td>29.0</td>\n",
       "      <td>D701N_PB2</td>\n",
       "      <td>human</td>\n",
       "      <td>0.003715</td>\n",
       "      <td>**</td>\n",
       "    </tr>\n",
       "  </tbody>\n",
       "</table>\n",
       "</div>"
      ],
      "text/plain": [
       "   coding_region_change gene                         Sample       site  \\\n",
       "34                D701N  PB2  GD3_ferret1_day1_intersection  PB2 D701N   \n",
       "\n",
       "    avian_mutations  human_mutations region_gene   host   p_value significance  \n",
       "34              0.0             29.0   D701N_PB2  human  0.003715           **  "
      ]
     },
     "execution_count": 427,
     "metadata": {},
     "output_type": "execute_result"
    }
   ],
   "source": [
    "p_values_gd3 = {}\n",
    "\n",
    "for index, row in merged_data_gd3.iterrows():\n",
    "    mutation = row['region_gene']\n",
    "    avian = row['avian_mutations']\n",
    "    human = row['human_mutations']\n",
    "    \n",
    "    table = [[22,80],[avian,human]]\n",
    "    p_value = (stats.fisher_exact(table))[1]\n",
    "        \n",
    "    if p_value < 0.05:\n",
    "        print(mutation, p_value)\n",
    "        \n",
    "    # assign stars\n",
    "    if p_value > 0.01 and p_value < 0.05:\n",
    "        significance = \"*\"\n",
    "\n",
    "    elif p_value > 0.001 and p_value < 0.01:\n",
    "        significance = \"**\"\n",
    "        \n",
    "    elif p_value > 0.0001 and p_value < 0.001:\n",
    "        significance = \"***\"\n",
    "    \n",
    "    elif p_value < 0.0001:\n",
    "        significance = \"****\"\n",
    "        \n",
    "    else: \n",
    "        significance = \"\"\n",
    "            \n",
    "    p_values_gd3[mutation] = {\"p_value\":p_value, \"significance\":significance}\n",
    "    \n",
    "\n",
    "# add p-values to dataframe for plotting\n",
    "x = pd.DataFrame.from_dict(p_values_gd3, orient=\"index\")\n",
    "x = x.reset_index()\n",
    "x.columns = ['region_gene','p_value','significance']\n",
    "x.head()\n",
    "\n",
    "# merge to our original dataframe\n",
    "\n",
    "merged_data_gd3_p_values = merged_data_gd3.merge(x, on=\"region_gene\")\n",
    "merged_data_gd3_p_values[merged_data_gd3_p_values[\"significance\"]!=\"\"]"
   ]
  },
  {
   "cell_type": "code",
   "execution_count": 428,
   "id": "ec6a7b3e",
   "metadata": {},
   "outputs": [],
   "source": [
    "# Adding a column with the number of gene segments in descending order of size for Anhui\n",
    "\n",
    "conditions = [\n",
    "    (merged_data_anhui_p_values['gene'] == 'PB2'),\n",
    "    (merged_data_anhui_p_values['gene'] == 'PB1'),  \n",
    "    (merged_data_anhui_p_values['gene'] == 'PA'),\n",
    "    (merged_data_anhui_p_values['gene'] == 'HA'),\n",
    "    (merged_data_anhui_p_values['gene'] == 'NP'),\n",
    "    (merged_data_anhui_p_values['gene'] == 'NA'),\n",
    "    (merged_data_anhui_p_values['gene'] == 'MP'),\n",
    "    (merged_data_anhui_p_values['gene'] == 'NS')\n",
    "    ]\n",
    "\n",
    "values = [1,2,3,4,5,6,7,8]\n",
    "\n",
    "merged_data_anhui_p_values['order'] = np.select(conditions, values)"
   ]
  },
  {
   "cell_type": "code",
   "execution_count": 429,
   "id": "27720449",
   "metadata": {},
   "outputs": [],
   "source": [
    "# Adding a column with the number of gene segments in descending order of size for GD/3\n",
    "conditions = [\n",
    "    (merged_data_gd3_p_values['gene'] == 'PB2'),\n",
    "    (merged_data_gd3_p_values['gene'] == 'PB1'),  \n",
    "    (merged_data_gd3_p_values['gene'] == 'PA'),\n",
    "    (merged_data_gd3_p_values['gene'] == 'HA'),\n",
    "    (merged_data_gd3_p_values['gene'] == 'NP'),\n",
    "    (merged_data_gd3_p_values['gene'] == 'NA'),\n",
    "    (merged_data_gd3_p_values['gene'] == 'MP'),\n",
    "    (merged_data_gd3_p_values['gene'] == 'NS')\n",
    "    ]\n",
    "\n",
    "values = [1,2,3,4,5,6,7,8]\n",
    "\n",
    "merged_data_gd3_p_values['order'] = np.select(conditions, values)"
   ]
  },
  {
   "cell_type": "markdown",
   "id": "b8f88992",
   "metadata": {},
   "source": [
    "# Stats on groups as a whole (all 8 gene segments)"
   ]
  },
  {
   "cell_type": "code",
   "execution_count": 430,
   "id": "2d1a0b7c",
   "metadata": {},
   "outputs": [
    {
     "data": {
      "text/html": [
       "<div>\n",
       "<style scoped>\n",
       "    .dataframe tbody tr th:only-of-type {\n",
       "        vertical-align: middle;\n",
       "    }\n",
       "\n",
       "    .dataframe tbody tr th {\n",
       "        vertical-align: top;\n",
       "    }\n",
       "\n",
       "    .dataframe thead th {\n",
       "        text-align: right;\n",
       "    }\n",
       "</style>\n",
       "<table border=\"1\" class=\"dataframe\">\n",
       "  <thead>\n",
       "    <tr style=\"text-align: right;\">\n",
       "      <th></th>\n",
       "      <th>coding_region_change</th>\n",
       "      <th>gene</th>\n",
       "      <th>Sample</th>\n",
       "      <th>site</th>\n",
       "      <th>avian_mutations</th>\n",
       "      <th>human_mutations</th>\n",
       "      <th>region_gene</th>\n",
       "      <th>host</th>\n",
       "    </tr>\n",
       "  </thead>\n",
       "  <tbody>\n",
       "    <tr>\n",
       "      <th>2</th>\n",
       "      <td>V33I</td>\n",
       "      <td>NP</td>\n",
       "      <td>GD3_ferret7_day7_intersection</td>\n",
       "      <td>NP V33I</td>\n",
       "      <td>2.0</td>\n",
       "      <td>1.0</td>\n",
       "      <td>V33I_NP</td>\n",
       "      <td>both</td>\n",
       "    </tr>\n",
       "    <tr>\n",
       "      <th>3</th>\n",
       "      <td>S34G</td>\n",
       "      <td>NP</td>\n",
       "      <td>GD3_ferret5_day3_intersection</td>\n",
       "      <td>NP S34G</td>\n",
       "      <td>1.0</td>\n",
       "      <td>0.0</td>\n",
       "      <td>S34G_NP</td>\n",
       "      <td>avian</td>\n",
       "    </tr>\n",
       "    <tr>\n",
       "      <th>4</th>\n",
       "      <td>S48N</td>\n",
       "      <td>NS</td>\n",
       "      <td>GD3_ferret7_day3_intersection</td>\n",
       "      <td>NS S48N</td>\n",
       "      <td>0.0</td>\n",
       "      <td>1.0</td>\n",
       "      <td>S48N_NS</td>\n",
       "      <td>human</td>\n",
       "    </tr>\n",
       "    <tr>\n",
       "      <th>6</th>\n",
       "      <td>V65M</td>\n",
       "      <td>NS</td>\n",
       "      <td>GD3_ferret1_day3_intersection</td>\n",
       "      <td>NS V65M</td>\n",
       "      <td>0.0</td>\n",
       "      <td>1.0</td>\n",
       "      <td>V65M_NS</td>\n",
       "      <td>human</td>\n",
       "    </tr>\n",
       "    <tr>\n",
       "      <th>7</th>\n",
       "      <td>R65K</td>\n",
       "      <td>NP</td>\n",
       "      <td>GD3_ferret7_day7_intersection</td>\n",
       "      <td>NP R65K</td>\n",
       "      <td>0.0</td>\n",
       "      <td>1.0</td>\n",
       "      <td>R65K_NP</td>\n",
       "      <td>human</td>\n",
       "    </tr>\n",
       "  </tbody>\n",
       "</table>\n",
       "</div>"
      ],
      "text/plain": [
       "  coding_region_change gene                         Sample     site  \\\n",
       "2                 V33I   NP  GD3_ferret7_day7_intersection  NP V33I   \n",
       "3                 S34G   NP  GD3_ferret5_day3_intersection  NP S34G   \n",
       "4                 S48N   NS  GD3_ferret7_day3_intersection  NS S48N   \n",
       "6                 V65M   NS  GD3_ferret1_day3_intersection  NS V65M   \n",
       "7                 R65K   NP  GD3_ferret7_day7_intersection  NP R65K   \n",
       "\n",
       "   avian_mutations  human_mutations region_gene   host  \n",
       "2              2.0              1.0     V33I_NP   both  \n",
       "3              1.0              0.0     S34G_NP  avian  \n",
       "4              0.0              1.0     S48N_NS  human  \n",
       "6              0.0              1.0     V65M_NS  human  \n",
       "7              0.0              1.0     R65K_NP  human  "
      ]
     },
     "execution_count": 430,
     "metadata": {},
     "output_type": "execute_result"
    }
   ],
   "source": [
    "# datasets to use\n",
    "\n",
    "merged_data_anhui.head()\n",
    "merged_data_gd3.head()"
   ]
  },
  {
   "cell_type": "code",
   "execution_count": 431,
   "id": "149d77fc",
   "metadata": {},
   "outputs": [],
   "source": [
    "#obtaining lengths of both lists in Anhui\n",
    "data_of_human_anhui = merged_data_anhui['human_mutations']\n",
    "data_of_avian_anhui = merged_data_anhui['avian_mutations']\n",
    "\n",
    "#obtaining lengths of both lists in GD/3\n",
    "data_of_human_gd3 = merged_data_gd3['human_mutations']\n",
    "data_of_avian_gd3 = merged_data_gd3['avian_mutations']\n",
    "\n"
   ]
  },
  {
   "cell_type": "code",
   "execution_count": 432,
   "id": "375b795d",
   "metadata": {},
   "outputs": [
    {
     "name": "stdout",
     "output_type": "stream",
     "text": [
      "Avian Shapiro:  ShapiroResult(statistic=0.2968701720237732, pvalue=2.0955692722383672e-17)\n",
      "\n",
      "\n",
      "Human Shapiro:  ShapiroResult(statistic=0.5405429601669312, pvalue=3.798371529415909e-14)\n",
      "\n",
      "\n",
      "Levene's test results:  LeveneResult(statistic=0.48193311690025603, pvalue=0.4886076591080465)\n"
     ]
    }
   ],
   "source": [
    "print('Avian Shapiro: ', stats.shapiro(data_of_avian_anhui))\n",
    "\n",
    "print('\\n')\n",
    "\n",
    "print('Human Shapiro: ', stats.shapiro(data_of_human_anhui))\n",
    "\n",
    "print('\\n')\n",
    "\n",
    "print(\"Levene's test results: \", stats.levene(data_of_human_anhui, data_of_avian_anhui))"
   ]
  },
  {
   "cell_type": "code",
   "execution_count": 433,
   "id": "bd4a545e",
   "metadata": {},
   "outputs": [
    {
     "name": "stdout",
     "output_type": "stream",
     "text": [
      "Assuming equal variances in Anhui/1:  Ttest_indResult(statistic=1.9889422880129697, pvalue=0.04850238769815017)\n",
      "\n",
      "\n",
      "Assuming equal variances in GD/3:  Ttest_indResult(statistic=1.9802910121061505, pvalue=0.05171875958577742)\n"
     ]
    }
   ],
   "source": [
    "stats_var_anhui = stats.ttest_ind(data_of_human_anhui, data_of_avian_anhui, \n",
    "                      equal_var=True)\n",
    "\n",
    "stats_var_gd3 = stats.ttest_ind(data_of_human_gd3, data_of_avian_gd3, \n",
    "                      equal_var=True)\n",
    "\n",
    "print(\"Assuming equal variances in Anhui/1: \", stats_var_anhui)\n",
    "print('\\n')\n",
    "print(\"Assuming equal variances in GD/3: \", stats_var_gd3)"
   ]
  },
  {
   "cell_type": "markdown",
   "id": "98d857fc",
   "metadata": {},
   "source": [
    "# Plotting"
   ]
  },
  {
   "cell_type": "code",
   "execution_count": 434,
   "id": "4ec39645",
   "metadata": {
    "scrolled": false
   },
   "outputs": [
    {
     "data": {
      "image/png": "[encoded data removed]",
      "text/plain": [
       "<Figure size 360x720 with 1 Axes>"
      ]
     },
     "metadata": {
      "needs_background": "light"
     },
     "output_type": "display_data"
    }
   ],
   "source": [
    "merged_data_anhui_p_values\n",
    "\n",
    "#new = new_df[((new_df['human_mutations']!= 0) & (new_df['avian_mutations'] > 1))] # & (new_df['human_mutations'] != 0))]# | ((new_df['human_mutations'] > 1) & (new_df['avian_mutations'] != 0))]\n",
    "anhui_cleaned = merged_data_anhui_p_values.drop(merged_data_anhui_p_values[(merged_data_anhui_p_values['human_mutations'] == 0) & (merged_data_anhui_p_values['avian_mutations'] <= 1)].index)\n",
    "anhui_cleaned = anhui_cleaned.drop(anhui_cleaned[(anhui_cleaned['avian_mutations'] == 0) & (anhui_cleaned['human_mutations'] <= 1)].index)\n",
    "len(anhui_cleaned)\n",
    "\n",
    "anhui_cleaned = anhui_cleaned.sort_values(by = 'order', ascending=False)\n",
    "df = anhui_cleaned[['site', 'avian_mutations', 'human_mutations']]\n",
    "df.set_index('site', inplace=True)\n",
    "\n",
    "\n",
    "font_color = '#000000'\n",
    "csfont = {'fontname':'Arial'} # title font\n",
    "hfont = {'fontname':'Arial'} # main font\n",
    "colors = [\"#046F5D\", \"#C7A12D\"]\n",
    "\n",
    "ax = df.iloc[:, 0:2].plot.barh(align='center', stacked=True, figsize=(5, 10), color=colors)\n",
    "plt.tight_layout()\n",
    "ax.set_facecolor('white')\n",
    "\n",
    "plt.xticks(color=font_color, **hfont, fontsize=15)\n",
    "plt.yticks(color=font_color, **hfont, fontsize=15)\n",
    "plt.ylabel('Anhui mutations in H7N9 segments', fontsize=20, **hfont)\n",
    "plt.xlabel('Total number of ocurrences', fontsize=20, **hfont)\n",
    "#plt.axes()\n",
    "plt.xlim(0,35)\n",
    "for s in ['top', 'right']:\n",
    "    ax.spines[s].set_visible(False)\n",
    "\n",
    "\n",
    "plt.savefig('figures/anhui_mutations_fig_6.png', dpi=600, bbox_inches='tight')\n",
    "plt.savefig('figures/anhui_mutations_fig_6.pdf', dpi=600, bbox_inches='tight') \n",
    "plt.savefig('figures/anhui_mutations_fig_6.svg', dpi=600, bbox_inches='tight')\n",
    "plt.show()\n",
    "\n",
    "\n",
    "\n"
   ]
  },
  {
   "cell_type": "code",
   "execution_count": 435,
   "id": "af19575b",
   "metadata": {},
   "outputs": [
    {
     "data": {
      "image/png": "[encoded data removed]",
      "text/plain": [
       "<Figure size 360x1080 with 1 Axes>"
      ]
     },
     "metadata": {
      "needs_background": "light"
     },
     "output_type": "display_data"
    }
   ],
   "source": [
    "merged_data_anhui_p_values\n",
    "anhui_cleaned = merged_data_anhui_p_values\n",
    "\n",
    "len(anhui_cleaned)\n",
    "\n",
    "anhui_cleaned = anhui_cleaned.sort_values(by = 'order', ascending=False)\n",
    "df = anhui_cleaned[['site', 'avian_mutations', 'human_mutations']]\n",
    "df.set_index('site', inplace=True)\n",
    "\n",
    "\n",
    "font_color = '#000000'\n",
    "csfont = {'fontname':'Arial'} # title font\n",
    "hfont = {'fontname':'Arial'} # main font\n",
    "colors = [\"#046F5D\", \"#C7A12D\"]\n",
    "\n",
    "ax = df.iloc[:, 0:2].plot.barh(align='center', stacked=True, figsize=(5, 15), color=colors)\n",
    "plt.tight_layout()\n",
    "ax.set_facecolor('white')\n",
    "\n",
    "plt.xticks(color=font_color, **hfont, fontsize=15)\n",
    "plt.yticks(color=font_color, **hfont, fontsize=15)\n",
    "plt.ylabel('Anhui mutations in H7N9 segments', fontsize=20, **hfont)\n",
    "plt.xlabel('Total number of ocurrences', fontsize=20, **hfont)\n",
    "#plt.axes()\n",
    "plt.xlim(0,35)\n",
    "for s in ['top', 'right']:\n",
    "    ax.spines[s].set_visible(False)\n",
    "\n",
    "\n",
    "plt.savefig('figures/anhui_mutations_sup_fig_6.png', dpi=600, bbox_inches='tight')\n",
    "plt.savefig('figures/anhui_mutations_sup_fig_6.pdf', dpi=600, bbox_inches='tight') \n",
    "plt.savefig('figures/anhui_mutations_sup_fig_6.svg', dpi=600, bbox_inches='tight')\n",
    "plt.show()\n",
    "\n",
    "\n",
    "\n",
    "\n"
   ]
  },
  {
   "cell_type": "code",
   "execution_count": 436,
   "id": "dd183458",
   "metadata": {},
   "outputs": [
    {
     "data": {
      "image/png": "[encoded data removed]",
      "text/plain": [
       "<Figure size 360x288 with 1 Axes>"
      ]
     },
     "metadata": {
      "needs_background": "light"
     },
     "output_type": "display_data"
    }
   ],
   "source": [
    "merged_data_gd3_p_values\n",
    "\n",
    "#new = new_df[((new_df['human_mutations']!= 0) & (new_df['avian_mutations'] > 1))] # & (new_df['human_mutations'] != 0))]# | ((new_df['human_mutations'] > 1) & (new_df['avian_mutations'] != 0))]\n",
    "gd3_cleaned = merged_data_gd3_p_values.drop(merged_data_gd3_p_values[(merged_data_gd3_p_values['human_mutations'] == 0) & (merged_data_gd3_p_values['avian_mutations'] <= 1)].index)\n",
    "gd3_cleaned = gd3_cleaned.drop(gd3_cleaned[(gd3_cleaned['avian_mutations'] == 0) & (gd3_cleaned['human_mutations'] <= 1)].index)\n",
    "len(gd3_cleaned)\n",
    "\n",
    "gd3_cleaned = gd3_cleaned.sort_values(by = 'order', ascending=False)\n",
    "df = gd3_cleaned[['site', 'avian_mutations', 'human_mutations']]\n",
    "df.set_index('site', inplace=True)\n",
    "\n",
    "\n",
    "font_color = '#000000'\n",
    "csfont = {'fontname':'Arial'} # title font\n",
    "hfont = {'fontname':'Arial'} # main font\n",
    "colors = [\"#046F5D\", \"#C7A12D\"]\n",
    "\n",
    "ax = df.iloc[:, 0:2].plot.barh(align='center', stacked=True, figsize=(5, 4), color=colors)\n",
    "plt.tight_layout()\n",
    "ax.set_facecolor('white')\n",
    "\n",
    "plt.xticks(color=font_color, **hfont, fontsize=15)\n",
    "plt.yticks(color=font_color, **hfont, fontsize=15)\n",
    "plt.ylabel('GD3 mutations in H7N9 segments', fontsize=20, **hfont)\n",
    "plt.xlabel('Total number of ocurrences', fontsize=20, **hfont)\n",
    "#plt.axes()\n",
    "plt.xlim(0,35)\n",
    "for s in ['top', 'right']:\n",
    "    ax.spines[s].set_visible(False)\n",
    "\n",
    "#legend = plt.legend(loc='lower right',\n",
    "#       frameon=False,\n",
    "       #bbox_to_anchor=(0., 1.02, 1., .102), \n",
    "       #mode='expand', \n",
    "#       ncol=1, \n",
    "#       borderaxespad=-.46,\n",
    "#       prop={'size': 18, 'family':'Arial'})\n",
    "\n",
    "plt.savefig('figures/gd3_mutations_fig_6.png', dpi=600, bbox_inches='tight')\n",
    "plt.savefig('figures/gd3_mutations_fig_6.pdf', dpi=600, bbox_inches='tight') \n",
    "plt.savefig('figures/gd3_mutations_fig_6.svg', dpi=600, bbox_inches='tight')\n",
    "plt.show()\n",
    "\n",
    "\n",
    "\n",
    "\n"
   ]
  },
  {
   "cell_type": "code",
   "execution_count": 437,
   "id": "52326e38",
   "metadata": {},
   "outputs": [
    {
     "data": {
      "image/png": "[encoded data removed]",
      "text/plain": [
       "<Figure size 360x576 with 1 Axes>"
      ]
     },
     "metadata": {
      "needs_background": "light"
     },
     "output_type": "display_data"
    }
   ],
   "source": [
    "merged_data_gd3_p_values\n",
    "\n",
    "#new = new_df[((new_df['human_mutations']!= 0) & (new_df['avian_mutations'] > 1))] # & (new_df['human_mutations'] != 0))]# | ((new_df['human_mutations'] > 1) & (new_df['avian_mutations'] != 0))]\n",
    "gd3_cleaned = merged_data_gd3_p_values.drop(merged_data_gd3_p_values[(merged_data_gd3_p_values['human_mutations'] == 0) & (merged_data_gd3_p_values['avian_mutations'] <= 1)].index)\n",
    "#gd3_cleaned = gd3_cleaned.drop(gd3_cleaned[(gd3_cleaned['avian_mutations'] == 0) & (gd3_cleaned['human_mutations'] <= 1)].index)\n",
    "len(gd3_cleaned)\n",
    "\n",
    "gd3_cleaned = gd3_cleaned.sort_values(by = 'order', ascending=False)\n",
    "df = gd3_cleaned[['site', 'avian_mutations', 'human_mutations']]\n",
    "df.set_index('site', inplace=True)\n",
    "\n",
    "\n",
    "font_color = '#000000'\n",
    "csfont = {'fontname':'Arial'} # title font\n",
    "hfont = {'fontname':'Arial'} # main font\n",
    "colors = [\"#046F5D\", \"#C7A12D\"]\n",
    "\n",
    "ax = df.iloc[:, 0:2].plot.barh(align='center', stacked=True, figsize=(5, 8), color=colors)\n",
    "plt.tight_layout()\n",
    "ax.set_facecolor('white')\n",
    "\n",
    "plt.xticks(color=font_color, **hfont, fontsize=15)\n",
    "plt.yticks(color=font_color, **hfont, fontsize=15)\n",
    "plt.ylabel('GD3 mutations in H7N9 segments', fontsize=20, **hfont)\n",
    "plt.xlabel('Total number of ocurrences', fontsize=20, **hfont)\n",
    "#plt.axes()\n",
    "plt.xlim(0,35)\n",
    "for s in ['top', 'right']:\n",
    "    ax.spines[s].set_visible(False)\n",
    "\n",
    "#legend = plt.legend(loc='lower right',\n",
    "#       frameon=False,\n",
    "       #bbox_to_anchor=(0., 1.02, 1., .102), \n",
    "       #mode='expand', \n",
    "#       ncol=1, \n",
    "#       borderaxespad=-.46,\n",
    "#       prop={'size': 18, 'family':'Arial'})\n",
    "\n",
    "plt.savefig('figures/gd3_mutations_sup_fig_6.png', dpi=600, bbox_inches='tight')\n",
    "plt.savefig('figures/gd3_mutations_sup_fig_6.pdf', dpi=600, bbox_inches='tight') \n",
    "plt.savefig('figures/gd3_mutations_sup_fig_6.svg', dpi=600, bbox_inches='tight')\n",
    "plt.show()\n",
    "\n",
    "\n",
    "\n",
    "\n",
    "\n"
   ]
  }
 ],
 "metadata": {
  "kernelspec": {
   "display_name": "Python 3 (ipykernel)",
   "language": "python",
   "name": "python3"
  },
  "language_info": {
   "codemirror_mode": {
    "name": "ipython",
    "version": 3
   },
   "file_extension": ".py",
   "mimetype": "text/x-python",
   "name": "python",
   "nbconvert_exporter": "python",
   "pygments_lexer": "ipython3",
   "version": "3.8.5"
  }
 },
 "nbformat": 4,
 "nbformat_minor": 5
}
